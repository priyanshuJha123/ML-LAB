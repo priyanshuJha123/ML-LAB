{
 "cells": [
  {
   "cell_type": "code",
   "execution_count": 15,
   "metadata": {},
   "outputs": [],
   "source": [
    "#priyanshu jha\n",
    "#cse21165\n",
    "import pandas as pd\n",
    "import numpy as np\n",
    "import matplotlib.pyplot as plt\n",
    "import plotly.express as px"
   ]
  },
  {
   "cell_type": "code",
   "execution_count": 16,
   "metadata": {},
   "outputs": [],
   "source": [
    "data = pd.read_csv('swiggy.csv');"
   ]
  },
  {
   "cell_type": "code",
   "execution_count": 17,
   "metadata": {},
   "outputs": [
    {
     "data": {
      "text/plain": [
       "Index(['ID', 'Area', 'City', 'Restaurant', 'Price', 'Avg ratings',\n",
       "       'Total ratings', 'Food type', 'Address', 'Delivery time'],\n",
       "      dtype='object')"
      ]
     },
     "execution_count": 17,
     "metadata": {},
     "output_type": "execute_result"
    }
   ],
   "source": [
    "data.columns"
   ]
  },
  {
   "cell_type": "code",
   "execution_count": 18,
   "metadata": {},
   "outputs": [
    {
     "data": {
      "text/html": [
       "<div>\n",
       "<style scoped>\n",
       "    .dataframe tbody tr th:only-of-type {\n",
       "        vertical-align: middle;\n",
       "    }\n",
       "\n",
       "    .dataframe tbody tr th {\n",
       "        vertical-align: top;\n",
       "    }\n",
       "\n",
       "    .dataframe thead th {\n",
       "        text-align: right;\n",
       "    }\n",
       "</style>\n",
       "<table border=\"1\" class=\"dataframe\">\n",
       "  <thead>\n",
       "    <tr style=\"text-align: right;\">\n",
       "      <th></th>\n",
       "      <th>ID</th>\n",
       "      <th>Area</th>\n",
       "      <th>City</th>\n",
       "      <th>Restaurant</th>\n",
       "      <th>Price</th>\n",
       "      <th>Avg ratings</th>\n",
       "      <th>Total ratings</th>\n",
       "      <th>Food type</th>\n",
       "      <th>Address</th>\n",
       "      <th>Delivery time</th>\n",
       "    </tr>\n",
       "  </thead>\n",
       "  <tbody>\n",
       "    <tr>\n",
       "      <th>0</th>\n",
       "      <td>211</td>\n",
       "      <td>Koramangala</td>\n",
       "      <td>Bangalore</td>\n",
       "      <td>Tandoor Hut</td>\n",
       "      <td>300.0</td>\n",
       "      <td>4.4</td>\n",
       "      <td>100</td>\n",
       "      <td>Biryani,Chinese,North Indian,South Indian</td>\n",
       "      <td>5Th Block</td>\n",
       "      <td>59</td>\n",
       "    </tr>\n",
       "    <tr>\n",
       "      <th>1</th>\n",
       "      <td>221</td>\n",
       "      <td>Koramangala</td>\n",
       "      <td>Bangalore</td>\n",
       "      <td>Tunday Kababi</td>\n",
       "      <td>300.0</td>\n",
       "      <td>4.1</td>\n",
       "      <td>100</td>\n",
       "      <td>Mughlai,Lucknowi</td>\n",
       "      <td>5Th Block</td>\n",
       "      <td>56</td>\n",
       "    </tr>\n",
       "    <tr>\n",
       "      <th>2</th>\n",
       "      <td>246</td>\n",
       "      <td>Jogupalya</td>\n",
       "      <td>Bangalore</td>\n",
       "      <td>Kim Lee</td>\n",
       "      <td>650.0</td>\n",
       "      <td>4.4</td>\n",
       "      <td>100</td>\n",
       "      <td>Chinese</td>\n",
       "      <td>Double Road</td>\n",
       "      <td>50</td>\n",
       "    </tr>\n",
       "    <tr>\n",
       "      <th>3</th>\n",
       "      <td>248</td>\n",
       "      <td>Indiranagar</td>\n",
       "      <td>Bangalore</td>\n",
       "      <td>New Punjabi Hotel</td>\n",
       "      <td>250.0</td>\n",
       "      <td>3.9</td>\n",
       "      <td>500</td>\n",
       "      <td>North Indian,Punjabi,Tandoor,Chinese</td>\n",
       "      <td>80 Feet Road</td>\n",
       "      <td>57</td>\n",
       "    </tr>\n",
       "    <tr>\n",
       "      <th>4</th>\n",
       "      <td>249</td>\n",
       "      <td>Indiranagar</td>\n",
       "      <td>Bangalore</td>\n",
       "      <td>Nh8</td>\n",
       "      <td>350.0</td>\n",
       "      <td>4.0</td>\n",
       "      <td>50</td>\n",
       "      <td>Rajasthani,Gujarati,North Indian,Snacks,Desser...</td>\n",
       "      <td>80 Feet Road</td>\n",
       "      <td>63</td>\n",
       "    </tr>\n",
       "  </tbody>\n",
       "</table>\n",
       "</div>"
      ],
      "text/plain": [
       "    ID         Area       City         Restaurant  Price  Avg ratings  \\\n",
       "0  211  Koramangala  Bangalore        Tandoor Hut  300.0          4.4   \n",
       "1  221  Koramangala  Bangalore      Tunday Kababi  300.0          4.1   \n",
       "2  246    Jogupalya  Bangalore            Kim Lee  650.0          4.4   \n",
       "3  248  Indiranagar  Bangalore  New Punjabi Hotel  250.0          3.9   \n",
       "4  249  Indiranagar  Bangalore                Nh8  350.0          4.0   \n",
       "\n",
       "   Total ratings                                          Food type  \\\n",
       "0            100          Biryani,Chinese,North Indian,South Indian   \n",
       "1            100                                   Mughlai,Lucknowi   \n",
       "2            100                                            Chinese   \n",
       "3            500               North Indian,Punjabi,Tandoor,Chinese   \n",
       "4             50  Rajasthani,Gujarati,North Indian,Snacks,Desser...   \n",
       "\n",
       "        Address  Delivery time  \n",
       "0     5Th Block             59  \n",
       "1     5Th Block             56  \n",
       "2   Double Road             50  \n",
       "3  80 Feet Road             57  \n",
       "4  80 Feet Road             63  "
      ]
     },
     "execution_count": 18,
     "metadata": {},
     "output_type": "execute_result"
    }
   ],
   "source": [
    "data.head()"
   ]
  },
  {
   "cell_type": "code",
   "execution_count": 19,
   "metadata": {},
   "outputs": [
    {
     "name": "stderr",
     "output_type": "stream",
     "text": [
      "C:\\Users\\DELL\\AppData\\Local\\Temp\\ipykernel_1120\\3283496973.py:1: FutureWarning: The default value of numeric_only in DataFrameGroupBy.mean is deprecated. In a future version, numeric_only will default to False. Either specify numeric_only or select only columns which should be valid for the function.\n",
      "  data.groupby('Price').mean()\n"
     ]
    },
    {
     "data": {
      "text/html": [
       "<div>\n",
       "<style scoped>\n",
       "    .dataframe tbody tr th:only-of-type {\n",
       "        vertical-align: middle;\n",
       "    }\n",
       "\n",
       "    .dataframe tbody tr th {\n",
       "        vertical-align: top;\n",
       "    }\n",
       "\n",
       "    .dataframe thead th {\n",
       "        text-align: right;\n",
       "    }\n",
       "</style>\n",
       "<table border=\"1\" class=\"dataframe\">\n",
       "  <thead>\n",
       "    <tr style=\"text-align: right;\">\n",
       "      <th></th>\n",
       "      <th>ID</th>\n",
       "      <th>Avg ratings</th>\n",
       "      <th>Total ratings</th>\n",
       "      <th>Delivery time</th>\n",
       "    </tr>\n",
       "    <tr>\n",
       "      <th>Price</th>\n",
       "      <th></th>\n",
       "      <th></th>\n",
       "      <th></th>\n",
       "      <th></th>\n",
       "    </tr>\n",
       "  </thead>\n",
       "  <tbody>\n",
       "    <tr>\n",
       "      <th>0.0</th>\n",
       "      <td>109054.400000</td>\n",
       "      <td>3.480000</td>\n",
       "      <td>60.000000</td>\n",
       "      <td>48.200000</td>\n",
       "    </tr>\n",
       "    <tr>\n",
       "      <th>1.0</th>\n",
       "      <td>352002.500000</td>\n",
       "      <td>3.200000</td>\n",
       "      <td>85.000000</td>\n",
       "      <td>58.000000</td>\n",
       "    </tr>\n",
       "    <tr>\n",
       "      <th>2.0</th>\n",
       "      <td>432082.500000</td>\n",
       "      <td>2.900000</td>\n",
       "      <td>80.000000</td>\n",
       "      <td>66.000000</td>\n",
       "    </tr>\n",
       "    <tr>\n",
       "      <th>5.0</th>\n",
       "      <td>460439.000000</td>\n",
       "      <td>2.900000</td>\n",
       "      <td>80.000000</td>\n",
       "      <td>44.000000</td>\n",
       "    </tr>\n",
       "    <tr>\n",
       "      <th>10.0</th>\n",
       "      <td>438421.000000</td>\n",
       "      <td>2.900000</td>\n",
       "      <td>80.000000</td>\n",
       "      <td>76.000000</td>\n",
       "    </tr>\n",
       "    <tr>\n",
       "      <th>...</th>\n",
       "      <td>...</td>\n",
       "      <td>...</td>\n",
       "      <td>...</td>\n",
       "      <td>...</td>\n",
       "    </tr>\n",
       "    <tr>\n",
       "      <th>1700.0</th>\n",
       "      <td>16770.000000</td>\n",
       "      <td>3.800000</td>\n",
       "      <td>50.000000</td>\n",
       "      <td>44.000000</td>\n",
       "    </tr>\n",
       "    <tr>\n",
       "      <th>1800.0</th>\n",
       "      <td>168725.666667</td>\n",
       "      <td>3.400000</td>\n",
       "      <td>86.666667</td>\n",
       "      <td>55.666667</td>\n",
       "    </tr>\n",
       "    <tr>\n",
       "      <th>1900.0</th>\n",
       "      <td>230727.333333</td>\n",
       "      <td>3.366667</td>\n",
       "      <td>70.000000</td>\n",
       "      <td>57.333333</td>\n",
       "    </tr>\n",
       "    <tr>\n",
       "      <th>2000.0</th>\n",
       "      <td>262550.750000</td>\n",
       "      <td>3.675000</td>\n",
       "      <td>70.000000</td>\n",
       "      <td>47.250000</td>\n",
       "    </tr>\n",
       "    <tr>\n",
       "      <th>2500.0</th>\n",
       "      <td>331945.666667</td>\n",
       "      <td>4.333333</td>\n",
       "      <td>30.000000</td>\n",
       "      <td>55.000000</td>\n",
       "    </tr>\n",
       "  </tbody>\n",
       "</table>\n",
       "<p>120 rows × 4 columns</p>\n",
       "</div>"
      ],
      "text/plain": [
       "                   ID  Avg ratings  Total ratings  Delivery time\n",
       "Price                                                           \n",
       "0.0     109054.400000     3.480000      60.000000      48.200000\n",
       "1.0     352002.500000     3.200000      85.000000      58.000000\n",
       "2.0     432082.500000     2.900000      80.000000      66.000000\n",
       "5.0     460439.000000     2.900000      80.000000      44.000000\n",
       "10.0    438421.000000     2.900000      80.000000      76.000000\n",
       "...               ...          ...            ...            ...\n",
       "1700.0   16770.000000     3.800000      50.000000      44.000000\n",
       "1800.0  168725.666667     3.400000      86.666667      55.666667\n",
       "1900.0  230727.333333     3.366667      70.000000      57.333333\n",
       "2000.0  262550.750000     3.675000      70.000000      47.250000\n",
       "2500.0  331945.666667     4.333333      30.000000      55.000000\n",
       "\n",
       "[120 rows x 4 columns]"
      ]
     },
     "execution_count": 19,
     "metadata": {},
     "output_type": "execute_result"
    }
   ],
   "source": [
    "data.groupby('Price').mean()"
   ]
  },
  {
   "cell_type": "code",
   "execution_count": 20,
   "metadata": {},
   "outputs": [],
   "source": [
    "#feature_x = data.drop(['ID','Price'],axis=1)\n",
    "#target_y = data['Price']\n"
   ]
  },
  {
   "cell_type": "code",
   "execution_count": 21,
   "metadata": {},
   "outputs": [],
   "source": [
    "#print(feature_x)"
   ]
  },
  {
   "cell_type": "markdown",
   "metadata": {},
   "source": [
    "DEVELOPING PERCEPTRON::"
   ]
  },
  {
   "cell_type": "code",
   "execution_count": 22,
   "metadata": {},
   "outputs": [],
   "source": [
    "class Perceptron:\n",
    "    def __init__(self, num_inputs, learning_rate, initial_weights=None, activation_function='bipolar'):\n",
    "        self.learning_rate = learning_rate\n",
    "        self.activation_function = activation_function\n",
    "        \n",
    "        if initial_weights is None:\n",
    "            self.weights = np.random.rand(num_inputs)\n",
    "        else:\n",
    "            self.weights = np.array(initial_weights)\n",
    "    \n",
    "    def binary_step(self, x):\n",
    "        return 1 if x >= 0 else 0\n",
    "    \n",
    "    def bipolar_step(self, x):\n",
    "        return 1 if x >= 0 else -1\n",
    "    \n",
    "    def sigmoid_function(self, x):\n",
    "        return 1 / (1 + np.exp(-x))\n",
    "    \n",
    "    def relu_function(self, x):\n",
    "        return max(0, x)\n",
    "    \n",
    "    def choose_activation(self, x):\n",
    "        if self.activation_function == 'binary':\n",
    "            return self.binary_step(x)\n",
    "        elif self.activation_function == 'bipolar':\n",
    "            return self.bipolar_step(x)\n",
    "        elif self.activation_function == 'sigmoid':\n",
    "            return self.sigmoid_function(x)\n",
    "        elif self.activation_function == 'relu':\n",
    "            return self.relu_function(x)\n",
    "    \n",
    "    def predict(self, inputs):\n",
    "        weighted_sum = np.dot(inputs, self.weights)\n",
    "        return self.choose_activation(weighted_sum)\n",
    "    \n",
    "    def train(self, training_inputs, labels, max_epochs = 1000, convergence_error = 0.002):\n",
    "        errors = []\n",
    "        for epoch in range(max_epochs):\n",
    "            total_error = 0\n",
    "            for inputs, label in zip(training_inputs, labels):\n",
    "                prediction = self.predict(inputs)\n",
    "                error = label - prediction\n",
    "                self.weights += self.learning_rate * error * inputs\n",
    "                total_error += error ** 2\n",
    "            \n",
    "            errors.append(total_error)\n",
    "            if total_error <= convergence_error:\n",
    "                print(f\"Converged after {epoch + 1} epochs.\")\n",
    "                break\n",
    "        return errors\n",
    "    "
   ]
  },
  {
   "cell_type": "code",
   "execution_count": 23,
   "metadata": {},
   "outputs": [],
   "source": [
    "# AND gate truth table\n",
    "\n",
    "training_inputs = np.array([\n",
    "    [0,0],\n",
    "    [0,1],\n",
    "    [1,0],\n",
    "    [1,1]\n",
    "])\n",
    "labels = np.array([0,0,0,1])\n",
    "\n",
    "# initial weights\n",
    "\n",
    "initial_weights = [10, 0.2, -0.75]\n",
    "learning_rate = 0.05\n",
    "\n",
    "perceptron = Perceptron(num_inputs=3, learning_rate=learning_rate, initial_weights=initial_weights, activation_function='binary')\n",
    "\n"
   ]
  },
  {
   "cell_type": "code",
   "execution_count": 24,
   "metadata": {},
   "outputs": [
    {
     "name": "stdout",
     "output_type": "stream",
     "text": [
      "Converged after 130 epochs.\n"
     ]
    }
   ],
   "source": [
    "training_inputs_with_bias = np.column_stack((np.ones(4), training_inputs))\n",
    "errors = perceptron.train(training_inputs_with_bias, labels, max_epochs=1000 )\n"
   ]
  },
  {
   "cell_type": "markdown",
   "metadata": {},
   "source": [
    "GRAPH PLOTTING FUNCTION::"
   ]
  },
  {
   "cell_type": "code",
   "execution_count": 25,
   "metadata": {},
   "outputs": [],
   "source": [
    "def plot_graph(errors, title):\n",
    "    df = pd.DataFrame({'epochs': range(1, len(errors) + 1), 'errors': errors})\n",
    "    fig = px.line(df, x='epochs', y='errors', title=title)\n",
    "    fig.update_layout(height=400, width=800)\n",
    "    fig.show()"
   ]
  },
  {
   "cell_type": "code",
   "execution_count": 26,
   "metadata": {},
   "outputs": [
    {
     "data": {
      "application/vnd.plotly.v1+json": {
       "config": {
        "plotlyServerURL": "https://plot.ly"
       },
       "data": [
        {
         "hovertemplate": "epochs=%{x}<br>errors=%{y}<extra></extra>",
         "legendgroup": "",
         "line": {
          "color": "#636efa",
          "dash": "solid"
         },
         "marker": {
          "symbol": "circle"
         },
         "mode": "lines",
         "name": "",
         "orientation": "v",
         "showlegend": false,
         "type": "scatter",
         "x": [
          1,
          2,
          3,
          4,
          5,
          6,
          7,
          8,
          9,
          10,
          11,
          12,
          13,
          14,
          15,
          16,
          17,
          18,
          19,
          20,
          21,
          22,
          23,
          24,
          25,
          26,
          27,
          28,
          29,
          30,
          31,
          32,
          33,
          34,
          35,
          36,
          37,
          38,
          39,
          40,
          41,
          42,
          43,
          44,
          45,
          46,
          47,
          48,
          49,
          50,
          51,
          52,
          53,
          54,
          55,
          56,
          57,
          58,
          59,
          60,
          61,
          62,
          63,
          64,
          65,
          66,
          67,
          68,
          69,
          70,
          71,
          72,
          73,
          74,
          75,
          76,
          77,
          78,
          79,
          80,
          81,
          82,
          83,
          84,
          85,
          86,
          87,
          88,
          89,
          90,
          91,
          92,
          93,
          94,
          95,
          96,
          97,
          98,
          99,
          100,
          101,
          102,
          103,
          104,
          105,
          106,
          107,
          108,
          109,
          110,
          111,
          112,
          113,
          114,
          115,
          116,
          117,
          118,
          119,
          120,
          121,
          122,
          123,
          124,
          125,
          126,
          127,
          128,
          129,
          130
         ],
         "xaxis": "x",
         "y": [
          3,
          3,
          3,
          3,
          3,
          3,
          3,
          3,
          3,
          3,
          3,
          3,
          3,
          3,
          3,
          3,
          3,
          3,
          3,
          3,
          3,
          3,
          3,
          3,
          3,
          3,
          3,
          3,
          3,
          3,
          3,
          3,
          3,
          3,
          3,
          3,
          3,
          4,
          4,
          4,
          4,
          4,
          4,
          4,
          4,
          4,
          4,
          4,
          4,
          4,
          4,
          4,
          4,
          4,
          4,
          3,
          3,
          3,
          3,
          3,
          3,
          3,
          3,
          3,
          3,
          3,
          3,
          3,
          3,
          3,
          3,
          3,
          3,
          3,
          2,
          3,
          3,
          2,
          3,
          3,
          2,
          3,
          3,
          2,
          3,
          3,
          2,
          3,
          3,
          2,
          3,
          3,
          2,
          3,
          3,
          2,
          3,
          3,
          2,
          3,
          3,
          2,
          3,
          3,
          2,
          3,
          3,
          2,
          3,
          3,
          2,
          3,
          3,
          2,
          3,
          3,
          2,
          3,
          3,
          2,
          3,
          3,
          2,
          3,
          3,
          2,
          3,
          2,
          1,
          0
         ],
         "yaxis": "y"
        }
       ],
       "layout": {
        "height": 400,
        "legend": {
         "tracegroupgap": 0
        },
        "template": {
         "data": {
          "bar": [
           {
            "error_x": {
             "color": "#2a3f5f"
            },
            "error_y": {
             "color": "#2a3f5f"
            },
            "marker": {
             "line": {
              "color": "#E5ECF6",
              "width": 0.5
             },
             "pattern": {
              "fillmode": "overlay",
              "size": 10,
              "solidity": 0.2
             }
            },
            "type": "bar"
           }
          ],
          "barpolar": [
           {
            "marker": {
             "line": {
              "color": "#E5ECF6",
              "width": 0.5
             },
             "pattern": {
              "fillmode": "overlay",
              "size": 10,
              "solidity": 0.2
             }
            },
            "type": "barpolar"
           }
          ],
          "carpet": [
           {
            "aaxis": {
             "endlinecolor": "#2a3f5f",
             "gridcolor": "white",
             "linecolor": "white",
             "minorgridcolor": "white",
             "startlinecolor": "#2a3f5f"
            },
            "baxis": {
             "endlinecolor": "#2a3f5f",
             "gridcolor": "white",
             "linecolor": "white",
             "minorgridcolor": "white",
             "startlinecolor": "#2a3f5f"
            },
            "type": "carpet"
           }
          ],
          "choropleth": [
           {
            "colorbar": {
             "outlinewidth": 0,
             "ticks": ""
            },
            "type": "choropleth"
           }
          ],
          "contour": [
           {
            "colorbar": {
             "outlinewidth": 0,
             "ticks": ""
            },
            "colorscale": [
             [
              0,
              "#0d0887"
             ],
             [
              0.1111111111111111,
              "#46039f"
             ],
             [
              0.2222222222222222,
              "#7201a8"
             ],
             [
              0.3333333333333333,
              "#9c179e"
             ],
             [
              0.4444444444444444,
              "#bd3786"
             ],
             [
              0.5555555555555556,
              "#d8576b"
             ],
             [
              0.6666666666666666,
              "#ed7953"
             ],
             [
              0.7777777777777778,
              "#fb9f3a"
             ],
             [
              0.8888888888888888,
              "#fdca26"
             ],
             [
              1,
              "#f0f921"
             ]
            ],
            "type": "contour"
           }
          ],
          "contourcarpet": [
           {
            "colorbar": {
             "outlinewidth": 0,
             "ticks": ""
            },
            "type": "contourcarpet"
           }
          ],
          "heatmap": [
           {
            "colorbar": {
             "outlinewidth": 0,
             "ticks": ""
            },
            "colorscale": [
             [
              0,
              "#0d0887"
             ],
             [
              0.1111111111111111,
              "#46039f"
             ],
             [
              0.2222222222222222,
              "#7201a8"
             ],
             [
              0.3333333333333333,
              "#9c179e"
             ],
             [
              0.4444444444444444,
              "#bd3786"
             ],
             [
              0.5555555555555556,
              "#d8576b"
             ],
             [
              0.6666666666666666,
              "#ed7953"
             ],
             [
              0.7777777777777778,
              "#fb9f3a"
             ],
             [
              0.8888888888888888,
              "#fdca26"
             ],
             [
              1,
              "#f0f921"
             ]
            ],
            "type": "heatmap"
           }
          ],
          "heatmapgl": [
           {
            "colorbar": {
             "outlinewidth": 0,
             "ticks": ""
            },
            "colorscale": [
             [
              0,
              "#0d0887"
             ],
             [
              0.1111111111111111,
              "#46039f"
             ],
             [
              0.2222222222222222,
              "#7201a8"
             ],
             [
              0.3333333333333333,
              "#9c179e"
             ],
             [
              0.4444444444444444,
              "#bd3786"
             ],
             [
              0.5555555555555556,
              "#d8576b"
             ],
             [
              0.6666666666666666,
              "#ed7953"
             ],
             [
              0.7777777777777778,
              "#fb9f3a"
             ],
             [
              0.8888888888888888,
              "#fdca26"
             ],
             [
              1,
              "#f0f921"
             ]
            ],
            "type": "heatmapgl"
           }
          ],
          "histogram": [
           {
            "marker": {
             "pattern": {
              "fillmode": "overlay",
              "size": 10,
              "solidity": 0.2
             }
            },
            "type": "histogram"
           }
          ],
          "histogram2d": [
           {
            "colorbar": {
             "outlinewidth": 0,
             "ticks": ""
            },
            "colorscale": [
             [
              0,
              "#0d0887"
             ],
             [
              0.1111111111111111,
              "#46039f"
             ],
             [
              0.2222222222222222,
              "#7201a8"
             ],
             [
              0.3333333333333333,
              "#9c179e"
             ],
             [
              0.4444444444444444,
              "#bd3786"
             ],
             [
              0.5555555555555556,
              "#d8576b"
             ],
             [
              0.6666666666666666,
              "#ed7953"
             ],
             [
              0.7777777777777778,
              "#fb9f3a"
             ],
             [
              0.8888888888888888,
              "#fdca26"
             ],
             [
              1,
              "#f0f921"
             ]
            ],
            "type": "histogram2d"
           }
          ],
          "histogram2dcontour": [
           {
            "colorbar": {
             "outlinewidth": 0,
             "ticks": ""
            },
            "colorscale": [
             [
              0,
              "#0d0887"
             ],
             [
              0.1111111111111111,
              "#46039f"
             ],
             [
              0.2222222222222222,
              "#7201a8"
             ],
             [
              0.3333333333333333,
              "#9c179e"
             ],
             [
              0.4444444444444444,
              "#bd3786"
             ],
             [
              0.5555555555555556,
              "#d8576b"
             ],
             [
              0.6666666666666666,
              "#ed7953"
             ],
             [
              0.7777777777777778,
              "#fb9f3a"
             ],
             [
              0.8888888888888888,
              "#fdca26"
             ],
             [
              1,
              "#f0f921"
             ]
            ],
            "type": "histogram2dcontour"
           }
          ],
          "mesh3d": [
           {
            "colorbar": {
             "outlinewidth": 0,
             "ticks": ""
            },
            "type": "mesh3d"
           }
          ],
          "parcoords": [
           {
            "line": {
             "colorbar": {
              "outlinewidth": 0,
              "ticks": ""
             }
            },
            "type": "parcoords"
           }
          ],
          "pie": [
           {
            "automargin": true,
            "type": "pie"
           }
          ],
          "scatter": [
           {
            "fillpattern": {
             "fillmode": "overlay",
             "size": 10,
             "solidity": 0.2
            },
            "type": "scatter"
           }
          ],
          "scatter3d": [
           {
            "line": {
             "colorbar": {
              "outlinewidth": 0,
              "ticks": ""
             }
            },
            "marker": {
             "colorbar": {
              "outlinewidth": 0,
              "ticks": ""
             }
            },
            "type": "scatter3d"
           }
          ],
          "scattercarpet": [
           {
            "marker": {
             "colorbar": {
              "outlinewidth": 0,
              "ticks": ""
             }
            },
            "type": "scattercarpet"
           }
          ],
          "scattergeo": [
           {
            "marker": {
             "colorbar": {
              "outlinewidth": 0,
              "ticks": ""
             }
            },
            "type": "scattergeo"
           }
          ],
          "scattergl": [
           {
            "marker": {
             "colorbar": {
              "outlinewidth": 0,
              "ticks": ""
             }
            },
            "type": "scattergl"
           }
          ],
          "scattermapbox": [
           {
            "marker": {
             "colorbar": {
              "outlinewidth": 0,
              "ticks": ""
             }
            },
            "type": "scattermapbox"
           }
          ],
          "scatterpolar": [
           {
            "marker": {
             "colorbar": {
              "outlinewidth": 0,
              "ticks": ""
             }
            },
            "type": "scatterpolar"
           }
          ],
          "scatterpolargl": [
           {
            "marker": {
             "colorbar": {
              "outlinewidth": 0,
              "ticks": ""
             }
            },
            "type": "scatterpolargl"
           }
          ],
          "scatterternary": [
           {
            "marker": {
             "colorbar": {
              "outlinewidth": 0,
              "ticks": ""
             }
            },
            "type": "scatterternary"
           }
          ],
          "surface": [
           {
            "colorbar": {
             "outlinewidth": 0,
             "ticks": ""
            },
            "colorscale": [
             [
              0,
              "#0d0887"
             ],
             [
              0.1111111111111111,
              "#46039f"
             ],
             [
              0.2222222222222222,
              "#7201a8"
             ],
             [
              0.3333333333333333,
              "#9c179e"
             ],
             [
              0.4444444444444444,
              "#bd3786"
             ],
             [
              0.5555555555555556,
              "#d8576b"
             ],
             [
              0.6666666666666666,
              "#ed7953"
             ],
             [
              0.7777777777777778,
              "#fb9f3a"
             ],
             [
              0.8888888888888888,
              "#fdca26"
             ],
             [
              1,
              "#f0f921"
             ]
            ],
            "type": "surface"
           }
          ],
          "table": [
           {
            "cells": {
             "fill": {
              "color": "#EBF0F8"
             },
             "line": {
              "color": "white"
             }
            },
            "header": {
             "fill": {
              "color": "#C8D4E3"
             },
             "line": {
              "color": "white"
             }
            },
            "type": "table"
           }
          ]
         },
         "layout": {
          "annotationdefaults": {
           "arrowcolor": "#2a3f5f",
           "arrowhead": 0,
           "arrowwidth": 1
          },
          "autotypenumbers": "strict",
          "coloraxis": {
           "colorbar": {
            "outlinewidth": 0,
            "ticks": ""
           }
          },
          "colorscale": {
           "diverging": [
            [
             0,
             "#8e0152"
            ],
            [
             0.1,
             "#c51b7d"
            ],
            [
             0.2,
             "#de77ae"
            ],
            [
             0.3,
             "#f1b6da"
            ],
            [
             0.4,
             "#fde0ef"
            ],
            [
             0.5,
             "#f7f7f7"
            ],
            [
             0.6,
             "#e6f5d0"
            ],
            [
             0.7,
             "#b8e186"
            ],
            [
             0.8,
             "#7fbc41"
            ],
            [
             0.9,
             "#4d9221"
            ],
            [
             1,
             "#276419"
            ]
           ],
           "sequential": [
            [
             0,
             "#0d0887"
            ],
            [
             0.1111111111111111,
             "#46039f"
            ],
            [
             0.2222222222222222,
             "#7201a8"
            ],
            [
             0.3333333333333333,
             "#9c179e"
            ],
            [
             0.4444444444444444,
             "#bd3786"
            ],
            [
             0.5555555555555556,
             "#d8576b"
            ],
            [
             0.6666666666666666,
             "#ed7953"
            ],
            [
             0.7777777777777778,
             "#fb9f3a"
            ],
            [
             0.8888888888888888,
             "#fdca26"
            ],
            [
             1,
             "#f0f921"
            ]
           ],
           "sequentialminus": [
            [
             0,
             "#0d0887"
            ],
            [
             0.1111111111111111,
             "#46039f"
            ],
            [
             0.2222222222222222,
             "#7201a8"
            ],
            [
             0.3333333333333333,
             "#9c179e"
            ],
            [
             0.4444444444444444,
             "#bd3786"
            ],
            [
             0.5555555555555556,
             "#d8576b"
            ],
            [
             0.6666666666666666,
             "#ed7953"
            ],
            [
             0.7777777777777778,
             "#fb9f3a"
            ],
            [
             0.8888888888888888,
             "#fdca26"
            ],
            [
             1,
             "#f0f921"
            ]
           ]
          },
          "colorway": [
           "#636efa",
           "#EF553B",
           "#00cc96",
           "#ab63fa",
           "#FFA15A",
           "#19d3f3",
           "#FF6692",
           "#B6E880",
           "#FF97FF",
           "#FECB52"
          ],
          "font": {
           "color": "#2a3f5f"
          },
          "geo": {
           "bgcolor": "white",
           "lakecolor": "white",
           "landcolor": "#E5ECF6",
           "showlakes": true,
           "showland": true,
           "subunitcolor": "white"
          },
          "hoverlabel": {
           "align": "left"
          },
          "hovermode": "closest",
          "mapbox": {
           "style": "light"
          },
          "paper_bgcolor": "white",
          "plot_bgcolor": "#E5ECF6",
          "polar": {
           "angularaxis": {
            "gridcolor": "white",
            "linecolor": "white",
            "ticks": ""
           },
           "bgcolor": "#E5ECF6",
           "radialaxis": {
            "gridcolor": "white",
            "linecolor": "white",
            "ticks": ""
           }
          },
          "scene": {
           "xaxis": {
            "backgroundcolor": "#E5ECF6",
            "gridcolor": "white",
            "gridwidth": 2,
            "linecolor": "white",
            "showbackground": true,
            "ticks": "",
            "zerolinecolor": "white"
           },
           "yaxis": {
            "backgroundcolor": "#E5ECF6",
            "gridcolor": "white",
            "gridwidth": 2,
            "linecolor": "white",
            "showbackground": true,
            "ticks": "",
            "zerolinecolor": "white"
           },
           "zaxis": {
            "backgroundcolor": "#E5ECF6",
            "gridcolor": "white",
            "gridwidth": 2,
            "linecolor": "white",
            "showbackground": true,
            "ticks": "",
            "zerolinecolor": "white"
           }
          },
          "shapedefaults": {
           "line": {
            "color": "#2a3f5f"
           }
          },
          "ternary": {
           "aaxis": {
            "gridcolor": "white",
            "linecolor": "white",
            "ticks": ""
           },
           "baxis": {
            "gridcolor": "white",
            "linecolor": "white",
            "ticks": ""
           },
           "bgcolor": "#E5ECF6",
           "caxis": {
            "gridcolor": "white",
            "linecolor": "white",
            "ticks": ""
           }
          },
          "title": {
           "x": 0.05
          },
          "xaxis": {
           "automargin": true,
           "gridcolor": "white",
           "linecolor": "white",
           "ticks": "",
           "title": {
            "standoff": 15
           },
           "zerolinecolor": "white",
           "zerolinewidth": 2
          },
          "yaxis": {
           "automargin": true,
           "gridcolor": "white",
           "linecolor": "white",
           "ticks": "",
           "title": {
            "standoff": 15
           },
           "zerolinecolor": "white",
           "zerolinewidth": 2
          }
         }
        },
        "title": {
         "text": "Error Convergence"
        },
        "width": 800,
        "xaxis": {
         "anchor": "y",
         "domain": [
          0,
          1
         ],
         "title": {
          "text": "epochs"
         }
        },
        "yaxis": {
         "anchor": "x",
         "domain": [
          0,
          1
         ],
         "title": {
          "text": "errors"
         }
        }
       }
      }
     },
     "metadata": {},
     "output_type": "display_data"
    }
   ],
   "source": [
    "# plot the Error Convergence graph using plotly express\n",
    "plot_graph(errors, 'Error Convergence')"
   ]
  },
  {
   "cell_type": "code",
   "execution_count": 27,
   "metadata": {},
   "outputs": [
    {
     "name": "stdout",
     "output_type": "stream",
     "text": [
      "Final Weights:  [-0.1   0.1   0.05]\n",
      "Testing the AND gate logic:\n",
      "Input: [0 0] => Prediction: 0\n",
      "Input: [0 1] => Prediction: 0\n",
      "Input: [1 0] => Prediction: 0\n",
      "Input: [1 1] => Prediction: 1\n"
     ]
    }
   ],
   "source": [
    "#Test the trained perceptron\n",
    "print(\"Final Weights: \", perceptron.weights)\n",
    "print(\"Testing the AND gate logic:\")\n",
    "for inputs in training_inputs:\n",
    "    prediction = perceptron.predict(np.insert(inputs, 0, 1))\n",
    "    print(f\"Input: {inputs} => Prediction: {prediction}\")"
   ]
  },
  {
   "cell_type": "markdown",
   "metadata": {},
   "source": [
    "CHECKING WITH DIFFERENT ACTIVATION FUNCTION::"
   ]
  },
  {
   "cell_type": "code",
   "execution_count": 28,
   "metadata": {},
   "outputs": [],
   "source": [
    "# # Repeat the above A1 experiment with following activation functions.\n",
    "# Compare the iterations\n",
    "# taken to converge against each of the activation functions.\n",
    "# Keep the learning rate same as A1.\n",
    "# • Bi-Polar Step function\n",
    "# • Sigmoid function\n",
    "# • ReLU function"
   ]
  },
  {
   "cell_type": "code",
   "execution_count": 29,
   "metadata": {},
   "outputs": [],
   "source": [
    "# AND GATE Truth Table::\n",
    "\n",
    "training_inputs = np.array([[0, 0], [0, 1], [1, 0], [1, 1]])\n",
    "labels = np.array([-1, -1, -1, 1]) # bi-polar step function\n",
    "\n",
    "# initializing the perceptron with given initial weights and learning rate\n",
    "initial_weights = [10, 0.2, -0.75]\n",
    "learning_rate = 0.05\n"
   ]
  },
  {
   "cell_type": "markdown",
   "metadata": {},
   "source": [
    "Training with Bi-Polar Step Function::"
   ]
  },
  {
   "cell_type": "code",
   "execution_count": 30,
   "metadata": {},
   "outputs": [
    {
     "name": "stdout",
     "output_type": "stream",
     "text": [
      "Converged after 68 epochs.\n"
     ]
    }
   ],
   "source": [
    "# training the perceptron with Bi-Polar Step function\n",
    "\n",
    "perceptron = Perceptron(num_inputs=3, learning_rate = learning_rate, initial_weights=initial_weights, activation_function='bipolar')\n",
    "training_inputs_with_bias = np.column_stack((np.ones(4), training_inputs))\n",
    "errors = perceptron.train(training_inputs_with_bias, labels)\n"
   ]
  },
  {
   "cell_type": "code",
   "execution_count": 31,
   "metadata": {},
   "outputs": [
    {
     "data": {
      "application/vnd.plotly.v1+json": {
       "config": {
        "plotlyServerURL": "https://plot.ly"
       },
       "data": [
        {
         "hovertemplate": "epochs=%{x}<br>errors=%{y}<extra></extra>",
         "legendgroup": "",
         "line": {
          "color": "#636efa",
          "dash": "solid"
         },
         "marker": {
          "symbol": "circle"
         },
         "mode": "lines",
         "name": "",
         "orientation": "v",
         "showlegend": false,
         "type": "scatter",
         "x": [
          1,
          2,
          3,
          4,
          5,
          6,
          7,
          8,
          9,
          10,
          11,
          12,
          13,
          14,
          15,
          16,
          17,
          18,
          19,
          20,
          21,
          22,
          23,
          24,
          25,
          26,
          27,
          28,
          29,
          30,
          31,
          32,
          33,
          34,
          35,
          36,
          37,
          38,
          39,
          40,
          41,
          42,
          43,
          44,
          45,
          46,
          47,
          48,
          49,
          50,
          51,
          52,
          53,
          54,
          55,
          56,
          57,
          58,
          59,
          60,
          61,
          62,
          63,
          64,
          65,
          66,
          67,
          68
         ],
         "xaxis": "x",
         "y": [
          12,
          12,
          12,
          12,
          12,
          12,
          12,
          12,
          12,
          12,
          12,
          12,
          12,
          12,
          12,
          12,
          12,
          12,
          16,
          16,
          16,
          16,
          16,
          16,
          16,
          16,
          16,
          16,
          12,
          12,
          12,
          12,
          12,
          12,
          12,
          12,
          12,
          12,
          8,
          12,
          12,
          8,
          12,
          12,
          8,
          12,
          12,
          8,
          12,
          12,
          8,
          12,
          12,
          8,
          12,
          12,
          8,
          12,
          12,
          8,
          12,
          12,
          8,
          12,
          12,
          8,
          4,
          0
         ],
         "yaxis": "y"
        }
       ],
       "layout": {
        "height": 400,
        "legend": {
         "tracegroupgap": 0
        },
        "template": {
         "data": {
          "bar": [
           {
            "error_x": {
             "color": "#2a3f5f"
            },
            "error_y": {
             "color": "#2a3f5f"
            },
            "marker": {
             "line": {
              "color": "#E5ECF6",
              "width": 0.5
             },
             "pattern": {
              "fillmode": "overlay",
              "size": 10,
              "solidity": 0.2
             }
            },
            "type": "bar"
           }
          ],
          "barpolar": [
           {
            "marker": {
             "line": {
              "color": "#E5ECF6",
              "width": 0.5
             },
             "pattern": {
              "fillmode": "overlay",
              "size": 10,
              "solidity": 0.2
             }
            },
            "type": "barpolar"
           }
          ],
          "carpet": [
           {
            "aaxis": {
             "endlinecolor": "#2a3f5f",
             "gridcolor": "white",
             "linecolor": "white",
             "minorgridcolor": "white",
             "startlinecolor": "#2a3f5f"
            },
            "baxis": {
             "endlinecolor": "#2a3f5f",
             "gridcolor": "white",
             "linecolor": "white",
             "minorgridcolor": "white",
             "startlinecolor": "#2a3f5f"
            },
            "type": "carpet"
           }
          ],
          "choropleth": [
           {
            "colorbar": {
             "outlinewidth": 0,
             "ticks": ""
            },
            "type": "choropleth"
           }
          ],
          "contour": [
           {
            "colorbar": {
             "outlinewidth": 0,
             "ticks": ""
            },
            "colorscale": [
             [
              0,
              "#0d0887"
             ],
             [
              0.1111111111111111,
              "#46039f"
             ],
             [
              0.2222222222222222,
              "#7201a8"
             ],
             [
              0.3333333333333333,
              "#9c179e"
             ],
             [
              0.4444444444444444,
              "#bd3786"
             ],
             [
              0.5555555555555556,
              "#d8576b"
             ],
             [
              0.6666666666666666,
              "#ed7953"
             ],
             [
              0.7777777777777778,
              "#fb9f3a"
             ],
             [
              0.8888888888888888,
              "#fdca26"
             ],
             [
              1,
              "#f0f921"
             ]
            ],
            "type": "contour"
           }
          ],
          "contourcarpet": [
           {
            "colorbar": {
             "outlinewidth": 0,
             "ticks": ""
            },
            "type": "contourcarpet"
           }
          ],
          "heatmap": [
           {
            "colorbar": {
             "outlinewidth": 0,
             "ticks": ""
            },
            "colorscale": [
             [
              0,
              "#0d0887"
             ],
             [
              0.1111111111111111,
              "#46039f"
             ],
             [
              0.2222222222222222,
              "#7201a8"
             ],
             [
              0.3333333333333333,
              "#9c179e"
             ],
             [
              0.4444444444444444,
              "#bd3786"
             ],
             [
              0.5555555555555556,
              "#d8576b"
             ],
             [
              0.6666666666666666,
              "#ed7953"
             ],
             [
              0.7777777777777778,
              "#fb9f3a"
             ],
             [
              0.8888888888888888,
              "#fdca26"
             ],
             [
              1,
              "#f0f921"
             ]
            ],
            "type": "heatmap"
           }
          ],
          "heatmapgl": [
           {
            "colorbar": {
             "outlinewidth": 0,
             "ticks": ""
            },
            "colorscale": [
             [
              0,
              "#0d0887"
             ],
             [
              0.1111111111111111,
              "#46039f"
             ],
             [
              0.2222222222222222,
              "#7201a8"
             ],
             [
              0.3333333333333333,
              "#9c179e"
             ],
             [
              0.4444444444444444,
              "#bd3786"
             ],
             [
              0.5555555555555556,
              "#d8576b"
             ],
             [
              0.6666666666666666,
              "#ed7953"
             ],
             [
              0.7777777777777778,
              "#fb9f3a"
             ],
             [
              0.8888888888888888,
              "#fdca26"
             ],
             [
              1,
              "#f0f921"
             ]
            ],
            "type": "heatmapgl"
           }
          ],
          "histogram": [
           {
            "marker": {
             "pattern": {
              "fillmode": "overlay",
              "size": 10,
              "solidity": 0.2
             }
            },
            "type": "histogram"
           }
          ],
          "histogram2d": [
           {
            "colorbar": {
             "outlinewidth": 0,
             "ticks": ""
            },
            "colorscale": [
             [
              0,
              "#0d0887"
             ],
             [
              0.1111111111111111,
              "#46039f"
             ],
             [
              0.2222222222222222,
              "#7201a8"
             ],
             [
              0.3333333333333333,
              "#9c179e"
             ],
             [
              0.4444444444444444,
              "#bd3786"
             ],
             [
              0.5555555555555556,
              "#d8576b"
             ],
             [
              0.6666666666666666,
              "#ed7953"
             ],
             [
              0.7777777777777778,
              "#fb9f3a"
             ],
             [
              0.8888888888888888,
              "#fdca26"
             ],
             [
              1,
              "#f0f921"
             ]
            ],
            "type": "histogram2d"
           }
          ],
          "histogram2dcontour": [
           {
            "colorbar": {
             "outlinewidth": 0,
             "ticks": ""
            },
            "colorscale": [
             [
              0,
              "#0d0887"
             ],
             [
              0.1111111111111111,
              "#46039f"
             ],
             [
              0.2222222222222222,
              "#7201a8"
             ],
             [
              0.3333333333333333,
              "#9c179e"
             ],
             [
              0.4444444444444444,
              "#bd3786"
             ],
             [
              0.5555555555555556,
              "#d8576b"
             ],
             [
              0.6666666666666666,
              "#ed7953"
             ],
             [
              0.7777777777777778,
              "#fb9f3a"
             ],
             [
              0.8888888888888888,
              "#fdca26"
             ],
             [
              1,
              "#f0f921"
             ]
            ],
            "type": "histogram2dcontour"
           }
          ],
          "mesh3d": [
           {
            "colorbar": {
             "outlinewidth": 0,
             "ticks": ""
            },
            "type": "mesh3d"
           }
          ],
          "parcoords": [
           {
            "line": {
             "colorbar": {
              "outlinewidth": 0,
              "ticks": ""
             }
            },
            "type": "parcoords"
           }
          ],
          "pie": [
           {
            "automargin": true,
            "type": "pie"
           }
          ],
          "scatter": [
           {
            "fillpattern": {
             "fillmode": "overlay",
             "size": 10,
             "solidity": 0.2
            },
            "type": "scatter"
           }
          ],
          "scatter3d": [
           {
            "line": {
             "colorbar": {
              "outlinewidth": 0,
              "ticks": ""
             }
            },
            "marker": {
             "colorbar": {
              "outlinewidth": 0,
              "ticks": ""
             }
            },
            "type": "scatter3d"
           }
          ],
          "scattercarpet": [
           {
            "marker": {
             "colorbar": {
              "outlinewidth": 0,
              "ticks": ""
             }
            },
            "type": "scattercarpet"
           }
          ],
          "scattergeo": [
           {
            "marker": {
             "colorbar": {
              "outlinewidth": 0,
              "ticks": ""
             }
            },
            "type": "scattergeo"
           }
          ],
          "scattergl": [
           {
            "marker": {
             "colorbar": {
              "outlinewidth": 0,
              "ticks": ""
             }
            },
            "type": "scattergl"
           }
          ],
          "scattermapbox": [
           {
            "marker": {
             "colorbar": {
              "outlinewidth": 0,
              "ticks": ""
             }
            },
            "type": "scattermapbox"
           }
          ],
          "scatterpolar": [
           {
            "marker": {
             "colorbar": {
              "outlinewidth": 0,
              "ticks": ""
             }
            },
            "type": "scatterpolar"
           }
          ],
          "scatterpolargl": [
           {
            "marker": {
             "colorbar": {
              "outlinewidth": 0,
              "ticks": ""
             }
            },
            "type": "scatterpolargl"
           }
          ],
          "scatterternary": [
           {
            "marker": {
             "colorbar": {
              "outlinewidth": 0,
              "ticks": ""
             }
            },
            "type": "scatterternary"
           }
          ],
          "surface": [
           {
            "colorbar": {
             "outlinewidth": 0,
             "ticks": ""
            },
            "colorscale": [
             [
              0,
              "#0d0887"
             ],
             [
              0.1111111111111111,
              "#46039f"
             ],
             [
              0.2222222222222222,
              "#7201a8"
             ],
             [
              0.3333333333333333,
              "#9c179e"
             ],
             [
              0.4444444444444444,
              "#bd3786"
             ],
             [
              0.5555555555555556,
              "#d8576b"
             ],
             [
              0.6666666666666666,
              "#ed7953"
             ],
             [
              0.7777777777777778,
              "#fb9f3a"
             ],
             [
              0.8888888888888888,
              "#fdca26"
             ],
             [
              1,
              "#f0f921"
             ]
            ],
            "type": "surface"
           }
          ],
          "table": [
           {
            "cells": {
             "fill": {
              "color": "#EBF0F8"
             },
             "line": {
              "color": "white"
             }
            },
            "header": {
             "fill": {
              "color": "#C8D4E3"
             },
             "line": {
              "color": "white"
             }
            },
            "type": "table"
           }
          ]
         },
         "layout": {
          "annotationdefaults": {
           "arrowcolor": "#2a3f5f",
           "arrowhead": 0,
           "arrowwidth": 1
          },
          "autotypenumbers": "strict",
          "coloraxis": {
           "colorbar": {
            "outlinewidth": 0,
            "ticks": ""
           }
          },
          "colorscale": {
           "diverging": [
            [
             0,
             "#8e0152"
            ],
            [
             0.1,
             "#c51b7d"
            ],
            [
             0.2,
             "#de77ae"
            ],
            [
             0.3,
             "#f1b6da"
            ],
            [
             0.4,
             "#fde0ef"
            ],
            [
             0.5,
             "#f7f7f7"
            ],
            [
             0.6,
             "#e6f5d0"
            ],
            [
             0.7,
             "#b8e186"
            ],
            [
             0.8,
             "#7fbc41"
            ],
            [
             0.9,
             "#4d9221"
            ],
            [
             1,
             "#276419"
            ]
           ],
           "sequential": [
            [
             0,
             "#0d0887"
            ],
            [
             0.1111111111111111,
             "#46039f"
            ],
            [
             0.2222222222222222,
             "#7201a8"
            ],
            [
             0.3333333333333333,
             "#9c179e"
            ],
            [
             0.4444444444444444,
             "#bd3786"
            ],
            [
             0.5555555555555556,
             "#d8576b"
            ],
            [
             0.6666666666666666,
             "#ed7953"
            ],
            [
             0.7777777777777778,
             "#fb9f3a"
            ],
            [
             0.8888888888888888,
             "#fdca26"
            ],
            [
             1,
             "#f0f921"
            ]
           ],
           "sequentialminus": [
            [
             0,
             "#0d0887"
            ],
            [
             0.1111111111111111,
             "#46039f"
            ],
            [
             0.2222222222222222,
             "#7201a8"
            ],
            [
             0.3333333333333333,
             "#9c179e"
            ],
            [
             0.4444444444444444,
             "#bd3786"
            ],
            [
             0.5555555555555556,
             "#d8576b"
            ],
            [
             0.6666666666666666,
             "#ed7953"
            ],
            [
             0.7777777777777778,
             "#fb9f3a"
            ],
            [
             0.8888888888888888,
             "#fdca26"
            ],
            [
             1,
             "#f0f921"
            ]
           ]
          },
          "colorway": [
           "#636efa",
           "#EF553B",
           "#00cc96",
           "#ab63fa",
           "#FFA15A",
           "#19d3f3",
           "#FF6692",
           "#B6E880",
           "#FF97FF",
           "#FECB52"
          ],
          "font": {
           "color": "#2a3f5f"
          },
          "geo": {
           "bgcolor": "white",
           "lakecolor": "white",
           "landcolor": "#E5ECF6",
           "showlakes": true,
           "showland": true,
           "subunitcolor": "white"
          },
          "hoverlabel": {
           "align": "left"
          },
          "hovermode": "closest",
          "mapbox": {
           "style": "light"
          },
          "paper_bgcolor": "white",
          "plot_bgcolor": "#E5ECF6",
          "polar": {
           "angularaxis": {
            "gridcolor": "white",
            "linecolor": "white",
            "ticks": ""
           },
           "bgcolor": "#E5ECF6",
           "radialaxis": {
            "gridcolor": "white",
            "linecolor": "white",
            "ticks": ""
           }
          },
          "scene": {
           "xaxis": {
            "backgroundcolor": "#E5ECF6",
            "gridcolor": "white",
            "gridwidth": 2,
            "linecolor": "white",
            "showbackground": true,
            "ticks": "",
            "zerolinecolor": "white"
           },
           "yaxis": {
            "backgroundcolor": "#E5ECF6",
            "gridcolor": "white",
            "gridwidth": 2,
            "linecolor": "white",
            "showbackground": true,
            "ticks": "",
            "zerolinecolor": "white"
           },
           "zaxis": {
            "backgroundcolor": "#E5ECF6",
            "gridcolor": "white",
            "gridwidth": 2,
            "linecolor": "white",
            "showbackground": true,
            "ticks": "",
            "zerolinecolor": "white"
           }
          },
          "shapedefaults": {
           "line": {
            "color": "#2a3f5f"
           }
          },
          "ternary": {
           "aaxis": {
            "gridcolor": "white",
            "linecolor": "white",
            "ticks": ""
           },
           "baxis": {
            "gridcolor": "white",
            "linecolor": "white",
            "ticks": ""
           },
           "bgcolor": "#E5ECF6",
           "caxis": {
            "gridcolor": "white",
            "linecolor": "white",
            "ticks": ""
           }
          },
          "title": {
           "x": 0.05
          },
          "xaxis": {
           "automargin": true,
           "gridcolor": "white",
           "linecolor": "white",
           "ticks": "",
           "title": {
            "standoff": 15
           },
           "zerolinecolor": "white",
           "zerolinewidth": 2
          },
          "yaxis": {
           "automargin": true,
           "gridcolor": "white",
           "linecolor": "white",
           "ticks": "",
           "title": {
            "standoff": 15
           },
           "zerolinecolor": "white",
           "zerolinewidth": 2
          }
         }
        },
        "title": {
         "text": "Error Convergence with Bi-Polar Step function"
        },
        "width": 800,
        "xaxis": {
         "anchor": "y",
         "domain": [
          0,
          1
         ],
         "title": {
          "text": "epochs"
         }
        },
        "yaxis": {
         "anchor": "x",
         "domain": [
          0,
          1
         ],
         "title": {
          "text": "errors"
         }
        }
       }
      }
     },
     "metadata": {},
     "output_type": "display_data"
    }
   ],
   "source": [
    "# plot the error values for Bi-Polar Step function\n",
    "plot_graph(errors, 'Error Convergence with Bi-Polar Step function')"
   ]
  },
  {
   "cell_type": "markdown",
   "metadata": {},
   "source": [
    "Training with Sigmoid Function::"
   ]
  },
  {
   "cell_type": "code",
   "execution_count": 32,
   "metadata": {},
   "outputs": [],
   "source": [
    "# training the perceptron with Sigmoid function\n",
    "labels = np.array([0, 0, 0, 1]) # Sigmoid function\n",
    "perceptron = Perceptron(num_inputs=3, learning_rate = learning_rate, initial_weights=initial_weights, activation_function='sigmoid')\n",
    "errors = perceptron.train(training_inputs_with_bias, labels)\n"
   ]
  },
  {
   "cell_type": "code",
   "execution_count": 33,
   "metadata": {},
   "outputs": [
    {
     "data": {
      "application/vnd.plotly.v1+json": {
       "config": {
        "plotlyServerURL": "https://plot.ly"
       },
       "data": [
        {
         "hovertemplate": "epochs=%{x}<br>errors=%{y}<extra></extra>",
         "legendgroup": "",
         "line": {
          "color": "#636efa",
          "dash": "solid"
         },
         "marker": {
          "symbol": "circle"
         },
         "mode": "lines",
         "name": "",
         "orientation": "v",
         "showlegend": false,
         "type": "scatter",
         "x": [
          1,
          2,
          3,
          4,
          5,
          6,
          7,
          8,
          9,
          10,
          11,
          12,
          13,
          14,
          15,
          16,
          17,
          18,
          19,
          20,
          21,
          22,
          23,
          24,
          25,
          26,
          27,
          28,
          29,
          30,
          31,
          32,
          33,
          34,
          35,
          36,
          37,
          38,
          39,
          40,
          41,
          42,
          43,
          44,
          45,
          46,
          47,
          48,
          49,
          50,
          51,
          52,
          53,
          54,
          55,
          56,
          57,
          58,
          59,
          60,
          61,
          62,
          63,
          64,
          65,
          66,
          67,
          68,
          69,
          70,
          71,
          72,
          73,
          74,
          75,
          76,
          77,
          78,
          79,
          80,
          81,
          82,
          83,
          84,
          85,
          86,
          87,
          88,
          89,
          90,
          91,
          92,
          93,
          94,
          95,
          96,
          97,
          98,
          99,
          100,
          101,
          102,
          103,
          104,
          105,
          106,
          107,
          108,
          109,
          110,
          111,
          112,
          113,
          114,
          115,
          116,
          117,
          118,
          119,
          120,
          121,
          122,
          123,
          124,
          125,
          126,
          127,
          128,
          129,
          130,
          131,
          132,
          133,
          134,
          135,
          136,
          137,
          138,
          139,
          140,
          141,
          142,
          143,
          144,
          145,
          146,
          147,
          148,
          149,
          150,
          151,
          152,
          153,
          154,
          155,
          156,
          157,
          158,
          159,
          160,
          161,
          162,
          163,
          164,
          165,
          166,
          167,
          168,
          169,
          170,
          171,
          172,
          173,
          174,
          175,
          176,
          177,
          178,
          179,
          180,
          181,
          182,
          183,
          184,
          185,
          186,
          187,
          188,
          189,
          190,
          191,
          192,
          193,
          194,
          195,
          196,
          197,
          198,
          199,
          200,
          201,
          202,
          203,
          204,
          205,
          206,
          207,
          208,
          209,
          210,
          211,
          212,
          213,
          214,
          215,
          216,
          217,
          218,
          219,
          220,
          221,
          222,
          223,
          224,
          225,
          226,
          227,
          228,
          229,
          230,
          231,
          232,
          233,
          234,
          235,
          236,
          237,
          238,
          239,
          240,
          241,
          242,
          243,
          244,
          245,
          246,
          247,
          248,
          249,
          250,
          251,
          252,
          253,
          254,
          255,
          256,
          257,
          258,
          259,
          260,
          261,
          262,
          263,
          264,
          265,
          266,
          267,
          268,
          269,
          270,
          271,
          272,
          273,
          274,
          275,
          276,
          277,
          278,
          279,
          280,
          281,
          282,
          283,
          284,
          285,
          286,
          287,
          288,
          289,
          290,
          291,
          292,
          293,
          294,
          295,
          296,
          297,
          298,
          299,
          300,
          301,
          302,
          303,
          304,
          305,
          306,
          307,
          308,
          309,
          310,
          311,
          312,
          313,
          314,
          315,
          316,
          317,
          318,
          319,
          320,
          321,
          322,
          323,
          324,
          325,
          326,
          327,
          328,
          329,
          330,
          331,
          332,
          333,
          334,
          335,
          336,
          337,
          338,
          339,
          340,
          341,
          342,
          343,
          344,
          345,
          346,
          347,
          348,
          349,
          350,
          351,
          352,
          353,
          354,
          355,
          356,
          357,
          358,
          359,
          360,
          361,
          362,
          363,
          364,
          365,
          366,
          367,
          368,
          369,
          370,
          371,
          372,
          373,
          374,
          375,
          376,
          377,
          378,
          379,
          380,
          381,
          382,
          383,
          384,
          385,
          386,
          387,
          388,
          389,
          390,
          391,
          392,
          393,
          394,
          395,
          396,
          397,
          398,
          399,
          400,
          401,
          402,
          403,
          404,
          405,
          406,
          407,
          408,
          409,
          410,
          411,
          412,
          413,
          414,
          415,
          416,
          417,
          418,
          419,
          420,
          421,
          422,
          423,
          424,
          425,
          426,
          427,
          428,
          429,
          430,
          431,
          432,
          433,
          434,
          435,
          436,
          437,
          438,
          439,
          440,
          441,
          442,
          443,
          444,
          445,
          446,
          447,
          448,
          449,
          450,
          451,
          452,
          453,
          454,
          455,
          456,
          457,
          458,
          459,
          460,
          461,
          462,
          463,
          464,
          465,
          466,
          467,
          468,
          469,
          470,
          471,
          472,
          473,
          474,
          475,
          476,
          477,
          478,
          479,
          480,
          481,
          482,
          483,
          484,
          485,
          486,
          487,
          488,
          489,
          490,
          491,
          492,
          493,
          494,
          495,
          496,
          497,
          498,
          499,
          500,
          501,
          502,
          503,
          504,
          505,
          506,
          507,
          508,
          509,
          510,
          511,
          512,
          513,
          514,
          515,
          516,
          517,
          518,
          519,
          520,
          521,
          522,
          523,
          524,
          525,
          526,
          527,
          528,
          529,
          530,
          531,
          532,
          533,
          534,
          535,
          536,
          537,
          538,
          539,
          540,
          541,
          542,
          543,
          544,
          545,
          546,
          547,
          548,
          549,
          550,
          551,
          552,
          553,
          554,
          555,
          556,
          557,
          558,
          559,
          560,
          561,
          562,
          563,
          564,
          565,
          566,
          567,
          568,
          569,
          570,
          571,
          572,
          573,
          574,
          575,
          576,
          577,
          578,
          579,
          580,
          581,
          582,
          583,
          584,
          585,
          586,
          587,
          588,
          589,
          590,
          591,
          592,
          593,
          594,
          595,
          596,
          597,
          598,
          599,
          600,
          601,
          602,
          603,
          604,
          605,
          606,
          607,
          608,
          609,
          610,
          611,
          612,
          613,
          614,
          615,
          616,
          617,
          618,
          619,
          620,
          621,
          622,
          623,
          624,
          625,
          626,
          627,
          628,
          629,
          630,
          631,
          632,
          633,
          634,
          635,
          636,
          637,
          638,
          639,
          640,
          641,
          642,
          643,
          644,
          645,
          646,
          647,
          648,
          649,
          650,
          651,
          652,
          653,
          654,
          655,
          656,
          657,
          658,
          659,
          660,
          661,
          662,
          663,
          664,
          665,
          666,
          667,
          668,
          669,
          670,
          671,
          672,
          673,
          674,
          675,
          676,
          677,
          678,
          679,
          680,
          681,
          682,
          683,
          684,
          685,
          686,
          687,
          688,
          689,
          690,
          691,
          692,
          693,
          694,
          695,
          696,
          697,
          698,
          699,
          700,
          701,
          702,
          703,
          704,
          705,
          706,
          707,
          708,
          709,
          710,
          711,
          712,
          713,
          714,
          715,
          716,
          717,
          718,
          719,
          720,
          721,
          722,
          723,
          724,
          725,
          726,
          727,
          728,
          729,
          730,
          731,
          732,
          733,
          734,
          735,
          736,
          737,
          738,
          739,
          740,
          741,
          742,
          743,
          744,
          745,
          746,
          747,
          748,
          749,
          750,
          751,
          752,
          753,
          754,
          755,
          756,
          757,
          758,
          759,
          760,
          761,
          762,
          763,
          764,
          765,
          766,
          767,
          768,
          769,
          770,
          771,
          772,
          773,
          774,
          775,
          776,
          777,
          778,
          779,
          780,
          781,
          782,
          783,
          784,
          785,
          786,
          787,
          788,
          789,
          790,
          791,
          792,
          793,
          794,
          795,
          796,
          797,
          798,
          799,
          800,
          801,
          802,
          803,
          804,
          805,
          806,
          807,
          808,
          809,
          810,
          811,
          812,
          813,
          814,
          815,
          816,
          817,
          818,
          819,
          820,
          821,
          822,
          823,
          824,
          825,
          826,
          827,
          828,
          829,
          830,
          831,
          832,
          833,
          834,
          835,
          836,
          837,
          838,
          839,
          840,
          841,
          842,
          843,
          844,
          845,
          846,
          847,
          848,
          849,
          850,
          851,
          852,
          853,
          854,
          855,
          856,
          857,
          858,
          859,
          860,
          861,
          862,
          863,
          864,
          865,
          866,
          867,
          868,
          869,
          870,
          871,
          872,
          873,
          874,
          875,
          876,
          877,
          878,
          879,
          880,
          881,
          882,
          883,
          884,
          885,
          886,
          887,
          888,
          889,
          890,
          891,
          892,
          893,
          894,
          895,
          896,
          897,
          898,
          899,
          900,
          901,
          902,
          903,
          904,
          905,
          906,
          907,
          908,
          909,
          910,
          911,
          912,
          913,
          914,
          915,
          916,
          917,
          918,
          919,
          920,
          921,
          922,
          923,
          924,
          925,
          926,
          927,
          928,
          929,
          930,
          931,
          932,
          933,
          934,
          935,
          936,
          937,
          938,
          939,
          940,
          941,
          942,
          943,
          944,
          945,
          946,
          947,
          948,
          949,
          950,
          951,
          952,
          953,
          954,
          955,
          956,
          957,
          958,
          959,
          960,
          961,
          962,
          963,
          964,
          965,
          966,
          967,
          968,
          969,
          970,
          971,
          972,
          973,
          974,
          975,
          976,
          977,
          978,
          979,
          980,
          981,
          982,
          983,
          984,
          985,
          986,
          987,
          988,
          989,
          990,
          991,
          992,
          993,
          994,
          995,
          996,
          997,
          998,
          999,
          1000
         ],
         "xaxis": "x",
         "y": [
          2.999625015361064,
          2.9995474263162407,
          2.999453546947369,
          2.9993399189517116,
          2.999202344929722,
          2.9990357304712503,
          2.9988338930083946,
          2.998589330816093,
          2.998292944460943,
          2.997933701894788,
          2.997498237380636,
          2.9969703737382853,
          2.996330557373923,
          2.995555196823515,
          2.994615899081537,
          2.993478605356695,
          2.99210264146686,
          2.990439721359621,
          2.988432980167215,
          2.9860161723002956,
          2.983113258040588,
          2.9796387259987385,
          2.975499160690847,
          2.9705967521091057,
          2.964835614804775,
          2.958131840945436,
          2.9504279799538944,
          2.9417118602344074,
          2.932038073432869,
          2.921547936340895,
          2.91048077062355,
          2.8991672373012833,
          2.887996427160953,
          2.8773544581480017,
          2.867543260227544,
          2.8586999259932186,
          2.850742523701791,
          2.84336240893351,
          2.836067228720484,
          2.8282610448252394,
          2.819337391385439,
          2.808761477684028,
          2.796126358083128,
          2.7811787778787633,
          2.7638187698926497,
          2.7440811457067897,
          2.722107437578669,
          2.698115181562338,
          2.6723691126098696,
          2.6451567292833658,
          2.6167691232761827,
          2.587486982418587,
          2.5575711503130987,
          2.5272569160653413,
          2.4967511886653497,
          2.4662317917885033,
          2.435848237610643,
          2.4057234685489735,
          2.3759561759956656,
          2.3466234076264954,
          2.317783258037931,
          2.289477502533706,
          2.261734083339107,
          2.234569394174868,
          2.2079903356228634,
          2.181996132359405,
          2.1565799160122205,
          2.131730085626784,
          2.1074314626902106,
          2.0836662602686937,
          2.0604148867627585,
          2.0376566045977134,
          2.0153700632356903,
          1.9935337245086422,
          1.9721261966372057,
          1.9511264915665731,
          1.930514218519403,
          1.9102697250047571,
          1.8903741949730168,
          1.8708097123927852,
          1.8515592972569372,
          1.8326069199019104,
          1.8139374985417747,
          1.795536884067425,
          1.7773918354302147,
          1.759489988306349,
          1.741819819211182,
          1.7243706067893538,
          1.7071323916364705,
          1.6900959357006942,
          1.6732526820590632,
          1.6565947156556415,
          1.6401147254196204,
          1.6238059680452188,
          1.6076622336063329,
          1.5916778130929146,
          1.5758474678891727,
          1.5601664011626104,
          1.5446302310948976,
          1.5292349658583388,
          1.5139769802232088,
          1.4988529936699193,
          1.483860049874424,
          1.4689954974343096,
          1.4542569717057077,
          1.4396423776266358,
          1.4251498734099826,
          1.410777854998482,
          1.3965249411842247,
          1.3823899593060602,
          1.3683719314493845,
          1.3544700610839384,
          1.3406837200861426,
          1.3270124361030002,
          1.3134558802244904,
          1.300013854940608,
          1.2866862823676004,
          1.2734731927355318,
          1.2603747131359389,
          1.2473910565340667,
          1.234522511054971,
          1.2217694295566341,
          1.2091322195062224,
          1.1966113331777315,
          1.1842072581905994,
          1.1719205084094286,
          1.1597516152248772,
          1.1477011192350575,
          1.1357695623455601,
          1.1239574803045242,
          1.1122653956871051,
          1.1006938113413325,
          1.0892432043047369,
          1.0779140201983872,
          1.0667066681021202,
          1.0556215159118594,
          1.0446588861770825,
          1.033819052413689,
          1.0231022358848678,
          1.0125086028400343,
          1.0020382621995796,
          0.9916912636710357,
          0.9814675962803571,
          0.9713671873003437,
          0.9613899015568005,
          0.9515355410918488,
          0.9418038451628487,
          0.9321944905547062,
          0.9227070921828389,
          0.913341203963837,
          0.9040963199307774,
          0.8949718755702992,
          0.8859672493588331,
          0.8770817644758504,
          0.8683146906725758,
          0.8596652462753261,
          0.851132600303452,
          0.8427158746827462,
          0.8344141465361572,
          0.8262264505346559,
          0.8181517812921577,
          0.8101890957894841,
          0.8023373158134329,
          0.7945953303981219,
          0.786961998256851,
          0.7794361501937888,
          0.7720165914858388,
          0.7647021042260349,
          0.7574914496208001,
          0.7503833702343203,
          0.7433765921741815,
          0.7364698272132424,
          0.7296617748435217,
          0.7229511242585964,
          0.716336556261715,
          0.7098167450974524,
          0.7033903602053297,
          0.6970560678943554,
          0.6908125329379362,
          0.6846584200890513,
          0.6785923955159824,
          0.6726131281592482,
          0.6667192910107143,
          0.6609095623161201,
          0.6551826267025187,
          0.6495371762323239,
          0.6439719113858473,
          0.6384855419743551,
          0.6330767879857917,
          0.6277443803654277,
          0.6224870617337546,
          0.617303587044016,
          0.6121927241817914,
          0.6071532545090796,
          0.6021839733553318,
          0.5972836904578758,
          0.5924512303541575,
          0.587685432728198,
          0.5829851527136225,
          0.5783492611555798,
          0.573776644833811,
          0.5692662066490792,
          0.5648168657751004,
          0.5604275577780566,
          0.556097234705706,
          0.5518248651480283,
          0.5476094342712758,
          0.5434499438272309,
          0.5393454121393878,
          0.535294874067716,
          0.5312973809535791,
          0.5273520005463168,
          0.5234578169129224,
          0.5196139303321821,
          0.5158194571745736,
          0.5120735297691463,
          0.5083752962585568,
          0.5047239204433505,
          0.5011185816165339,
          0.49755847438941814,
          0.49404280850965127,
          0.4905708086723137,
          0.48714171432488595,
          0.4837547794668575,
          0.4804092724446889,
          0.4771044757427982,
          0.4738396857711976,
          0.4706142126503611,
          0.4674273799938668,
          0.4642785246893193,
          0.4611669966780183,
          0.45809215873380943,
          0.45505338624151803,
          0.45205006697533406,
          0.449081600877493,
          0.446147399837565,
          0.44324688747263985,
          0.4403794989086717,
          0.43754468056322415,
          0.43474188992983587,
          0.43197059536420246,
          0.42923027587235774,
          0.4265204209010147,
          0.42384053013021106,
          0.42119011326838995,
          0.4185686898500297,
          0.41597578903592597,
          0.41341094941621404,
          0.41087371881620743,
          0.40836365410512004,
          0.4058803210077291,
          0.40342329391902165,
          0.40099215572186586,
          0.39858649760773573,
          0.39620591890051027,
          0.3938500268833631,
          0.39151843662875363,
          0.38921077083151856,
          0.3869266596450649,
          0.3846657405206563,
          0.3824276580497823,
          0.38021206380959094,
          0.3780186162113713,
          0.37584698035205677,
          0.37369682786872993,
          0.3715678367960941,
          0.3694596914268857,
          0.36737208217519046,
          0.3653047054426316,
          0.36325726348739074,
          0.36122946429602387,
          0.35922102145803364,
          0.35723165404315504,
          0.3552610864813159,
          0.3533090484452261,
          0.35137527473555435,
          0.34945950516864926,
          0.3475614844667577,
          0.3456809621506989,
          0.34381769243494875,
          0.3419714341250877,
          0.3401419505175698,
          0.338329009301767,
          0.3365323824642438,
          0.3347518461952183,
          0.33298718079716527,
          0.33123817059551747,
          0.329504603851421,
          0.3277862726765025,
          0.326082972949605,
          0.3243945042354497,
          0.3227206697051841,
          0.3210612760587711,
          0.31941613344918396,
          0.31778505540836144,
          0.31616785877488907,
          0.31456436362336204,
          0.31297439319539766,
          0.3113977738322543,
          0.30983433490902335,
          0.3082839087703566,
          0.30674633066769386,
          0.30522143869795526,
          0.3037090737436646,
          0.3022090794144705,
          0.3007213019900305,
          0.2992455903642284,
          0.29778179599069066,
          0.29632977282957373,
          0.29488937729558906,
          0.2934604682072375,
          0.2920429067372249,
          0.29063655636402835,
          0.28924128282458733,
          0.2878569540680921,
          0.2864834402108404,
          0.2851206134921416,
          0.28376834823123653,
          0.28242652078521463,
          0.28109500950789845,
          0.27977369470967606,
          0.2784624586182567,
          0.27716118534032624,
          0.275869760824082,
          0.27458807282262443,
          0.27331601085818596,
          0.27205346618717363,
          0.27080033176601015,
          0.26955650221774896,
          0.26832187379944783,
          0.26709634437028146,
          0.26587981336037325,
          0.2646721817403323,
          0.2634733519914741,
          0.262283228076712,
          0.2611017154121002,
          0.2599287208390142,
          0.25876415259695207,
          0.2576079202969421,
          0.256459934895541,
          0.2553201086694099,
          0.25418835519045213,
          0.25306458930150166,
          0.25194872709254446,
          0.25084068587746605,
          0.24974038417130617,
          0.24864774166801315,
          0.24756267921868258,
          0.24648511881027022,
          0.24541498354476818,
          0.244352197618831,
          0.2432966863038431,
          0.24224837592641565,
          0.24120719384930323,
          0.24017306845272934,
          0.2391459291161125,
          0.23812570620018098,
          0.23711233102946933,
          0.23610573587518702,
          0.23510585393844835,
          0.2341126193338573,
          0.2331259670734392,
          0.23214583305090786,
          0.23117215402626412,
          0.2302048676107155,
          0.2292439122519102,
          0.22828922721947753,
          0.227340752590869,
          0.22639842923749098,
          0.22546219881112362,
          0.224532003730619,
          0.22360778716887186,
          0.22268949304005606,
          0.2217770659871218,
          0.22087045136954675,
          0.2199695952513353,
          0.21907444438925977,
          0.21818494622134002,
          0.21730104885555254,
          0.2164227010587672,
          0.2155498522459044,
          0.2146824524693079,
          0.21382045240832948,
          0.212963803359119,
          0.21211245722461608,
          0.21126636650473976,
          0.21042548428676908,
          0.2095897642359138,
          0.20875916058606686,
          0.20793362813073896,
          0.2071131222141672,
          0.20629759872259662,
          0.20548701407572947,
          0.20468132521833965,
          0.20388048961204558,
          0.2030844652272431,
          0.20229321053519034,
          0.20150668450024317,
          0.20072484657223771,
          0.1999476566790176,
          0.19917507521909947,
          0.19840706305447933,
          0.1976435815035706,
          0.19688459233427522,
          0.19613005775718415,
          0.1953799404189021,
          0.19463420339549806,
          0.19389281018607352,
          0.19315572470645165,
          0.1924229112829808,
          0.1916943346464506,
          0.19096995992611965,
          0.190249752643852,
          0.18953367870835727,
          0.18882170440953844,
          0.18811379641293813,
          0.18740992175428528,
          0.18671004783414008,
          0.18601414241263398,
          0.18532217360430192,
          0.18463410987300827,
          0.1839499200269596,
          0.1832695732138081,
          0.18259303891583892,
          0.18192028694524204,
          0.1812512874394676,
          0.18058601085666032,
          0.17992442797117447,
          0.1792665098691657,
          0.17861222794425874,
          0.17796155389328977,
          0.17731445971212154,
          0.1766709176915302,
          0.1760309004131611,
          0.17539438074555452,
          0.17476133184023793,
          0.17413172712788422,
          0.17350554031453413,
          0.1728827453778832,
          0.17226331656362867,
          0.1716472283818798,
          0.17103445560362557,
          0.17042497325726172,
          0.16981875662517565,
          0.1692157812403864,
          0.16861602288324073,
          0.16801945757816256,
          0.16742606159045617,
          0.16683581142315945,
          0.16624868381395175,
          0.16566465573210729,
          0.16508370437550116,
          0.16450580716766194,
          0.16393094175487086,
          0.16335908600330906,
          0.1627902179962487,
          0.16222431603128898,
          0.16166135861763642,
          0.16110132447342768,
          0.1605441925230941,
          0.15998994189476834,
          0.15943855191773115,
          0.1588900021198974,
          0.15834427222534228,
          0.15780134215186475,
          0.15726119200858962,
          0.15672380209360523,
          0.15618915289163937,
          0.15565722507176832,
          0.1551279994851628,
          0.15460145716286766,
          0.154077579313615,
          0.15355634732167006,
          0.15303774274471066,
          0.15252174731173807,
          0.1520083429210179,
          0.1514975116380543,
          0.1509892356935922,
          0.15048349748165032,
          0.1499802795575827,
          0.14947956463616938,
          0.14898133558973556,
          0.14848557544629676,
          0.1479922673877333,
          0.14750139474798946,
          0.14701294101130064,
          0.1465268898104451,
          0.14604322492502103,
          0.14556193027974923,
          0.14508298994279933,
          0.1446063881241412,
          0.14413210917391822,
          0.14366013758084595,
          0.1431904579706314,
          0.14272305510441646,
          0.14225791387724243,
          0.14179501931653643,
          0.14133435658061894,
          0.140875910957233,
          0.140419667862093,
          0.1399656128374542,
          0.13951373155070218,
          0.13906400979296196,
          0.13861643347772612,
          0.1381709886395019,
          0.13772766143247667,
          0.1372864381292026,
          0.13684730511929816,
          0.13641024890816822,
          0.13597525611574093,
          0.13554231347522228,
          0.13511140783186731,
          0.13468252614176737,
          0.13425565547065516,
          0.13383078299272347,
          0.1334078959894625,
          0.13298698184851024,
          0.13256802806251972,
          0.13215102222804062,
          0.13173595204441602,
          0.13132280531269297,
          0.13091156993454908,
          0.13050223391123056,
          0.13009478534250724,
          0.1296892124256387,
          0.12928550345435502,
          0.12888364681785108,
          0.12848363099979287,
          0.1280854445773375,
          0.12768907622016568,
          0.12729451468952596,
          0.12690174883729222,
          0.12651076760503283,
          0.126121560023091,
          0.12573411520967787,
          0.12534842236997712,
          0.12496447079525896,
          0.12458224986200866,
          0.12420174903106271,
          0.12382295784675801,
          0.12344586593609086,
          0.12307046300788657,
          0.12269673885197925,
          0.12232468333840232,
          0.12195428641658829,
          0.12158553811457942,
          0.12121842853824692,
          0.12085294787052087,
          0.12048908637062872,
          0.12012683437334357,
          0.11976618228824182,
          0.1194071205989691,
          0.11904963986251613,
          0.11869373070850218,
          0.11833938383846838,
          0.11798659002517875,
          0.11763534011192961,
          0.11728562501186807,
          0.11693743570731774,
          0.116590763249113,
          0.11624559875594109,
          0.11590193341369193,
          0.11555975847481573,
          0.11521906525768832,
          0.11487984514598379,
          0.11454208958805398,
          0.11420579009631687,
          0.11387093824665004,
          0.11353752567779261,
          0.11320554409075417,
          0.1128749852482295,
          0.11254584097402115,
          0.112218103152468,
          0.11189176372788125,
          0.11156681470398574,
          0.11124324814336874,
          0.11092105616693418,
          0.11060023095336416,
          0.11028076473858536,
          0.10996264981524265,
          0.1096458785321776,
          0.10933044329391406,
          0.10901633656014881,
          0.10870355084524759,
          0.10839207871774822,
          0.10808191279986727,
          0.10777304576701432,
          0.10746547034730997,
          0.10715917932111046,
          0.10685416552053659,
          0.10655042182900863,
          0.10624794118078579,
          0.1059467165605113,
          0.10564674100276183,
          0.10534800759160295,
          0.10505050946014771,
          0.10475423979012233,
          0.10445919181143462,
          0.1041653588017478,
          0.10387273408605985,
          0.1035813110362857,
          0.10329108307084528,
          0.10300204365425575,
          0.1027141862967274,
          0.10242750455376526,
          0.10214199202577337,
          0.10185764235766434,
          0.10157444923847332,
          0.10129240640097456,
          0.10101150762130408,
          0.10073174671858488,
          0.10045311755455652,
          0.1001756140332086,
          0.09989923010041837,
          0.09962395974359195,
          0.09934979699130908,
          0.09907673591297188,
          0.09880477061845727,
          0.09853389525777298,
          0.09826410402071704,
          0.09799539113654115,
          0.0977277508736164,
          0.09746117753910441,
          0.09719566547863015,
          0.0969312090759587,
          0.09666780275267571,
          0.09640544096787049,
          0.09614411821782276,
          0.09588382903569248,
          0.09562456799121291,
          0.09536632969038657,
          0.09510910877518441,
          0.09485289992324841,
          0.09459769784759638,
          0.09434349729633068,
          0.09409029305234853,
          0.09383807993305716,
          0.09358685279008996,
          0.09333660650902656,
          0.09308733600911515,
          0.09283903624299825,
          0.09259170219644017,
          0.0923453288880583,
          0.09209991136905601,
          0.09185544472295926,
          0.09161192406535484,
          0.09136934454363177,
          0.09112770133672493,
          0.0908869896548615,
          0.09064720473930975,
          0.09040834186213001,
          0.09017039632592871,
          0.08993336346361404,
          0.08969723863815464,
          0.08946201724234001,
          0.08922769469854398,
          0.08899426645849012,
          0.08876172800301863,
          0.08853007484185695,
          0.08829930251339166,
          0.08806940658444265,
          0.0878403826500391,
          0.08761222633319893,
          0.08738493328470881,
          0.0871584991829069,
          0.08693291973346788,
          0.0867081906691898,
          0.0864843077497826,
          0.08626126676165935,
          0.08603906351772889,
          0.08581769385719065,
          0.0855971536453313,
          0.08537743877332335,
          0.08515854515802547,
          0.08494046874178529,
          0.0847232054922432,
          0.08450675140213837,
          0.08429110248911677,
          0.08407625479554055,
          0.08386220438829972,
          0.08364894735862474,
          0.08343647982190167,
          0.0832247979174888,
          0.0830138978085345,
          0.08280377568179745,
          0.08259442774746786,
          0.08238585023899102,
          0.0821780394128914,
          0.08197099154859985,
          0.08176470294828085,
          0.08155916993666243,
          0.0813543888608669,
          0.08115035609024396,
          0.08094706801620385,
          0.08074452105205414,
          0.08054271163283575,
          0.08034163621516185,
          0.08014129127705794,
          0.07994167331780327,
          0.07974277885777338,
          0.07954460443828461,
          0.07934714662143957,
          0.07915040198997417,
          0.07895436714710569,
          0.07875903871638293,
          0.07856441334153691,
          0.07837048768633326,
          0.07817725843442591,
          0.07798472228921186,
          0.07779287597368743,
          0.07760171623030576,
          0.07741123982083561,
          0.07722144352622086,
          0.07703232414644232,
          0.07684387850037948,
          0.0766561034256743,
          0.07646899577859619,
          0.07628255243390744,
          0.07609677028473091,
          0.0759116462424175,
          0.07572717723641637,
          0.07554336021414476,
          0.07536019214085954,
          0.0751776699995308,
          0.0749957907907145,
          0.07481455153242819,
          0.07463394926002645,
          0.07445398102607816,
          0.07427464390024449,
          0.07409593496915794,
          0.07391785133630244,
          0.07374039012189451,
          0.07356354846276544,
          0.07338732351224443,
          0.07321171244004243,
          0.07303671243213772,
          0.07286232069066145,
          0.07268853443378506,
          0.07251535089560798,
          0.07234276732604675,
          0.07217078099072452,
          0.07199938917086225,
          0.07182858916317,
          0.07165837827973945,
          0.07148875384793785,
          0.07131971321030174,
          0.07115125372443239,
          0.07098337276289214,
          0.07081606771310092,
          0.07064933597723427,
          0.07048317497212209,
          0.07031758212914758,
          0.07015255489414814,
          0.06998809072731597,
          0.06982418710310039,
          0.06966084151011029,
          0.06949805145101763,
          0.06933581444246184,
          0.06917412801495497,
          0.06901298971278713,
          0.06885239709393359,
          0.06869234772996191,
          0.06853283920593986,
          0.06837386912034472,
          0.06821543508497235,
          0.06805753472484796,
          0.06790016567813675,
          0.06774332559605593,
          0.06758701214278715,
          0.06743122299538948,
          0.06727595584371346,
          0.06712120839031535,
          0.0669669783503729,
          0.06681326345160048,
          0.06666006143416617,
          0.06650737005060901,
          0.06635518706575663,
          0.06620351025664373,
          0.06605233741243159,
          0.06590166633432755,
          0.06575149483550555,
          0.06560182074102727,
          0.06545264188776387,
          0.065303956124318,
          0.06515576131094698,
          0.06500805531948631,
          0.06486083603327356,
          0.06471410134707335,
          0.06456784916700237,
          0.06442207741045555,
          0.06427678400603212,
          0.064131966893463,
          0.06398762402353833,
          0.06384375335803512,
          0.06370035286964673,
          0.0635574205419116,
          0.06341495436914316,
          0.0632729523563601,
          0.06313141251921758,
          0.06299033288393803,
          0.06284971148724347,
          0.0627095463762883,
          0.06256983560859115,
          0.062430577251969724,
          0.06229176938447385,
          0.0621534100943202,
          0.06201549747982729,
          0.0618780296493512,
          0.061741004721220974,
          0.06160442082367573,
          0.061468276094801176,
          0.061332568682467004,
          0.06119729674426501,
          0.06106245844744723,
          0.06092805196886494,
          0.06079407549490775,
          0.06066052722144345,
          0.060527405353758085,
          0.060394708106496664,
          0.06026243370360426,
          0.060130580378267455,
          0.059999146372856256,
          0.05986812993886652,
          0.05973752933686275,
          0.05960734283642154,
          0.05947756871607461,
          0.05934820526325377,
          0.059219250774234594,
          0.059090703554081817,
          0.05896256191659434,
          0.05883482418425119,
          0.05870748868815741,
          0.05858055376799074,
          0.058454017771948294,
          0.05832787905669411,
          0.05820213598730654,
          0.05807678693722652,
          0.057951830288205886,
          0.05782726443025624,
          0.057703087761598174,
          0.057579298688610614,
          0.0574558956257809,
          0.05733287699565519,
          0.05721024122878885,
          0.057087986763697515,
          0.05696611204680863,
          0.056844615532412796,
          0.0567234956826164,
          0.05660275096729327,
          0.056482379864038035,
          0.05636238085811893,
          0.05624275244243121,
          0.05612349311745102,
          0.05600460139118943,
          0.05588607577914677,
          0.0557679148042675,
          0.05565011699689519,
          0.055532680894727765,
          0.05541560504277368,
          0.055298887993307275,
          0.05518252830582572,
          0.05506652454700517,
          0.05495087529065804,
          0.05483557911769006,
          0.054720634616057945,
          0.05460604038072725,
          0.054491795013630356,
          0.05437789712362502,
          0.05426434532645334,
          0.054151138244700234,
          0.05403827450775333,
          0.053925752751762215,
          0.053813571619598516,
          0.05370172976081586,
          0.05359022583161052,
          0.053479058494781906,
          0.05336822641969385,
          0.05325772828223568,
          0.05314756276478372,
          0.05303772855616309,
          0.05292822435161008,
          0.052819048852733946,
          0.05271020076748004,
          0.05260167881009238,
          0.05249348170107648,
          0.05238560816716344,
          0.0522780569412729,
          0.05217082676247711,
          0.05206391637596511,
          0.05195732453300722,
          0.05185104999091911,
          0.05174509151302747,
          0.0516394478686341,
          0.051534117832982285,
          0.05142910018722136,
          0.05132439371837336,
          0.05121999721929846,
          0.05111590948866164,
          0.05101212933089867,
          0.05090865555618348,
          0.050805486980394554,
          0.0507026224250825,
          0.05060006071743697,
          0.050497800690254904,
          0.05039584118190772,
          0.050294181036309824,
          0.0501928191028866,
          0.05009175423654302,
          0.049990985297632407,
          0.04989051115192509,
          0.04979033067057771,
          0.04969044273010241,
          0.04959084621233645,
          0.04949154000441203,
          0.049392522998725936,
          0.049293794092909834,
          0.0491953521898006,
          0.04909719619741085,
          0.048999325028899615,
          0.04890173760254335,
          0.048804432841706866,
          0.048707409674814774,
          0.04861066703532292,
          0.04851420386169012,
          0.048418019097349996,
          0.04832211169068287,
          0.04822648059498838,
          0.04813112476845752,
          0.048036043174145435,
          0.04794123477994407,
          0.04784669855855536,
          0.04775243348746408,
          0.047658438548911504,
          0.047564712729868446,
          0.04747125502200934,
          0.04737806442168578,
          0.04728513992990083,
          0.0471924805522828,
          0.04710008529905995,
          0.04700795318503485,
          0.046916083229558925,
          0.04682447445650763,
          0.0467331258942551,
          0.04664203657564951,
          0.04655120553798843,
          0.04646063182299417,
          0.04637031447678949,
          0.04628025254987352,
          0.04619044509709741,
          0.04610089117764081,
          0.046011589854987905,
          0.04592254019690386,
          0.045833741275411524,
          0.04574519216676791,
          0.04565689195144136,
          0.04556883971408825,
          0.045481034543530516,
          0.045393475532732624,
          0.04530616177877908,
          0.045219092382852336,
          0.045132266450210165,
          0.04504568309016374,
          0.04495934141605562,
          0.044873240545237864,
          0.044787379599050436,
          0.044701757702799556,
          0.04461637398573624,
          0.04453122758103528,
          0.044446317625773585,
          0.04436164326090982,
          0.04427720363126281,
          0.044192997885491456,
          0.04410902517607362,
          0.04402528465928585,
          0.04394177549518298,
          0.04385849684757784,
          0.04377544788402127,
          0.04369262777578202,
          0.04361003569782688,
          0.04352767082880108,
          0.0434455323510085,
          0.04336361945039234,
          0.04328193131651557,
          0.04320046714254199,
          0.04311922612521668,
          0.043038207464847336,
          0.04295741036528525,
          0.04287683403390655,
          0.04279647768159349,
          0.042716340522715994,
          0.04263642177511323,
          0.042556720660075195,
          0.04247723640232444,
          0.04239796822999857,
          0.04231891537463124,
          0.04224007707113532,
          0.04216145255778449,
          0.042083041076195704,
          0.042004841871312024,
          0.0419268541913846
         ],
         "yaxis": "y"
        }
       ],
       "layout": {
        "height": 400,
        "legend": {
         "tracegroupgap": 0
        },
        "template": {
         "data": {
          "bar": [
           {
            "error_x": {
             "color": "#2a3f5f"
            },
            "error_y": {
             "color": "#2a3f5f"
            },
            "marker": {
             "line": {
              "color": "#E5ECF6",
              "width": 0.5
             },
             "pattern": {
              "fillmode": "overlay",
              "size": 10,
              "solidity": 0.2
             }
            },
            "type": "bar"
           }
          ],
          "barpolar": [
           {
            "marker": {
             "line": {
              "color": "#E5ECF6",
              "width": 0.5
             },
             "pattern": {
              "fillmode": "overlay",
              "size": 10,
              "solidity": 0.2
             }
            },
            "type": "barpolar"
           }
          ],
          "carpet": [
           {
            "aaxis": {
             "endlinecolor": "#2a3f5f",
             "gridcolor": "white",
             "linecolor": "white",
             "minorgridcolor": "white",
             "startlinecolor": "#2a3f5f"
            },
            "baxis": {
             "endlinecolor": "#2a3f5f",
             "gridcolor": "white",
             "linecolor": "white",
             "minorgridcolor": "white",
             "startlinecolor": "#2a3f5f"
            },
            "type": "carpet"
           }
          ],
          "choropleth": [
           {
            "colorbar": {
             "outlinewidth": 0,
             "ticks": ""
            },
            "type": "choropleth"
           }
          ],
          "contour": [
           {
            "colorbar": {
             "outlinewidth": 0,
             "ticks": ""
            },
            "colorscale": [
             [
              0,
              "#0d0887"
             ],
             [
              0.1111111111111111,
              "#46039f"
             ],
             [
              0.2222222222222222,
              "#7201a8"
             ],
             [
              0.3333333333333333,
              "#9c179e"
             ],
             [
              0.4444444444444444,
              "#bd3786"
             ],
             [
              0.5555555555555556,
              "#d8576b"
             ],
             [
              0.6666666666666666,
              "#ed7953"
             ],
             [
              0.7777777777777778,
              "#fb9f3a"
             ],
             [
              0.8888888888888888,
              "#fdca26"
             ],
             [
              1,
              "#f0f921"
             ]
            ],
            "type": "contour"
           }
          ],
          "contourcarpet": [
           {
            "colorbar": {
             "outlinewidth": 0,
             "ticks": ""
            },
            "type": "contourcarpet"
           }
          ],
          "heatmap": [
           {
            "colorbar": {
             "outlinewidth": 0,
             "ticks": ""
            },
            "colorscale": [
             [
              0,
              "#0d0887"
             ],
             [
              0.1111111111111111,
              "#46039f"
             ],
             [
              0.2222222222222222,
              "#7201a8"
             ],
             [
              0.3333333333333333,
              "#9c179e"
             ],
             [
              0.4444444444444444,
              "#bd3786"
             ],
             [
              0.5555555555555556,
              "#d8576b"
             ],
             [
              0.6666666666666666,
              "#ed7953"
             ],
             [
              0.7777777777777778,
              "#fb9f3a"
             ],
             [
              0.8888888888888888,
              "#fdca26"
             ],
             [
              1,
              "#f0f921"
             ]
            ],
            "type": "heatmap"
           }
          ],
          "heatmapgl": [
           {
            "colorbar": {
             "outlinewidth": 0,
             "ticks": ""
            },
            "colorscale": [
             [
              0,
              "#0d0887"
             ],
             [
              0.1111111111111111,
              "#46039f"
             ],
             [
              0.2222222222222222,
              "#7201a8"
             ],
             [
              0.3333333333333333,
              "#9c179e"
             ],
             [
              0.4444444444444444,
              "#bd3786"
             ],
             [
              0.5555555555555556,
              "#d8576b"
             ],
             [
              0.6666666666666666,
              "#ed7953"
             ],
             [
              0.7777777777777778,
              "#fb9f3a"
             ],
             [
              0.8888888888888888,
              "#fdca26"
             ],
             [
              1,
              "#f0f921"
             ]
            ],
            "type": "heatmapgl"
           }
          ],
          "histogram": [
           {
            "marker": {
             "pattern": {
              "fillmode": "overlay",
              "size": 10,
              "solidity": 0.2
             }
            },
            "type": "histogram"
           }
          ],
          "histogram2d": [
           {
            "colorbar": {
             "outlinewidth": 0,
             "ticks": ""
            },
            "colorscale": [
             [
              0,
              "#0d0887"
             ],
             [
              0.1111111111111111,
              "#46039f"
             ],
             [
              0.2222222222222222,
              "#7201a8"
             ],
             [
              0.3333333333333333,
              "#9c179e"
             ],
             [
              0.4444444444444444,
              "#bd3786"
             ],
             [
              0.5555555555555556,
              "#d8576b"
             ],
             [
              0.6666666666666666,
              "#ed7953"
             ],
             [
              0.7777777777777778,
              "#fb9f3a"
             ],
             [
              0.8888888888888888,
              "#fdca26"
             ],
             [
              1,
              "#f0f921"
             ]
            ],
            "type": "histogram2d"
           }
          ],
          "histogram2dcontour": [
           {
            "colorbar": {
             "outlinewidth": 0,
             "ticks": ""
            },
            "colorscale": [
             [
              0,
              "#0d0887"
             ],
             [
              0.1111111111111111,
              "#46039f"
             ],
             [
              0.2222222222222222,
              "#7201a8"
             ],
             [
              0.3333333333333333,
              "#9c179e"
             ],
             [
              0.4444444444444444,
              "#bd3786"
             ],
             [
              0.5555555555555556,
              "#d8576b"
             ],
             [
              0.6666666666666666,
              "#ed7953"
             ],
             [
              0.7777777777777778,
              "#fb9f3a"
             ],
             [
              0.8888888888888888,
              "#fdca26"
             ],
             [
              1,
              "#f0f921"
             ]
            ],
            "type": "histogram2dcontour"
           }
          ],
          "mesh3d": [
           {
            "colorbar": {
             "outlinewidth": 0,
             "ticks": ""
            },
            "type": "mesh3d"
           }
          ],
          "parcoords": [
           {
            "line": {
             "colorbar": {
              "outlinewidth": 0,
              "ticks": ""
             }
            },
            "type": "parcoords"
           }
          ],
          "pie": [
           {
            "automargin": true,
            "type": "pie"
           }
          ],
          "scatter": [
           {
            "fillpattern": {
             "fillmode": "overlay",
             "size": 10,
             "solidity": 0.2
            },
            "type": "scatter"
           }
          ],
          "scatter3d": [
           {
            "line": {
             "colorbar": {
              "outlinewidth": 0,
              "ticks": ""
             }
            },
            "marker": {
             "colorbar": {
              "outlinewidth": 0,
              "ticks": ""
             }
            },
            "type": "scatter3d"
           }
          ],
          "scattercarpet": [
           {
            "marker": {
             "colorbar": {
              "outlinewidth": 0,
              "ticks": ""
             }
            },
            "type": "scattercarpet"
           }
          ],
          "scattergeo": [
           {
            "marker": {
             "colorbar": {
              "outlinewidth": 0,
              "ticks": ""
             }
            },
            "type": "scattergeo"
           }
          ],
          "scattergl": [
           {
            "marker": {
             "colorbar": {
              "outlinewidth": 0,
              "ticks": ""
             }
            },
            "type": "scattergl"
           }
          ],
          "scattermapbox": [
           {
            "marker": {
             "colorbar": {
              "outlinewidth": 0,
              "ticks": ""
             }
            },
            "type": "scattermapbox"
           }
          ],
          "scatterpolar": [
           {
            "marker": {
             "colorbar": {
              "outlinewidth": 0,
              "ticks": ""
             }
            },
            "type": "scatterpolar"
           }
          ],
          "scatterpolargl": [
           {
            "marker": {
             "colorbar": {
              "outlinewidth": 0,
              "ticks": ""
             }
            },
            "type": "scatterpolargl"
           }
          ],
          "scatterternary": [
           {
            "marker": {
             "colorbar": {
              "outlinewidth": 0,
              "ticks": ""
             }
            },
            "type": "scatterternary"
           }
          ],
          "surface": [
           {
            "colorbar": {
             "outlinewidth": 0,
             "ticks": ""
            },
            "colorscale": [
             [
              0,
              "#0d0887"
             ],
             [
              0.1111111111111111,
              "#46039f"
             ],
             [
              0.2222222222222222,
              "#7201a8"
             ],
             [
              0.3333333333333333,
              "#9c179e"
             ],
             [
              0.4444444444444444,
              "#bd3786"
             ],
             [
              0.5555555555555556,
              "#d8576b"
             ],
             [
              0.6666666666666666,
              "#ed7953"
             ],
             [
              0.7777777777777778,
              "#fb9f3a"
             ],
             [
              0.8888888888888888,
              "#fdca26"
             ],
             [
              1,
              "#f0f921"
             ]
            ],
            "type": "surface"
           }
          ],
          "table": [
           {
            "cells": {
             "fill": {
              "color": "#EBF0F8"
             },
             "line": {
              "color": "white"
             }
            },
            "header": {
             "fill": {
              "color": "#C8D4E3"
             },
             "line": {
              "color": "white"
             }
            },
            "type": "table"
           }
          ]
         },
         "layout": {
          "annotationdefaults": {
           "arrowcolor": "#2a3f5f",
           "arrowhead": 0,
           "arrowwidth": 1
          },
          "autotypenumbers": "strict",
          "coloraxis": {
           "colorbar": {
            "outlinewidth": 0,
            "ticks": ""
           }
          },
          "colorscale": {
           "diverging": [
            [
             0,
             "#8e0152"
            ],
            [
             0.1,
             "#c51b7d"
            ],
            [
             0.2,
             "#de77ae"
            ],
            [
             0.3,
             "#f1b6da"
            ],
            [
             0.4,
             "#fde0ef"
            ],
            [
             0.5,
             "#f7f7f7"
            ],
            [
             0.6,
             "#e6f5d0"
            ],
            [
             0.7,
             "#b8e186"
            ],
            [
             0.8,
             "#7fbc41"
            ],
            [
             0.9,
             "#4d9221"
            ],
            [
             1,
             "#276419"
            ]
           ],
           "sequential": [
            [
             0,
             "#0d0887"
            ],
            [
             0.1111111111111111,
             "#46039f"
            ],
            [
             0.2222222222222222,
             "#7201a8"
            ],
            [
             0.3333333333333333,
             "#9c179e"
            ],
            [
             0.4444444444444444,
             "#bd3786"
            ],
            [
             0.5555555555555556,
             "#d8576b"
            ],
            [
             0.6666666666666666,
             "#ed7953"
            ],
            [
             0.7777777777777778,
             "#fb9f3a"
            ],
            [
             0.8888888888888888,
             "#fdca26"
            ],
            [
             1,
             "#f0f921"
            ]
           ],
           "sequentialminus": [
            [
             0,
             "#0d0887"
            ],
            [
             0.1111111111111111,
             "#46039f"
            ],
            [
             0.2222222222222222,
             "#7201a8"
            ],
            [
             0.3333333333333333,
             "#9c179e"
            ],
            [
             0.4444444444444444,
             "#bd3786"
            ],
            [
             0.5555555555555556,
             "#d8576b"
            ],
            [
             0.6666666666666666,
             "#ed7953"
            ],
            [
             0.7777777777777778,
             "#fb9f3a"
            ],
            [
             0.8888888888888888,
             "#fdca26"
            ],
            [
             1,
             "#f0f921"
            ]
           ]
          },
          "colorway": [
           "#636efa",
           "#EF553B",
           "#00cc96",
           "#ab63fa",
           "#FFA15A",
           "#19d3f3",
           "#FF6692",
           "#B6E880",
           "#FF97FF",
           "#FECB52"
          ],
          "font": {
           "color": "#2a3f5f"
          },
          "geo": {
           "bgcolor": "white",
           "lakecolor": "white",
           "landcolor": "#E5ECF6",
           "showlakes": true,
           "showland": true,
           "subunitcolor": "white"
          },
          "hoverlabel": {
           "align": "left"
          },
          "hovermode": "closest",
          "mapbox": {
           "style": "light"
          },
          "paper_bgcolor": "white",
          "plot_bgcolor": "#E5ECF6",
          "polar": {
           "angularaxis": {
            "gridcolor": "white",
            "linecolor": "white",
            "ticks": ""
           },
           "bgcolor": "#E5ECF6",
           "radialaxis": {
            "gridcolor": "white",
            "linecolor": "white",
            "ticks": ""
           }
          },
          "scene": {
           "xaxis": {
            "backgroundcolor": "#E5ECF6",
            "gridcolor": "white",
            "gridwidth": 2,
            "linecolor": "white",
            "showbackground": true,
            "ticks": "",
            "zerolinecolor": "white"
           },
           "yaxis": {
            "backgroundcolor": "#E5ECF6",
            "gridcolor": "white",
            "gridwidth": 2,
            "linecolor": "white",
            "showbackground": true,
            "ticks": "",
            "zerolinecolor": "white"
           },
           "zaxis": {
            "backgroundcolor": "#E5ECF6",
            "gridcolor": "white",
            "gridwidth": 2,
            "linecolor": "white",
            "showbackground": true,
            "ticks": "",
            "zerolinecolor": "white"
           }
          },
          "shapedefaults": {
           "line": {
            "color": "#2a3f5f"
           }
          },
          "ternary": {
           "aaxis": {
            "gridcolor": "white",
            "linecolor": "white",
            "ticks": ""
           },
           "baxis": {
            "gridcolor": "white",
            "linecolor": "white",
            "ticks": ""
           },
           "bgcolor": "#E5ECF6",
           "caxis": {
            "gridcolor": "white",
            "linecolor": "white",
            "ticks": ""
           }
          },
          "title": {
           "x": 0.05
          },
          "xaxis": {
           "automargin": true,
           "gridcolor": "white",
           "linecolor": "white",
           "ticks": "",
           "title": {
            "standoff": 15
           },
           "zerolinecolor": "white",
           "zerolinewidth": 2
          },
          "yaxis": {
           "automargin": true,
           "gridcolor": "white",
           "linecolor": "white",
           "ticks": "",
           "title": {
            "standoff": 15
           },
           "zerolinecolor": "white",
           "zerolinewidth": 2
          }
         }
        },
        "title": {
         "text": "Error Convergence with Sigmoid function"
        },
        "width": 800,
        "xaxis": {
         "anchor": "y",
         "domain": [
          0,
          1
         ],
         "title": {
          "text": "epochs"
         }
        },
        "yaxis": {
         "anchor": "x",
         "domain": [
          0,
          1
         ],
         "title": {
          "text": "errors"
         }
        }
       }
      }
     },
     "metadata": {},
     "output_type": "display_data"
    }
   ],
   "source": [
    "# plot the error values for Sigmoid function\n",
    "plot_graph(errors, 'Error Convergence with Sigmoid function')"
   ]
  },
  {
   "cell_type": "markdown",
   "metadata": {},
   "source": [
    "Training with ReLU Function::"
   ]
  },
  {
   "cell_type": "code",
   "execution_count": 34,
   "metadata": {},
   "outputs": [
    {
     "name": "stdout",
     "output_type": "stream",
     "text": [
      "Converged after 390 epochs.\n"
     ]
    }
   ],
   "source": [
    "labels = np.array([0, 0, 0, 1]) # ReLU function\n",
    "perceptron = Perceptron(num_inputs=3, learning_rate = learning_rate, initial_weights=initial_weights, activation_function='relu')\n",
    "errors = perceptron.train(training_inputs_with_bias, labels)"
   ]
  },
  {
   "cell_type": "code",
   "execution_count": 35,
   "metadata": {},
   "outputs": [
    {
     "data": {
      "application/vnd.plotly.v1+json": {
       "config": {
        "plotlyServerURL": "https://plot.ly"
       },
       "data": [
        {
         "hovertemplate": "epochs=%{x}<br>errors=%{y}<extra></extra>",
         "legendgroup": "",
         "line": {
          "color": "#636efa",
          "dash": "solid"
         },
         "marker": {
          "symbol": "circle"
         },
         "mode": "lines",
         "name": "",
         "orientation": "v",
         "showlegend": false,
         "type": "scatter",
         "x": [
          1,
          2,
          3,
          4,
          5,
          6,
          7,
          8,
          9,
          10,
          11,
          12,
          13,
          14,
          15,
          16,
          17,
          18,
          19,
          20,
          21,
          22,
          23,
          24,
          25,
          26,
          27,
          28,
          29,
          30,
          31,
          32,
          33,
          34,
          35,
          36,
          37,
          38,
          39,
          40,
          41,
          42,
          43,
          44,
          45,
          46,
          47,
          48,
          49,
          50,
          51,
          52,
          53,
          54,
          55,
          56,
          57,
          58,
          59,
          60,
          61,
          62,
          63,
          64,
          65,
          66,
          67,
          68,
          69,
          70,
          71,
          72,
          73,
          74,
          75,
          76,
          77,
          78,
          79,
          80,
          81,
          82,
          83,
          84,
          85,
          86,
          87,
          88,
          89,
          90,
          91,
          92,
          93,
          94,
          95,
          96,
          97,
          98,
          99,
          100,
          101,
          102,
          103,
          104,
          105,
          106,
          107,
          108,
          109,
          110,
          111,
          112,
          113,
          114,
          115,
          116,
          117,
          118,
          119,
          120,
          121,
          122,
          123,
          124,
          125,
          126,
          127,
          128,
          129,
          130,
          131,
          132,
          133,
          134,
          135,
          136,
          137,
          138,
          139,
          140,
          141,
          142,
          143,
          144,
          145,
          146,
          147,
          148,
          149,
          150,
          151,
          152,
          153,
          154,
          155,
          156,
          157,
          158,
          159,
          160,
          161,
          162,
          163,
          164,
          165,
          166,
          167,
          168,
          169,
          170,
          171,
          172,
          173,
          174,
          175,
          176,
          177,
          178,
          179,
          180,
          181,
          182,
          183,
          184,
          185,
          186,
          187,
          188,
          189,
          190,
          191,
          192,
          193,
          194,
          195,
          196,
          197,
          198,
          199,
          200,
          201,
          202,
          203,
          204,
          205,
          206,
          207,
          208,
          209,
          210,
          211,
          212,
          213,
          214,
          215,
          216,
          217,
          218,
          219,
          220,
          221,
          222,
          223,
          224,
          225,
          226,
          227,
          228,
          229,
          230,
          231,
          232,
          233,
          234,
          235,
          236,
          237,
          238,
          239,
          240,
          241,
          242,
          243,
          244,
          245,
          246,
          247,
          248,
          249,
          250,
          251,
          252,
          253,
          254,
          255,
          256,
          257,
          258,
          259,
          260,
          261,
          262,
          263,
          264,
          265,
          266,
          267,
          268,
          269,
          270,
          271,
          272,
          273,
          274,
          275,
          276,
          277,
          278,
          279,
          280,
          281,
          282,
          283,
          284,
          285,
          286,
          287,
          288,
          289,
          290,
          291,
          292,
          293,
          294,
          295,
          296,
          297,
          298,
          299,
          300,
          301,
          302,
          303,
          304,
          305,
          306,
          307,
          308,
          309,
          310,
          311,
          312,
          313,
          314,
          315,
          316,
          317,
          318,
          319,
          320,
          321,
          322,
          323,
          324,
          325,
          326,
          327,
          328,
          329,
          330,
          331,
          332,
          333,
          334,
          335,
          336,
          337,
          338,
          339,
          340,
          341,
          342,
          343,
          344,
          345,
          346,
          347,
          348,
          349,
          350,
          351,
          352,
          353,
          354,
          355,
          356,
          357,
          358,
          359,
          360,
          361,
          362,
          363,
          364,
          365,
          366,
          367,
          368,
          369,
          370,
          371,
          372,
          373,
          374,
          375,
          376,
          377,
          378,
          379,
          380,
          381,
          382,
          383,
          384,
          385,
          386,
          387,
          388,
          389,
          390
         ],
         "xaxis": "x",
         "y": [
          300.16353281249997,
          170.39313595313018,
          102.7652019210916,
          66.98001022150997,
          47.581816689810616,
          36.1132934413367,
          28.124551190200535,
          22.42922681397694,
          18.324039261549782,
          15.326918241235493,
          13.106524014223647,
          11.43438253715373,
          10.152350658272573,
          9.150478061298854,
          8.351924413585472,
          7.6993524891463085,
          7.144458856096855,
          6.665104343584681,
          6.247598902269077,
          5.881102208764658,
          5.556990719912581,
          5.2683701517897,
          5.0096993407228325,
          4.7764994958788325,
          4.565128989697716,
          4.372608510676381,
          4.196484970660254,
          4.034725280590629,
          3.8856331860717996,
          3.7477839405325937,
          3.6199728059192275,
          3.5011742976715174,
          3.390509799904562,
          3.287221719812168,
          3.1906527666161626,
          3.1002292598492067,
          3.0154476172031703,
          2.9358633610065095,
          2.861082127891126,
          2.7907522785064174,
          2.7244104158002473,
          2.6606371013579926,
          2.5983525477772242,
          2.5377862695603164,
          2.479118907007197,
          2.422488007178168,
          2.367993922014175,
          2.3157054220723525,
          2.2656648197209766,
          2.217892516077542,
          2.172390957813265,
          2.129148030633902,
          2.0881399372747866,
          2.049333616739716,
          2.0126887631497326,
          1.9781595000802754,
          1.945695761631495,
          1.9152444259199208,
          1.8867502409328383,
          1.8601565771678072,
          1.8354060364077793,
          1.812440941453013,
          1.735457333994404,
          1.6439234201958777,
          1.558220660260444,
          1.4777570203588417,
          1.4021538537654004,
          1.331125253187027,
          1.264424127746735,
          1.2018197326298028,
          1.1430895038387405,
          1.0880170157305522,
          1.0363922679113529,
          0.9880126241905371,
          0.9426837233387634,
          0.9002201342406697,
          0.8604457211129866,
          0.8231937570550071,
          0.7883068434971299,
          0.7556366907908312,
          0.7250438056421298,
          0.6963971204817412,
          0.6695735905097921,
          0.6444577766751645,
          0.6209414271826283,
          0.5989230659659773,
          0.5783075935871725,
          0.5590059039229875,
          0.5409345185432702,
          0.5240152396868576,
          0.5081748220681324,
          0.49334466330200744,
          0.4794605124483799,
          0.46646219599973604,
          0.4542933605331865,
          0.4429012311966808,
          0.4322363851817781,
          0.42225253934054896,
          0.4129063511239589,
          0.4041572320479603,
          0.395967172927732,
          0.3883005801575393,
          0.3811241223518185,
          0.3743281831401294,
          0.3676529688515875,
          0.36107003125935405,
          0.35458381228401725,
          0.3481978590637238,
          0.34191466095949985,
          0.3357357254411393,
          0.32966173722212483,
          0.3236927294748835,
          0.3178282378868267,
          0.3120674283579393,
          0.30640919811189,
          0.30085225351411626,
          0.295395168842507,
          0.2900364300871907,
          0.2847744672717828,
          0.2796076781169806,
          0.2745344452472993,
          0.2695531486204771,
          0.2646621744425597,
          0.25985992150888837,
          0.2551448056659587,
          0.2505152629052246,
          0.2459697514633043,
          0.2415067532021976,
          0.23712477446902813,
          0.23282234658056877,
          0.2285980260381718,
          0.22445039454982485,
          0.22037805891500828,
          0.2163796508127219,
          0.21245382652191597,
          0.20859926659548503,
          0.20481467550310395,
          0.20109878125393676,
          0.19745033500714965,
          0.19386811067592555,
          0.19035090452905218,
          0.18689753479297866,
          0.18350684125638606,
          0.18017768487870248,
          0.17690894740354662,
          0.1736995309777658,
          0.17054835777650268,
          0.1674543696345587,
          0.164416527684204,
          0.16143381199950121,
          0.15850522124714683,
          0.1556297723437962,
          0.15280650011980534,
          0.15003445698930548,
          0.1473127126265118,
          0.1446403536481598,
          0.14201648330195726,
          0.13944022116093752,
          0.13691070282359852,
          0.13442707961971237,
          0.1319885183216915,
          0.12959420086139883,
          0.12724332405228989,
          0.12493509931678179,
          0.12266875241873863,
          0.12044352320097318,
          0.11825866532766131,
          0.11611344603157112,
          0.11400714586601035,
          0.11193905846139675,
          0.10990849028636078,
          0.10791476041328965,
          0.1059572002882253,
          0.10403515350503179,
          0.10214797558374605,
          0.10029503375303273,
          0.09847570673666235,
          0.09668938454393378,
          0.0949354682639666,
          0.09321336986378764,
          0.09152251199013825,
          0.08986232777493303,
          0.08823226064429773,
          0.0866317641311203,
          0.08506030169104606,
          0.08351734652185383,
          0.08200238138614768,
          0.08051489843730168,
          0.07905439904859649,
          0.07762039364548831,
          0.07621240154094988,
          0.07482995077382737,
          0.07347257795015597,
          0.07213982808737834,
          0.07083125446141286,
          0.06954641845651754,
          0.06828488941789804,
          0.06704624450700845,
          0.06583006855949451,
          0.06463595394573163,
          0.06346350043390697,
          0.06231231505560196,
          0.06118201197382494,
          0.06007221235345224,
          0.0589825442340311,
          0.057912642404901335,
          0.05686214828259317,
          0.055830709790458996,
          0.054817981240498165,
          0.05382362321733448,
          0.052847302464305974,
          0.051888691771629976,
          0.050947469866602875,
          0.05002332130579959,
          0.0491159363692342,
          0.04822501095644697,
          0.04735024648448201,
          0.046491349787720807,
          0.04564803301953745,
          0.04482001355574337,
          0.044007013899787076,
          0.04320876158967834,
          0.04242498910660389,
          0.04165543378520552,
          0.040899837725488136,
          0.04015794770632947,
          0.039429515100561835,
          0.03871429579159667,
          0.03801205009156447,
          0.03732254266094233,
          0.036645542429640965,
          0.03598082251952647,
          0.03532816016834876,
          0.03468733665505203,
          0.0340581372264423,
          0.033440351025186194,
          0.03283377101911829,
          0.032238193931831305,
          0.03165342017452755,
          0.03107925377910766,
          0.03051550233247408,
          0.029961976912027947,
          0.029418492022336484,
          0.028884865532950953,
          0.028360918617352876,
          0.027846475693009045,
          0.027341364362514935,
          0.026845415355805882,
          0.026358462473418054,
          0.02588034253077885,
          0.025410895303508624,
          0.024949963473715187,
          0.024497392577263473,
          0.024053030952001744,
          0.02361672968692754,
          0.02318834257227666,
          0.022767726050517433,
          0.022354739168234647,
          0.0219492435288866,
          0.021551103246419505,
          0.021160184899723513,
          0.020776357487915734,
          0.02039949238643388,
          0.020029463303927235,
          0.019666146239929974,
          0.019309419443301883,
          0.018959163371423893,
          0.018615260650133483,
          0.018277596034387337,
          0.017946056369637704,
          0.01762053055390946,
          0.017300909500565415,
          0.01698708610174686,
          0.016678955192478077,
          0.016376413515421354,
          0.016079359686271912,
          0.01578769415978078,
          0.015501319196393557,
          0.015220138829495189,
          0.014944058833248326,
          0.014672986691015646,
          0.014406831564354714,
          0.014145504262575805,
          0.013888917212851345,
          0.013636984430868358,
          0.013389621492012749,
          0.013146745503076759,
          0.012908275074479225,
          0.012674130292990464,
          0.012444232694951318,
          0.012218505239978392,
          0.011996872285146336,
          0.011779259559638188,
          0.011565594139856004,
          0.011355804424982569,
          0.011149820112986873,
          0.010947572177064517,
          0.010748992842505588,
          0.010554015563982316,
          0.010362575003248707,
          0.010174607007244502,
          0.009990048586596549,
          0.00980883789451014,
          0.009630914206043222,
          0.009456217897756601,
          0.00928469042773333,
          0.009116274315960385,
          0.008950913125066587,
          0.008788551441409356,
          0.008629134856505266,
          0.008472609948796821,
          0.008318924265750347,
          0.00816802630627846,
          0.008019865503481566,
          0.007874392207702212,
          0.007731557669886913,
          0.007591314025249916,
          0.007453614277233124,
          0.007318412281756984,
          0.007185662731757295,
          0.007055321142002231,
          0.00692734383418483,
          0.006801687922286142,
          0.006678311298203598,
          0.00655717261764016,
          0.006438231286249471,
          0.006321447446032464,
          0.00620678196198025,
          0.00609419640896003,
          0.005983653058838124,
          0.005875114867837221,
          0.005768545464122511,
          0.005663909135613264,
          0.005561170818015355,
          0.005460296083070986,
          0.005361251127021434,
          0.005264002759279142,
          0.005168518391305351,
          0.005074766025689334,
          0.0049827142454258715,
          0.004892332203387153,
          0.004803589611985595,
          0.004716456733024357,
          0.004630904367731767,
          0.004546903846976648,
          0.00446442702166097,
          0.004383446253287007,
          0.0043039344046953715,
          0.004225864830971256,
          0.004149211370515413,
          0.004073948336277259,
          0.004000050507147025,
          0.003927493119503886,
          0.0038562518589175714,
          0.0037863028520003315,
          0.003717622658406961,
          0.0036501882629795556,
          0.0035839770680351625,
          0.0035189668857930827,
          0.003455135930939545,
          0.003392462813327304,
          0.0033309265308077963,
          0.003270506462192956,
          0.00321118236034508,
          0.0031529343453918137,
          0.0030957428980642942,
          0.0030395888531560746,
          0.002984453393100804,
          0.0029303180416662706,
          0.0028771646577628934,
          0.0028249754293646033,
          0.0027737328675398057,
          0.0027234198005908665,
          0.002674019368299562,
          0.002625515016277331,
          0.0025778904904176217,
          0.0025311298314491517,
          0.002485217369587756,
          0.0024401377192854335,
          0.002395875774074447,
          0.002352416701505173,
          0.0023097459381755643,
          0.00226784918485086,
          0.0022267124016718816,
          0.0021863218034501196,
          0.0021466638550482592,
          0.0021077252668445026,
          0.002069492990279079,
          0.0020319542134816125,
          0.0019950963569777946
         ],
         "yaxis": "y"
        }
       ],
       "layout": {
        "height": 400,
        "legend": {
         "tracegroupgap": 0
        },
        "template": {
         "data": {
          "bar": [
           {
            "error_x": {
             "color": "#2a3f5f"
            },
            "error_y": {
             "color": "#2a3f5f"
            },
            "marker": {
             "line": {
              "color": "#E5ECF6",
              "width": 0.5
             },
             "pattern": {
              "fillmode": "overlay",
              "size": 10,
              "solidity": 0.2
             }
            },
            "type": "bar"
           }
          ],
          "barpolar": [
           {
            "marker": {
             "line": {
              "color": "#E5ECF6",
              "width": 0.5
             },
             "pattern": {
              "fillmode": "overlay",
              "size": 10,
              "solidity": 0.2
             }
            },
            "type": "barpolar"
           }
          ],
          "carpet": [
           {
            "aaxis": {
             "endlinecolor": "#2a3f5f",
             "gridcolor": "white",
             "linecolor": "white",
             "minorgridcolor": "white",
             "startlinecolor": "#2a3f5f"
            },
            "baxis": {
             "endlinecolor": "#2a3f5f",
             "gridcolor": "white",
             "linecolor": "white",
             "minorgridcolor": "white",
             "startlinecolor": "#2a3f5f"
            },
            "type": "carpet"
           }
          ],
          "choropleth": [
           {
            "colorbar": {
             "outlinewidth": 0,
             "ticks": ""
            },
            "type": "choropleth"
           }
          ],
          "contour": [
           {
            "colorbar": {
             "outlinewidth": 0,
             "ticks": ""
            },
            "colorscale": [
             [
              0,
              "#0d0887"
             ],
             [
              0.1111111111111111,
              "#46039f"
             ],
             [
              0.2222222222222222,
              "#7201a8"
             ],
             [
              0.3333333333333333,
              "#9c179e"
             ],
             [
              0.4444444444444444,
              "#bd3786"
             ],
             [
              0.5555555555555556,
              "#d8576b"
             ],
             [
              0.6666666666666666,
              "#ed7953"
             ],
             [
              0.7777777777777778,
              "#fb9f3a"
             ],
             [
              0.8888888888888888,
              "#fdca26"
             ],
             [
              1,
              "#f0f921"
             ]
            ],
            "type": "contour"
           }
          ],
          "contourcarpet": [
           {
            "colorbar": {
             "outlinewidth": 0,
             "ticks": ""
            },
            "type": "contourcarpet"
           }
          ],
          "heatmap": [
           {
            "colorbar": {
             "outlinewidth": 0,
             "ticks": ""
            },
            "colorscale": [
             [
              0,
              "#0d0887"
             ],
             [
              0.1111111111111111,
              "#46039f"
             ],
             [
              0.2222222222222222,
              "#7201a8"
             ],
             [
              0.3333333333333333,
              "#9c179e"
             ],
             [
              0.4444444444444444,
              "#bd3786"
             ],
             [
              0.5555555555555556,
              "#d8576b"
             ],
             [
              0.6666666666666666,
              "#ed7953"
             ],
             [
              0.7777777777777778,
              "#fb9f3a"
             ],
             [
              0.8888888888888888,
              "#fdca26"
             ],
             [
              1,
              "#f0f921"
             ]
            ],
            "type": "heatmap"
           }
          ],
          "heatmapgl": [
           {
            "colorbar": {
             "outlinewidth": 0,
             "ticks": ""
            },
            "colorscale": [
             [
              0,
              "#0d0887"
             ],
             [
              0.1111111111111111,
              "#46039f"
             ],
             [
              0.2222222222222222,
              "#7201a8"
             ],
             [
              0.3333333333333333,
              "#9c179e"
             ],
             [
              0.4444444444444444,
              "#bd3786"
             ],
             [
              0.5555555555555556,
              "#d8576b"
             ],
             [
              0.6666666666666666,
              "#ed7953"
             ],
             [
              0.7777777777777778,
              "#fb9f3a"
             ],
             [
              0.8888888888888888,
              "#fdca26"
             ],
             [
              1,
              "#f0f921"
             ]
            ],
            "type": "heatmapgl"
           }
          ],
          "histogram": [
           {
            "marker": {
             "pattern": {
              "fillmode": "overlay",
              "size": 10,
              "solidity": 0.2
             }
            },
            "type": "histogram"
           }
          ],
          "histogram2d": [
           {
            "colorbar": {
             "outlinewidth": 0,
             "ticks": ""
            },
            "colorscale": [
             [
              0,
              "#0d0887"
             ],
             [
              0.1111111111111111,
              "#46039f"
             ],
             [
              0.2222222222222222,
              "#7201a8"
             ],
             [
              0.3333333333333333,
              "#9c179e"
             ],
             [
              0.4444444444444444,
              "#bd3786"
             ],
             [
              0.5555555555555556,
              "#d8576b"
             ],
             [
              0.6666666666666666,
              "#ed7953"
             ],
             [
              0.7777777777777778,
              "#fb9f3a"
             ],
             [
              0.8888888888888888,
              "#fdca26"
             ],
             [
              1,
              "#f0f921"
             ]
            ],
            "type": "histogram2d"
           }
          ],
          "histogram2dcontour": [
           {
            "colorbar": {
             "outlinewidth": 0,
             "ticks": ""
            },
            "colorscale": [
             [
              0,
              "#0d0887"
             ],
             [
              0.1111111111111111,
              "#46039f"
             ],
             [
              0.2222222222222222,
              "#7201a8"
             ],
             [
              0.3333333333333333,
              "#9c179e"
             ],
             [
              0.4444444444444444,
              "#bd3786"
             ],
             [
              0.5555555555555556,
              "#d8576b"
             ],
             [
              0.6666666666666666,
              "#ed7953"
             ],
             [
              0.7777777777777778,
              "#fb9f3a"
             ],
             [
              0.8888888888888888,
              "#fdca26"
             ],
             [
              1,
              "#f0f921"
             ]
            ],
            "type": "histogram2dcontour"
           }
          ],
          "mesh3d": [
           {
            "colorbar": {
             "outlinewidth": 0,
             "ticks": ""
            },
            "type": "mesh3d"
           }
          ],
          "parcoords": [
           {
            "line": {
             "colorbar": {
              "outlinewidth": 0,
              "ticks": ""
             }
            },
            "type": "parcoords"
           }
          ],
          "pie": [
           {
            "automargin": true,
            "type": "pie"
           }
          ],
          "scatter": [
           {
            "fillpattern": {
             "fillmode": "overlay",
             "size": 10,
             "solidity": 0.2
            },
            "type": "scatter"
           }
          ],
          "scatter3d": [
           {
            "line": {
             "colorbar": {
              "outlinewidth": 0,
              "ticks": ""
             }
            },
            "marker": {
             "colorbar": {
              "outlinewidth": 0,
              "ticks": ""
             }
            },
            "type": "scatter3d"
           }
          ],
          "scattercarpet": [
           {
            "marker": {
             "colorbar": {
              "outlinewidth": 0,
              "ticks": ""
             }
            },
            "type": "scattercarpet"
           }
          ],
          "scattergeo": [
           {
            "marker": {
             "colorbar": {
              "outlinewidth": 0,
              "ticks": ""
             }
            },
            "type": "scattergeo"
           }
          ],
          "scattergl": [
           {
            "marker": {
             "colorbar": {
              "outlinewidth": 0,
              "ticks": ""
             }
            },
            "type": "scattergl"
           }
          ],
          "scattermapbox": [
           {
            "marker": {
             "colorbar": {
              "outlinewidth": 0,
              "ticks": ""
             }
            },
            "type": "scattermapbox"
           }
          ],
          "scatterpolar": [
           {
            "marker": {
             "colorbar": {
              "outlinewidth": 0,
              "ticks": ""
             }
            },
            "type": "scatterpolar"
           }
          ],
          "scatterpolargl": [
           {
            "marker": {
             "colorbar": {
              "outlinewidth": 0,
              "ticks": ""
             }
            },
            "type": "scatterpolargl"
           }
          ],
          "scatterternary": [
           {
            "marker": {
             "colorbar": {
              "outlinewidth": 0,
              "ticks": ""
             }
            },
            "type": "scatterternary"
           }
          ],
          "surface": [
           {
            "colorbar": {
             "outlinewidth": 0,
             "ticks": ""
            },
            "colorscale": [
             [
              0,
              "#0d0887"
             ],
             [
              0.1111111111111111,
              "#46039f"
             ],
             [
              0.2222222222222222,
              "#7201a8"
             ],
             [
              0.3333333333333333,
              "#9c179e"
             ],
             [
              0.4444444444444444,
              "#bd3786"
             ],
             [
              0.5555555555555556,
              "#d8576b"
             ],
             [
              0.6666666666666666,
              "#ed7953"
             ],
             [
              0.7777777777777778,
              "#fb9f3a"
             ],
             [
              0.8888888888888888,
              "#fdca26"
             ],
             [
              1,
              "#f0f921"
             ]
            ],
            "type": "surface"
           }
          ],
          "table": [
           {
            "cells": {
             "fill": {
              "color": "#EBF0F8"
             },
             "line": {
              "color": "white"
             }
            },
            "header": {
             "fill": {
              "color": "#C8D4E3"
             },
             "line": {
              "color": "white"
             }
            },
            "type": "table"
           }
          ]
         },
         "layout": {
          "annotationdefaults": {
           "arrowcolor": "#2a3f5f",
           "arrowhead": 0,
           "arrowwidth": 1
          },
          "autotypenumbers": "strict",
          "coloraxis": {
           "colorbar": {
            "outlinewidth": 0,
            "ticks": ""
           }
          },
          "colorscale": {
           "diverging": [
            [
             0,
             "#8e0152"
            ],
            [
             0.1,
             "#c51b7d"
            ],
            [
             0.2,
             "#de77ae"
            ],
            [
             0.3,
             "#f1b6da"
            ],
            [
             0.4,
             "#fde0ef"
            ],
            [
             0.5,
             "#f7f7f7"
            ],
            [
             0.6,
             "#e6f5d0"
            ],
            [
             0.7,
             "#b8e186"
            ],
            [
             0.8,
             "#7fbc41"
            ],
            [
             0.9,
             "#4d9221"
            ],
            [
             1,
             "#276419"
            ]
           ],
           "sequential": [
            [
             0,
             "#0d0887"
            ],
            [
             0.1111111111111111,
             "#46039f"
            ],
            [
             0.2222222222222222,
             "#7201a8"
            ],
            [
             0.3333333333333333,
             "#9c179e"
            ],
            [
             0.4444444444444444,
             "#bd3786"
            ],
            [
             0.5555555555555556,
             "#d8576b"
            ],
            [
             0.6666666666666666,
             "#ed7953"
            ],
            [
             0.7777777777777778,
             "#fb9f3a"
            ],
            [
             0.8888888888888888,
             "#fdca26"
            ],
            [
             1,
             "#f0f921"
            ]
           ],
           "sequentialminus": [
            [
             0,
             "#0d0887"
            ],
            [
             0.1111111111111111,
             "#46039f"
            ],
            [
             0.2222222222222222,
             "#7201a8"
            ],
            [
             0.3333333333333333,
             "#9c179e"
            ],
            [
             0.4444444444444444,
             "#bd3786"
            ],
            [
             0.5555555555555556,
             "#d8576b"
            ],
            [
             0.6666666666666666,
             "#ed7953"
            ],
            [
             0.7777777777777778,
             "#fb9f3a"
            ],
            [
             0.8888888888888888,
             "#fdca26"
            ],
            [
             1,
             "#f0f921"
            ]
           ]
          },
          "colorway": [
           "#636efa",
           "#EF553B",
           "#00cc96",
           "#ab63fa",
           "#FFA15A",
           "#19d3f3",
           "#FF6692",
           "#B6E880",
           "#FF97FF",
           "#FECB52"
          ],
          "font": {
           "color": "#2a3f5f"
          },
          "geo": {
           "bgcolor": "white",
           "lakecolor": "white",
           "landcolor": "#E5ECF6",
           "showlakes": true,
           "showland": true,
           "subunitcolor": "white"
          },
          "hoverlabel": {
           "align": "left"
          },
          "hovermode": "closest",
          "mapbox": {
           "style": "light"
          },
          "paper_bgcolor": "white",
          "plot_bgcolor": "#E5ECF6",
          "polar": {
           "angularaxis": {
            "gridcolor": "white",
            "linecolor": "white",
            "ticks": ""
           },
           "bgcolor": "#E5ECF6",
           "radialaxis": {
            "gridcolor": "white",
            "linecolor": "white",
            "ticks": ""
           }
          },
          "scene": {
           "xaxis": {
            "backgroundcolor": "#E5ECF6",
            "gridcolor": "white",
            "gridwidth": 2,
            "linecolor": "white",
            "showbackground": true,
            "ticks": "",
            "zerolinecolor": "white"
           },
           "yaxis": {
            "backgroundcolor": "#E5ECF6",
            "gridcolor": "white",
            "gridwidth": 2,
            "linecolor": "white",
            "showbackground": true,
            "ticks": "",
            "zerolinecolor": "white"
           },
           "zaxis": {
            "backgroundcolor": "#E5ECF6",
            "gridcolor": "white",
            "gridwidth": 2,
            "linecolor": "white",
            "showbackground": true,
            "ticks": "",
            "zerolinecolor": "white"
           }
          },
          "shapedefaults": {
           "line": {
            "color": "#2a3f5f"
           }
          },
          "ternary": {
           "aaxis": {
            "gridcolor": "white",
            "linecolor": "white",
            "ticks": ""
           },
           "baxis": {
            "gridcolor": "white",
            "linecolor": "white",
            "ticks": ""
           },
           "bgcolor": "#E5ECF6",
           "caxis": {
            "gridcolor": "white",
            "linecolor": "white",
            "ticks": ""
           }
          },
          "title": {
           "x": 0.05
          },
          "xaxis": {
           "automargin": true,
           "gridcolor": "white",
           "linecolor": "white",
           "ticks": "",
           "title": {
            "standoff": 15
           },
           "zerolinecolor": "white",
           "zerolinewidth": 2
          },
          "yaxis": {
           "automargin": true,
           "gridcolor": "white",
           "linecolor": "white",
           "ticks": "",
           "title": {
            "standoff": 15
           },
           "zerolinecolor": "white",
           "zerolinewidth": 2
          }
         }
        },
        "title": {
         "text": "Error Convergence with ReLU function"
        },
        "width": 800,
        "xaxis": {
         "anchor": "y",
         "domain": [
          0,
          1
         ],
         "title": {
          "text": "epochs"
         }
        },
        "yaxis": {
         "anchor": "x",
         "domain": [
          0,
          1
         ],
         "title": {
          "text": "errors"
         }
        }
       }
      }
     },
     "metadata": {},
     "output_type": "display_data"
    }
   ],
   "source": [
    "# plot the error values for ReLU function\n",
    "plot_graph(errors, 'Error Convergence with ReLU function')"
   ]
  },
  {
   "cell_type": "markdown",
   "metadata": {},
   "source": [
    "VARYING LEARNING RATE AND GATE::"
   ]
  },
  {
   "cell_type": "code",
   "execution_count": 36,
   "metadata": {},
   "outputs": [
    {
     "name": "stdout",
     "output_type": "stream",
     "text": [
      "Converged after 68 epochs.\n",
      "Converged after 37 epochs.\n",
      "Converged after 23 epochs.\n",
      "Converged after 23 epochs.\n",
      "Converged after 19 epochs.\n",
      "Converged after 19 epochs.\n",
      "Converged after 15 epochs.\n",
      "Converged after 14 epochs.\n",
      "Converged after 13 epochs.\n",
      "Converged after 12 epochs.\n"
     ]
    }
   ],
   "source": [
    "# AND GATE Truth Table::\n",
    "training_inputs = np.array([[0, 0], [0, 1], [1, 0], [1, 1]])\n",
    "labels = np.array([0, 0, 0, 1]) # binary step function\n",
    "\n",
    "initial_weights = [10, 0.2, -0.75]\n",
    "# varying learning rate list\n",
    "learning_rates = [0.1, 0.2, 0.3, 0.4, 0.5, 0.6, 0.7, 0.8, 0.9, 1]\n",
    "\n",
    "# store the number of iterations for each learning rate\n",
    "\n",
    "iterations_to_converge = []\n",
    "\n",
    "for learning_rate in learning_rates:\n",
    "    perceptron = Perceptron(num_inputs=3, learning_rate=learning_rate, initial_weights=initial_weights, activation_function='binary')\n",
    "    training_inputs_with_bias = np.column_stack((np.ones(4), training_inputs))\n",
    "    errors = perceptron.train(training_inputs_with_bias, labels)\n",
    "    iterations_to_converge.append(len(errors))\n"
   ]
  },
  {
   "cell_type": "code",
   "execution_count": 37,
   "metadata": {},
   "outputs": [
    {
     "data": {
      "application/vnd.plotly.v1+json": {
       "config": {
        "plotlyServerURL": "https://plot.ly"
       },
       "data": [
        {
         "hovertemplate": "learning_rate=%{x}<br>iterations_to_converge=%{y}<extra></extra>",
         "legendgroup": "",
         "line": {
          "color": "#f68b33",
          "dash": "solid"
         },
         "marker": {
          "symbol": "circle"
         },
         "mode": "markers+lines",
         "name": "",
         "orientation": "v",
         "showlegend": false,
         "type": "scatter",
         "x": [
          0.1,
          0.2,
          0.3,
          0.4,
          0.5,
          0.6,
          0.7,
          0.8,
          0.9,
          1
         ],
         "xaxis": "x",
         "y": [
          68,
          37,
          23,
          23,
          19,
          19,
          15,
          14,
          13,
          12
         ],
         "yaxis": "y"
        }
       ],
       "layout": {
        "height": 400,
        "legend": {
         "tracegroupgap": 0
        },
        "template": {
         "data": {
          "bar": [
           {
            "error_x": {
             "color": "#2a3f5f"
            },
            "error_y": {
             "color": "#2a3f5f"
            },
            "marker": {
             "line": {
              "color": "#E5ECF6",
              "width": 0.5
             },
             "pattern": {
              "fillmode": "overlay",
              "size": 10,
              "solidity": 0.2
             }
            },
            "type": "bar"
           }
          ],
          "barpolar": [
           {
            "marker": {
             "line": {
              "color": "#E5ECF6",
              "width": 0.5
             },
             "pattern": {
              "fillmode": "overlay",
              "size": 10,
              "solidity": 0.2
             }
            },
            "type": "barpolar"
           }
          ],
          "carpet": [
           {
            "aaxis": {
             "endlinecolor": "#2a3f5f",
             "gridcolor": "white",
             "linecolor": "white",
             "minorgridcolor": "white",
             "startlinecolor": "#2a3f5f"
            },
            "baxis": {
             "endlinecolor": "#2a3f5f",
             "gridcolor": "white",
             "linecolor": "white",
             "minorgridcolor": "white",
             "startlinecolor": "#2a3f5f"
            },
            "type": "carpet"
           }
          ],
          "choropleth": [
           {
            "colorbar": {
             "outlinewidth": 0,
             "ticks": ""
            },
            "type": "choropleth"
           }
          ],
          "contour": [
           {
            "colorbar": {
             "outlinewidth": 0,
             "ticks": ""
            },
            "colorscale": [
             [
              0,
              "#0d0887"
             ],
             [
              0.1111111111111111,
              "#46039f"
             ],
             [
              0.2222222222222222,
              "#7201a8"
             ],
             [
              0.3333333333333333,
              "#9c179e"
             ],
             [
              0.4444444444444444,
              "#bd3786"
             ],
             [
              0.5555555555555556,
              "#d8576b"
             ],
             [
              0.6666666666666666,
              "#ed7953"
             ],
             [
              0.7777777777777778,
              "#fb9f3a"
             ],
             [
              0.8888888888888888,
              "#fdca26"
             ],
             [
              1,
              "#f0f921"
             ]
            ],
            "type": "contour"
           }
          ],
          "contourcarpet": [
           {
            "colorbar": {
             "outlinewidth": 0,
             "ticks": ""
            },
            "type": "contourcarpet"
           }
          ],
          "heatmap": [
           {
            "colorbar": {
             "outlinewidth": 0,
             "ticks": ""
            },
            "colorscale": [
             [
              0,
              "#0d0887"
             ],
             [
              0.1111111111111111,
              "#46039f"
             ],
             [
              0.2222222222222222,
              "#7201a8"
             ],
             [
              0.3333333333333333,
              "#9c179e"
             ],
             [
              0.4444444444444444,
              "#bd3786"
             ],
             [
              0.5555555555555556,
              "#d8576b"
             ],
             [
              0.6666666666666666,
              "#ed7953"
             ],
             [
              0.7777777777777778,
              "#fb9f3a"
             ],
             [
              0.8888888888888888,
              "#fdca26"
             ],
             [
              1,
              "#f0f921"
             ]
            ],
            "type": "heatmap"
           }
          ],
          "heatmapgl": [
           {
            "colorbar": {
             "outlinewidth": 0,
             "ticks": ""
            },
            "colorscale": [
             [
              0,
              "#0d0887"
             ],
             [
              0.1111111111111111,
              "#46039f"
             ],
             [
              0.2222222222222222,
              "#7201a8"
             ],
             [
              0.3333333333333333,
              "#9c179e"
             ],
             [
              0.4444444444444444,
              "#bd3786"
             ],
             [
              0.5555555555555556,
              "#d8576b"
             ],
             [
              0.6666666666666666,
              "#ed7953"
             ],
             [
              0.7777777777777778,
              "#fb9f3a"
             ],
             [
              0.8888888888888888,
              "#fdca26"
             ],
             [
              1,
              "#f0f921"
             ]
            ],
            "type": "heatmapgl"
           }
          ],
          "histogram": [
           {
            "marker": {
             "pattern": {
              "fillmode": "overlay",
              "size": 10,
              "solidity": 0.2
             }
            },
            "type": "histogram"
           }
          ],
          "histogram2d": [
           {
            "colorbar": {
             "outlinewidth": 0,
             "ticks": ""
            },
            "colorscale": [
             [
              0,
              "#0d0887"
             ],
             [
              0.1111111111111111,
              "#46039f"
             ],
             [
              0.2222222222222222,
              "#7201a8"
             ],
             [
              0.3333333333333333,
              "#9c179e"
             ],
             [
              0.4444444444444444,
              "#bd3786"
             ],
             [
              0.5555555555555556,
              "#d8576b"
             ],
             [
              0.6666666666666666,
              "#ed7953"
             ],
             [
              0.7777777777777778,
              "#fb9f3a"
             ],
             [
              0.8888888888888888,
              "#fdca26"
             ],
             [
              1,
              "#f0f921"
             ]
            ],
            "type": "histogram2d"
           }
          ],
          "histogram2dcontour": [
           {
            "colorbar": {
             "outlinewidth": 0,
             "ticks": ""
            },
            "colorscale": [
             [
              0,
              "#0d0887"
             ],
             [
              0.1111111111111111,
              "#46039f"
             ],
             [
              0.2222222222222222,
              "#7201a8"
             ],
             [
              0.3333333333333333,
              "#9c179e"
             ],
             [
              0.4444444444444444,
              "#bd3786"
             ],
             [
              0.5555555555555556,
              "#d8576b"
             ],
             [
              0.6666666666666666,
              "#ed7953"
             ],
             [
              0.7777777777777778,
              "#fb9f3a"
             ],
             [
              0.8888888888888888,
              "#fdca26"
             ],
             [
              1,
              "#f0f921"
             ]
            ],
            "type": "histogram2dcontour"
           }
          ],
          "mesh3d": [
           {
            "colorbar": {
             "outlinewidth": 0,
             "ticks": ""
            },
            "type": "mesh3d"
           }
          ],
          "parcoords": [
           {
            "line": {
             "colorbar": {
              "outlinewidth": 0,
              "ticks": ""
             }
            },
            "type": "parcoords"
           }
          ],
          "pie": [
           {
            "automargin": true,
            "type": "pie"
           }
          ],
          "scatter": [
           {
            "fillpattern": {
             "fillmode": "overlay",
             "size": 10,
             "solidity": 0.2
            },
            "type": "scatter"
           }
          ],
          "scatter3d": [
           {
            "line": {
             "colorbar": {
              "outlinewidth": 0,
              "ticks": ""
             }
            },
            "marker": {
             "colorbar": {
              "outlinewidth": 0,
              "ticks": ""
             }
            },
            "type": "scatter3d"
           }
          ],
          "scattercarpet": [
           {
            "marker": {
             "colorbar": {
              "outlinewidth": 0,
              "ticks": ""
             }
            },
            "type": "scattercarpet"
           }
          ],
          "scattergeo": [
           {
            "marker": {
             "colorbar": {
              "outlinewidth": 0,
              "ticks": ""
             }
            },
            "type": "scattergeo"
           }
          ],
          "scattergl": [
           {
            "marker": {
             "colorbar": {
              "outlinewidth": 0,
              "ticks": ""
             }
            },
            "type": "scattergl"
           }
          ],
          "scattermapbox": [
           {
            "marker": {
             "colorbar": {
              "outlinewidth": 0,
              "ticks": ""
             }
            },
            "type": "scattermapbox"
           }
          ],
          "scatterpolar": [
           {
            "marker": {
             "colorbar": {
              "outlinewidth": 0,
              "ticks": ""
             }
            },
            "type": "scatterpolar"
           }
          ],
          "scatterpolargl": [
           {
            "marker": {
             "colorbar": {
              "outlinewidth": 0,
              "ticks": ""
             }
            },
            "type": "scatterpolargl"
           }
          ],
          "scatterternary": [
           {
            "marker": {
             "colorbar": {
              "outlinewidth": 0,
              "ticks": ""
             }
            },
            "type": "scatterternary"
           }
          ],
          "surface": [
           {
            "colorbar": {
             "outlinewidth": 0,
             "ticks": ""
            },
            "colorscale": [
             [
              0,
              "#0d0887"
             ],
             [
              0.1111111111111111,
              "#46039f"
             ],
             [
              0.2222222222222222,
              "#7201a8"
             ],
             [
              0.3333333333333333,
              "#9c179e"
             ],
             [
              0.4444444444444444,
              "#bd3786"
             ],
             [
              0.5555555555555556,
              "#d8576b"
             ],
             [
              0.6666666666666666,
              "#ed7953"
             ],
             [
              0.7777777777777778,
              "#fb9f3a"
             ],
             [
              0.8888888888888888,
              "#fdca26"
             ],
             [
              1,
              "#f0f921"
             ]
            ],
            "type": "surface"
           }
          ],
          "table": [
           {
            "cells": {
             "fill": {
              "color": "#EBF0F8"
             },
             "line": {
              "color": "white"
             }
            },
            "header": {
             "fill": {
              "color": "#C8D4E3"
             },
             "line": {
              "color": "white"
             }
            },
            "type": "table"
           }
          ]
         },
         "layout": {
          "annotationdefaults": {
           "arrowcolor": "#2a3f5f",
           "arrowhead": 0,
           "arrowwidth": 1
          },
          "autotypenumbers": "strict",
          "coloraxis": {
           "colorbar": {
            "outlinewidth": 0,
            "ticks": ""
           }
          },
          "colorscale": {
           "diverging": [
            [
             0,
             "#8e0152"
            ],
            [
             0.1,
             "#c51b7d"
            ],
            [
             0.2,
             "#de77ae"
            ],
            [
             0.3,
             "#f1b6da"
            ],
            [
             0.4,
             "#fde0ef"
            ],
            [
             0.5,
             "#f7f7f7"
            ],
            [
             0.6,
             "#e6f5d0"
            ],
            [
             0.7,
             "#b8e186"
            ],
            [
             0.8,
             "#7fbc41"
            ],
            [
             0.9,
             "#4d9221"
            ],
            [
             1,
             "#276419"
            ]
           ],
           "sequential": [
            [
             0,
             "#0d0887"
            ],
            [
             0.1111111111111111,
             "#46039f"
            ],
            [
             0.2222222222222222,
             "#7201a8"
            ],
            [
             0.3333333333333333,
             "#9c179e"
            ],
            [
             0.4444444444444444,
             "#bd3786"
            ],
            [
             0.5555555555555556,
             "#d8576b"
            ],
            [
             0.6666666666666666,
             "#ed7953"
            ],
            [
             0.7777777777777778,
             "#fb9f3a"
            ],
            [
             0.8888888888888888,
             "#fdca26"
            ],
            [
             1,
             "#f0f921"
            ]
           ],
           "sequentialminus": [
            [
             0,
             "#0d0887"
            ],
            [
             0.1111111111111111,
             "#46039f"
            ],
            [
             0.2222222222222222,
             "#7201a8"
            ],
            [
             0.3333333333333333,
             "#9c179e"
            ],
            [
             0.4444444444444444,
             "#bd3786"
            ],
            [
             0.5555555555555556,
             "#d8576b"
            ],
            [
             0.6666666666666666,
             "#ed7953"
            ],
            [
             0.7777777777777778,
             "#fb9f3a"
            ],
            [
             0.8888888888888888,
             "#fdca26"
            ],
            [
             1,
             "#f0f921"
            ]
           ]
          },
          "colorway": [
           "#636efa",
           "#EF553B",
           "#00cc96",
           "#ab63fa",
           "#FFA15A",
           "#19d3f3",
           "#FF6692",
           "#B6E880",
           "#FF97FF",
           "#FECB52"
          ],
          "font": {
           "color": "#2a3f5f"
          },
          "geo": {
           "bgcolor": "white",
           "lakecolor": "white",
           "landcolor": "#E5ECF6",
           "showlakes": true,
           "showland": true,
           "subunitcolor": "white"
          },
          "hoverlabel": {
           "align": "left"
          },
          "hovermode": "closest",
          "mapbox": {
           "style": "light"
          },
          "paper_bgcolor": "white",
          "plot_bgcolor": "#E5ECF6",
          "polar": {
           "angularaxis": {
            "gridcolor": "white",
            "linecolor": "white",
            "ticks": ""
           },
           "bgcolor": "#E5ECF6",
           "radialaxis": {
            "gridcolor": "white",
            "linecolor": "white",
            "ticks": ""
           }
          },
          "scene": {
           "xaxis": {
            "backgroundcolor": "#E5ECF6",
            "gridcolor": "white",
            "gridwidth": 2,
            "linecolor": "white",
            "showbackground": true,
            "ticks": "",
            "zerolinecolor": "white"
           },
           "yaxis": {
            "backgroundcolor": "#E5ECF6",
            "gridcolor": "white",
            "gridwidth": 2,
            "linecolor": "white",
            "showbackground": true,
            "ticks": "",
            "zerolinecolor": "white"
           },
           "zaxis": {
            "backgroundcolor": "#E5ECF6",
            "gridcolor": "white",
            "gridwidth": 2,
            "linecolor": "white",
            "showbackground": true,
            "ticks": "",
            "zerolinecolor": "white"
           }
          },
          "shapedefaults": {
           "line": {
            "color": "#2a3f5f"
           }
          },
          "ternary": {
           "aaxis": {
            "gridcolor": "white",
            "linecolor": "white",
            "ticks": ""
           },
           "baxis": {
            "gridcolor": "white",
            "linecolor": "white",
            "ticks": ""
           },
           "bgcolor": "#E5ECF6",
           "caxis": {
            "gridcolor": "white",
            "linecolor": "white",
            "ticks": ""
           }
          },
          "title": {
           "x": 0.05
          },
          "xaxis": {
           "automargin": true,
           "gridcolor": "white",
           "linecolor": "white",
           "ticks": "",
           "title": {
            "standoff": 15
           },
           "zerolinecolor": "white",
           "zerolinewidth": 2
          },
          "yaxis": {
           "automargin": true,
           "gridcolor": "white",
           "linecolor": "white",
           "ticks": "",
           "title": {
            "standoff": 15
           },
           "zerolinecolor": "white",
           "zerolinewidth": 2
          }
         }
        },
        "title": {
         "text": "Learning Rate vs Iterations to Converge for AND gate"
        },
        "width": 800,
        "xaxis": {
         "anchor": "y",
         "domain": [
          0,
          1
         ],
         "title": {
          "text": "learning_rate"
         }
        },
        "yaxis": {
         "anchor": "x",
         "domain": [
          0,
          1
         ],
         "title": {
          "text": "iterations_to_converge"
         }
        }
       }
      }
     },
     "metadata": {},
     "output_type": "display_data"
    }
   ],
   "source": [
    "# plot the graph for learning rate vs iterations to converge\n",
    "df = pd.DataFrame({'learning_rate': learning_rates, 'iterations_to_converge': iterations_to_converge})\n",
    "fig = px.line(df,\n",
    "              x='learning_rate',\n",
    "              y='iterations_to_converge',\n",
    "              title='Learning Rate vs Iterations to Converge for AND gate',\n",
    "              markers=True,\n",
    "              color_discrete_sequence=['#f68b33'])\n",
    "fig.update_layout(height=400, width=800)\n",
    "fig.show()"
   ]
  },
  {
   "cell_type": "markdown",
   "metadata": {},
   "source": [
    "REPEATING FOR XOR GATE::"
   ]
  },
  {
   "cell_type": "code",
   "execution_count": 38,
   "metadata": {},
   "outputs": [],
   "source": [
    "# repeat everything for XOR gate\n",
    "# XOR GATE Truth Table::\n",
    "training_inputs = np.array([[0, 0], [0, 1], [1, 0], [1, 1]])\n",
    "labels = np.array([0, 1, 1, 0]) # binary step function\n",
    "\n",
    "initial_weights = [10, 0.2, -0.75]\n",
    "learning_rate = 0.05\n",
    "\n",
    "perceptron = Perceptron(num_inputs=3, learning_rate=learning_rate, initial_weights=initial_weights, activation_function='binary')\n",
    "training_inputs_with_bias = np.column_stack((np.ones(4), training_inputs))\n",
    "errors = perceptron.train(training_inputs_with_bias, labels)\n"
   ]
  },
  {
   "cell_type": "code",
   "execution_count": 39,
   "metadata": {},
   "outputs": [
    {
     "data": {
      "application/vnd.plotly.v1+json": {
       "config": {
        "plotlyServerURL": "https://plot.ly"
       },
       "data": [
        {
         "hovertemplate": "epochs=%{x}<br>errors=%{y}<extra></extra>",
         "legendgroup": "",
         "line": {
          "color": "#636efa",
          "dash": "solid"
         },
         "marker": {
          "symbol": "circle"
         },
         "mode": "lines",
         "name": "",
         "orientation": "v",
         "showlegend": false,
         "type": "scatter",
         "x": [
          1,
          2,
          3,
          4,
          5,
          6,
          7,
          8,
          9,
          10,
          11,
          12,
          13,
          14,
          15,
          16,
          17,
          18,
          19,
          20,
          21,
          22,
          23,
          24,
          25,
          26,
          27,
          28,
          29,
          30,
          31,
          32,
          33,
          34,
          35,
          36,
          37,
          38,
          39,
          40,
          41,
          42,
          43,
          44,
          45,
          46,
          47,
          48,
          49,
          50,
          51,
          52,
          53,
          54,
          55,
          56,
          57,
          58,
          59,
          60,
          61,
          62,
          63,
          64,
          65,
          66,
          67,
          68,
          69,
          70,
          71,
          72,
          73,
          74,
          75,
          76,
          77,
          78,
          79,
          80,
          81,
          82,
          83,
          84,
          85,
          86,
          87,
          88,
          89,
          90,
          91,
          92,
          93,
          94,
          95,
          96,
          97,
          98,
          99,
          100,
          101,
          102,
          103,
          104,
          105,
          106,
          107,
          108,
          109,
          110,
          111,
          112,
          113,
          114,
          115,
          116,
          117,
          118,
          119,
          120,
          121,
          122,
          123,
          124,
          125,
          126,
          127,
          128,
          129,
          130,
          131,
          132,
          133,
          134,
          135,
          136,
          137,
          138,
          139,
          140,
          141,
          142,
          143,
          144,
          145,
          146,
          147,
          148,
          149,
          150,
          151,
          152,
          153,
          154,
          155,
          156,
          157,
          158,
          159,
          160,
          161,
          162,
          163,
          164,
          165,
          166,
          167,
          168,
          169,
          170,
          171,
          172,
          173,
          174,
          175,
          176,
          177,
          178,
          179,
          180,
          181,
          182,
          183,
          184,
          185,
          186,
          187,
          188,
          189,
          190,
          191,
          192,
          193,
          194,
          195,
          196,
          197,
          198,
          199,
          200,
          201,
          202,
          203,
          204,
          205,
          206,
          207,
          208,
          209,
          210,
          211,
          212,
          213,
          214,
          215,
          216,
          217,
          218,
          219,
          220,
          221,
          222,
          223,
          224,
          225,
          226,
          227,
          228,
          229,
          230,
          231,
          232,
          233,
          234,
          235,
          236,
          237,
          238,
          239,
          240,
          241,
          242,
          243,
          244,
          245,
          246,
          247,
          248,
          249,
          250,
          251,
          252,
          253,
          254,
          255,
          256,
          257,
          258,
          259,
          260,
          261,
          262,
          263,
          264,
          265,
          266,
          267,
          268,
          269,
          270,
          271,
          272,
          273,
          274,
          275,
          276,
          277,
          278,
          279,
          280,
          281,
          282,
          283,
          284,
          285,
          286,
          287,
          288,
          289,
          290,
          291,
          292,
          293,
          294,
          295,
          296,
          297,
          298,
          299,
          300,
          301,
          302,
          303,
          304,
          305,
          306,
          307,
          308,
          309,
          310,
          311,
          312,
          313,
          314,
          315,
          316,
          317,
          318,
          319,
          320,
          321,
          322,
          323,
          324,
          325,
          326,
          327,
          328,
          329,
          330,
          331,
          332,
          333,
          334,
          335,
          336,
          337,
          338,
          339,
          340,
          341,
          342,
          343,
          344,
          345,
          346,
          347,
          348,
          349,
          350,
          351,
          352,
          353,
          354,
          355,
          356,
          357,
          358,
          359,
          360,
          361,
          362,
          363,
          364,
          365,
          366,
          367,
          368,
          369,
          370,
          371,
          372,
          373,
          374,
          375,
          376,
          377,
          378,
          379,
          380,
          381,
          382,
          383,
          384,
          385,
          386,
          387,
          388,
          389,
          390,
          391,
          392,
          393,
          394,
          395,
          396,
          397,
          398,
          399,
          400,
          401,
          402,
          403,
          404,
          405,
          406,
          407,
          408,
          409,
          410,
          411,
          412,
          413,
          414,
          415,
          416,
          417,
          418,
          419,
          420,
          421,
          422,
          423,
          424,
          425,
          426,
          427,
          428,
          429,
          430,
          431,
          432,
          433,
          434,
          435,
          436,
          437,
          438,
          439,
          440,
          441,
          442,
          443,
          444,
          445,
          446,
          447,
          448,
          449,
          450,
          451,
          452,
          453,
          454,
          455,
          456,
          457,
          458,
          459,
          460,
          461,
          462,
          463,
          464,
          465,
          466,
          467,
          468,
          469,
          470,
          471,
          472,
          473,
          474,
          475,
          476,
          477,
          478,
          479,
          480,
          481,
          482,
          483,
          484,
          485,
          486,
          487,
          488,
          489,
          490,
          491,
          492,
          493,
          494,
          495,
          496,
          497,
          498,
          499,
          500,
          501,
          502,
          503,
          504,
          505,
          506,
          507,
          508,
          509,
          510,
          511,
          512,
          513,
          514,
          515,
          516,
          517,
          518,
          519,
          520,
          521,
          522,
          523,
          524,
          525,
          526,
          527,
          528,
          529,
          530,
          531,
          532,
          533,
          534,
          535,
          536,
          537,
          538,
          539,
          540,
          541,
          542,
          543,
          544,
          545,
          546,
          547,
          548,
          549,
          550,
          551,
          552,
          553,
          554,
          555,
          556,
          557,
          558,
          559,
          560,
          561,
          562,
          563,
          564,
          565,
          566,
          567,
          568,
          569,
          570,
          571,
          572,
          573,
          574,
          575,
          576,
          577,
          578,
          579,
          580,
          581,
          582,
          583,
          584,
          585,
          586,
          587,
          588,
          589,
          590,
          591,
          592,
          593,
          594,
          595,
          596,
          597,
          598,
          599,
          600,
          601,
          602,
          603,
          604,
          605,
          606,
          607,
          608,
          609,
          610,
          611,
          612,
          613,
          614,
          615,
          616,
          617,
          618,
          619,
          620,
          621,
          622,
          623,
          624,
          625,
          626,
          627,
          628,
          629,
          630,
          631,
          632,
          633,
          634,
          635,
          636,
          637,
          638,
          639,
          640,
          641,
          642,
          643,
          644,
          645,
          646,
          647,
          648,
          649,
          650,
          651,
          652,
          653,
          654,
          655,
          656,
          657,
          658,
          659,
          660,
          661,
          662,
          663,
          664,
          665,
          666,
          667,
          668,
          669,
          670,
          671,
          672,
          673,
          674,
          675,
          676,
          677,
          678,
          679,
          680,
          681,
          682,
          683,
          684,
          685,
          686,
          687,
          688,
          689,
          690,
          691,
          692,
          693,
          694,
          695,
          696,
          697,
          698,
          699,
          700,
          701,
          702,
          703,
          704,
          705,
          706,
          707,
          708,
          709,
          710,
          711,
          712,
          713,
          714,
          715,
          716,
          717,
          718,
          719,
          720,
          721,
          722,
          723,
          724,
          725,
          726,
          727,
          728,
          729,
          730,
          731,
          732,
          733,
          734,
          735,
          736,
          737,
          738,
          739,
          740,
          741,
          742,
          743,
          744,
          745,
          746,
          747,
          748,
          749,
          750,
          751,
          752,
          753,
          754,
          755,
          756,
          757,
          758,
          759,
          760,
          761,
          762,
          763,
          764,
          765,
          766,
          767,
          768,
          769,
          770,
          771,
          772,
          773,
          774,
          775,
          776,
          777,
          778,
          779,
          780,
          781,
          782,
          783,
          784,
          785,
          786,
          787,
          788,
          789,
          790,
          791,
          792,
          793,
          794,
          795,
          796,
          797,
          798,
          799,
          800,
          801,
          802,
          803,
          804,
          805,
          806,
          807,
          808,
          809,
          810,
          811,
          812,
          813,
          814,
          815,
          816,
          817,
          818,
          819,
          820,
          821,
          822,
          823,
          824,
          825,
          826,
          827,
          828,
          829,
          830,
          831,
          832,
          833,
          834,
          835,
          836,
          837,
          838,
          839,
          840,
          841,
          842,
          843,
          844,
          845,
          846,
          847,
          848,
          849,
          850,
          851,
          852,
          853,
          854,
          855,
          856,
          857,
          858,
          859,
          860,
          861,
          862,
          863,
          864,
          865,
          866,
          867,
          868,
          869,
          870,
          871,
          872,
          873,
          874,
          875,
          876,
          877,
          878,
          879,
          880,
          881,
          882,
          883,
          884,
          885,
          886,
          887,
          888,
          889,
          890,
          891,
          892,
          893,
          894,
          895,
          896,
          897,
          898,
          899,
          900,
          901,
          902,
          903,
          904,
          905,
          906,
          907,
          908,
          909,
          910,
          911,
          912,
          913,
          914,
          915,
          916,
          917,
          918,
          919,
          920,
          921,
          922,
          923,
          924,
          925,
          926,
          927,
          928,
          929,
          930,
          931,
          932,
          933,
          934,
          935,
          936,
          937,
          938,
          939,
          940,
          941,
          942,
          943,
          944,
          945,
          946,
          947,
          948,
          949,
          950,
          951,
          952,
          953,
          954,
          955,
          956,
          957,
          958,
          959,
          960,
          961,
          962,
          963,
          964,
          965,
          966,
          967,
          968,
          969,
          970,
          971,
          972,
          973,
          974,
          975,
          976,
          977,
          978,
          979,
          980,
          981,
          982,
          983,
          984,
          985,
          986,
          987,
          988,
          989,
          990,
          991,
          992,
          993,
          994,
          995,
          996,
          997,
          998,
          999,
          1000
         ],
         "xaxis": "x",
         "y": [
          2,
          2,
          2,
          2,
          2,
          2,
          2,
          2,
          2,
          2,
          2,
          2,
          2,
          2,
          2,
          2,
          2,
          2,
          2,
          2,
          2,
          2,
          2,
          2,
          2,
          2,
          2,
          2,
          2,
          2,
          2,
          2,
          2,
          2,
          2,
          2,
          2,
          2,
          2,
          2,
          2,
          2,
          2,
          2,
          2,
          2,
          2,
          1,
          1,
          1,
          1,
          1,
          1,
          1,
          1,
          1,
          1,
          1,
          1,
          1,
          1,
          1,
          1,
          1,
          1,
          1,
          1,
          1,
          1,
          1,
          1,
          1,
          1,
          1,
          1,
          1,
          1,
          1,
          1,
          1,
          1,
          1,
          1,
          1,
          1,
          1,
          1,
          1,
          1,
          1,
          2,
          1,
          2,
          1,
          2,
          1,
          2,
          1,
          2,
          1,
          2,
          1,
          2,
          1,
          2,
          1,
          2,
          1,
          2,
          1,
          2,
          1,
          2,
          1,
          2,
          1,
          2,
          1,
          2,
          1,
          2,
          1,
          2,
          1,
          2,
          1,
          2,
          1,
          2,
          2,
          1,
          2,
          2,
          1,
          2,
          2,
          1,
          2,
          2,
          1,
          2,
          2,
          1,
          2,
          2,
          1,
          2,
          2,
          1,
          2,
          2,
          1,
          2,
          2,
          1,
          2,
          2,
          1,
          2,
          2,
          1,
          2,
          2,
          1,
          2,
          2,
          1,
          2,
          2,
          1,
          2,
          2,
          1,
          2,
          2,
          1,
          2,
          2,
          1,
          2,
          2,
          1,
          2,
          2,
          1,
          2,
          2,
          1,
          2,
          2,
          1,
          2,
          2,
          1,
          2,
          2,
          1,
          2,
          2,
          1,
          2,
          2,
          1,
          2,
          2,
          1,
          2,
          2,
          1,
          2,
          2,
          1,
          2,
          2,
          1,
          2,
          2,
          1,
          2,
          2,
          1,
          2,
          2,
          1,
          2,
          2,
          1,
          2,
          2,
          1,
          2,
          2,
          1,
          2,
          2,
          1,
          2,
          2,
          1,
          2,
          2,
          1,
          2,
          2,
          1,
          2,
          2,
          1,
          2,
          2,
          1,
          2,
          3,
          4,
          4,
          4,
          4,
          4,
          4,
          4,
          4,
          4,
          4,
          4,
          4,
          4,
          4,
          4,
          4,
          4,
          4,
          4,
          4,
          4,
          4,
          4,
          4,
          4,
          4,
          4,
          4,
          4,
          4,
          4,
          4,
          4,
          4,
          4,
          4,
          4,
          4,
          4,
          4,
          4,
          4,
          4,
          4,
          4,
          4,
          4,
          4,
          4,
          4,
          4,
          4,
          4,
          4,
          4,
          4,
          4,
          4,
          4,
          4,
          4,
          4,
          4,
          4,
          4,
          4,
          4,
          4,
          4,
          4,
          4,
          4,
          4,
          4,
          4,
          4,
          4,
          4,
          4,
          4,
          4,
          4,
          4,
          4,
          4,
          4,
          4,
          4,
          4,
          4,
          4,
          4,
          4,
          4,
          4,
          4,
          4,
          4,
          4,
          4,
          4,
          4,
          4,
          4,
          4,
          4,
          4,
          4,
          4,
          4,
          4,
          4,
          4,
          4,
          4,
          4,
          4,
          4,
          4,
          4,
          4,
          4,
          4,
          4,
          4,
          4,
          4,
          4,
          4,
          4,
          4,
          4,
          4,
          4,
          4,
          4,
          4,
          4,
          4,
          4,
          4,
          4,
          4,
          4,
          4,
          4,
          4,
          4,
          4,
          4,
          4,
          4,
          4,
          4,
          4,
          4,
          4,
          4,
          4,
          4,
          4,
          4,
          4,
          4,
          4,
          4,
          4,
          4,
          4,
          4,
          4,
          4,
          4,
          4,
          4,
          4,
          4,
          4,
          4,
          4,
          4,
          4,
          4,
          4,
          4,
          4,
          4,
          4,
          4,
          4,
          4,
          4,
          4,
          4,
          4,
          4,
          4,
          4,
          4,
          4,
          4,
          4,
          4,
          4,
          4,
          4,
          4,
          4,
          4,
          4,
          4,
          4,
          4,
          4,
          4,
          4,
          4,
          4,
          4,
          4,
          4,
          4,
          4,
          4,
          4,
          4,
          4,
          4,
          4,
          4,
          4,
          4,
          4,
          4,
          4,
          4,
          4,
          4,
          4,
          4,
          4,
          4,
          4,
          4,
          4,
          4,
          4,
          4,
          4,
          4,
          4,
          4,
          4,
          4,
          4,
          4,
          4,
          4,
          4,
          4,
          4,
          4,
          4,
          4,
          4,
          4,
          4,
          4,
          4,
          4,
          4,
          4,
          4,
          4,
          4,
          4,
          4,
          4,
          4,
          4,
          4,
          4,
          4,
          4,
          4,
          4,
          4,
          4,
          4,
          4,
          4,
          4,
          4,
          4,
          4,
          4,
          4,
          4,
          4,
          4,
          4,
          4,
          4,
          4,
          4,
          4,
          4,
          4,
          4,
          4,
          4,
          4,
          4,
          4,
          4,
          4,
          4,
          4,
          4,
          4,
          4,
          4,
          4,
          4,
          4,
          4,
          4,
          4,
          4,
          4,
          4,
          4,
          4,
          4,
          4,
          4,
          4,
          4,
          4,
          4,
          4,
          4,
          4,
          4,
          4,
          4,
          4,
          4,
          4,
          4,
          4,
          4,
          4,
          4,
          4,
          4,
          4,
          4,
          4,
          4,
          4,
          4,
          4,
          4,
          4,
          4,
          4,
          4,
          4,
          4,
          4,
          4,
          4,
          4,
          4,
          4,
          4,
          4,
          4,
          4,
          4,
          4,
          4,
          4,
          4,
          4,
          4,
          4,
          4,
          4,
          4,
          4,
          4,
          4,
          4,
          4,
          4,
          4,
          4,
          4,
          4,
          4,
          4,
          4,
          4,
          4,
          4,
          4,
          4,
          4,
          4,
          4,
          4,
          4,
          4,
          4,
          4,
          4,
          4,
          4,
          4,
          4,
          4,
          4,
          4,
          4,
          4,
          4,
          4,
          4,
          4,
          4,
          4,
          4,
          4,
          4,
          4,
          4,
          4,
          4,
          4,
          4,
          4,
          4,
          4,
          4,
          4,
          4,
          4,
          4,
          4,
          4,
          4,
          4,
          4,
          4,
          4,
          4,
          4,
          4,
          4,
          4,
          4,
          4,
          4,
          4,
          4,
          4,
          4,
          4,
          4,
          4,
          4,
          4,
          4,
          4,
          4,
          4,
          4,
          4,
          4,
          4,
          4,
          4,
          4,
          4,
          4,
          4,
          4,
          4,
          4,
          4,
          4,
          4,
          4,
          4,
          4,
          4,
          4,
          4,
          4,
          4,
          4,
          4,
          4,
          4,
          4,
          4,
          4,
          4,
          4,
          4,
          4,
          4,
          4,
          4,
          4,
          4,
          4,
          4,
          4,
          4,
          4,
          4,
          4,
          4,
          4,
          4,
          4,
          4,
          4,
          4,
          4,
          4,
          4,
          4,
          4,
          4,
          4,
          4,
          4,
          4,
          4,
          4,
          4,
          4,
          4,
          4,
          4,
          4,
          4,
          4,
          4,
          4,
          4,
          4,
          4,
          4,
          4,
          4,
          4,
          4,
          4,
          4,
          4,
          4,
          4,
          4,
          4,
          4,
          4,
          4,
          4,
          4,
          4,
          4,
          4,
          4,
          4,
          4,
          4,
          4,
          4,
          4,
          4,
          4,
          4,
          4,
          4,
          4,
          4,
          4,
          4,
          4,
          4,
          4,
          4,
          4,
          4,
          4,
          4,
          4,
          4,
          4,
          4,
          4,
          4,
          4,
          4,
          4,
          4,
          4,
          4,
          4,
          4,
          4,
          4,
          4,
          4,
          4,
          4,
          4,
          4,
          4,
          4,
          4,
          4,
          4,
          4,
          4,
          4,
          4,
          4,
          4,
          4,
          4,
          4,
          4,
          4,
          4,
          4,
          4,
          4,
          4,
          4,
          4,
          4,
          4,
          4,
          4,
          4,
          4,
          4,
          4,
          4,
          4,
          4,
          4,
          4,
          4,
          4,
          4,
          4,
          4,
          4,
          4,
          4,
          4,
          4,
          4,
          4,
          4,
          4,
          4,
          4,
          4,
          4,
          4,
          4,
          4,
          4,
          4,
          4,
          4,
          4,
          4,
          4,
          4,
          4,
          4,
          4,
          4,
          4,
          4,
          4,
          4,
          4,
          4,
          4,
          4,
          4,
          4,
          4,
          4,
          4,
          4,
          4,
          4,
          4,
          4,
          4,
          4,
          4,
          4,
          4,
          4,
          4,
          4,
          4,
          4,
          4,
          4,
          4,
          4,
          4,
          4,
          4,
          4,
          4,
          4,
          4,
          4,
          4,
          4,
          4,
          4,
          4,
          4,
          4,
          4,
          4,
          4,
          4,
          4,
          4,
          4,
          4
         ],
         "yaxis": "y"
        }
       ],
       "layout": {
        "height": 400,
        "legend": {
         "tracegroupgap": 0
        },
        "template": {
         "data": {
          "bar": [
           {
            "error_x": {
             "color": "#2a3f5f"
            },
            "error_y": {
             "color": "#2a3f5f"
            },
            "marker": {
             "line": {
              "color": "#E5ECF6",
              "width": 0.5
             },
             "pattern": {
              "fillmode": "overlay",
              "size": 10,
              "solidity": 0.2
             }
            },
            "type": "bar"
           }
          ],
          "barpolar": [
           {
            "marker": {
             "line": {
              "color": "#E5ECF6",
              "width": 0.5
             },
             "pattern": {
              "fillmode": "overlay",
              "size": 10,
              "solidity": 0.2
             }
            },
            "type": "barpolar"
           }
          ],
          "carpet": [
           {
            "aaxis": {
             "endlinecolor": "#2a3f5f",
             "gridcolor": "white",
             "linecolor": "white",
             "minorgridcolor": "white",
             "startlinecolor": "#2a3f5f"
            },
            "baxis": {
             "endlinecolor": "#2a3f5f",
             "gridcolor": "white",
             "linecolor": "white",
             "minorgridcolor": "white",
             "startlinecolor": "#2a3f5f"
            },
            "type": "carpet"
           }
          ],
          "choropleth": [
           {
            "colorbar": {
             "outlinewidth": 0,
             "ticks": ""
            },
            "type": "choropleth"
           }
          ],
          "contour": [
           {
            "colorbar": {
             "outlinewidth": 0,
             "ticks": ""
            },
            "colorscale": [
             [
              0,
              "#0d0887"
             ],
             [
              0.1111111111111111,
              "#46039f"
             ],
             [
              0.2222222222222222,
              "#7201a8"
             ],
             [
              0.3333333333333333,
              "#9c179e"
             ],
             [
              0.4444444444444444,
              "#bd3786"
             ],
             [
              0.5555555555555556,
              "#d8576b"
             ],
             [
              0.6666666666666666,
              "#ed7953"
             ],
             [
              0.7777777777777778,
              "#fb9f3a"
             ],
             [
              0.8888888888888888,
              "#fdca26"
             ],
             [
              1,
              "#f0f921"
             ]
            ],
            "type": "contour"
           }
          ],
          "contourcarpet": [
           {
            "colorbar": {
             "outlinewidth": 0,
             "ticks": ""
            },
            "type": "contourcarpet"
           }
          ],
          "heatmap": [
           {
            "colorbar": {
             "outlinewidth": 0,
             "ticks": ""
            },
            "colorscale": [
             [
              0,
              "#0d0887"
             ],
             [
              0.1111111111111111,
              "#46039f"
             ],
             [
              0.2222222222222222,
              "#7201a8"
             ],
             [
              0.3333333333333333,
              "#9c179e"
             ],
             [
              0.4444444444444444,
              "#bd3786"
             ],
             [
              0.5555555555555556,
              "#d8576b"
             ],
             [
              0.6666666666666666,
              "#ed7953"
             ],
             [
              0.7777777777777778,
              "#fb9f3a"
             ],
             [
              0.8888888888888888,
              "#fdca26"
             ],
             [
              1,
              "#f0f921"
             ]
            ],
            "type": "heatmap"
           }
          ],
          "heatmapgl": [
           {
            "colorbar": {
             "outlinewidth": 0,
             "ticks": ""
            },
            "colorscale": [
             [
              0,
              "#0d0887"
             ],
             [
              0.1111111111111111,
              "#46039f"
             ],
             [
              0.2222222222222222,
              "#7201a8"
             ],
             [
              0.3333333333333333,
              "#9c179e"
             ],
             [
              0.4444444444444444,
              "#bd3786"
             ],
             [
              0.5555555555555556,
              "#d8576b"
             ],
             [
              0.6666666666666666,
              "#ed7953"
             ],
             [
              0.7777777777777778,
              "#fb9f3a"
             ],
             [
              0.8888888888888888,
              "#fdca26"
             ],
             [
              1,
              "#f0f921"
             ]
            ],
            "type": "heatmapgl"
           }
          ],
          "histogram": [
           {
            "marker": {
             "pattern": {
              "fillmode": "overlay",
              "size": 10,
              "solidity": 0.2
             }
            },
            "type": "histogram"
           }
          ],
          "histogram2d": [
           {
            "colorbar": {
             "outlinewidth": 0,
             "ticks": ""
            },
            "colorscale": [
             [
              0,
              "#0d0887"
             ],
             [
              0.1111111111111111,
              "#46039f"
             ],
             [
              0.2222222222222222,
              "#7201a8"
             ],
             [
              0.3333333333333333,
              "#9c179e"
             ],
             [
              0.4444444444444444,
              "#bd3786"
             ],
             [
              0.5555555555555556,
              "#d8576b"
             ],
             [
              0.6666666666666666,
              "#ed7953"
             ],
             [
              0.7777777777777778,
              "#fb9f3a"
             ],
             [
              0.8888888888888888,
              "#fdca26"
             ],
             [
              1,
              "#f0f921"
             ]
            ],
            "type": "histogram2d"
           }
          ],
          "histogram2dcontour": [
           {
            "colorbar": {
             "outlinewidth": 0,
             "ticks": ""
            },
            "colorscale": [
             [
              0,
              "#0d0887"
             ],
             [
              0.1111111111111111,
              "#46039f"
             ],
             [
              0.2222222222222222,
              "#7201a8"
             ],
             [
              0.3333333333333333,
              "#9c179e"
             ],
             [
              0.4444444444444444,
              "#bd3786"
             ],
             [
              0.5555555555555556,
              "#d8576b"
             ],
             [
              0.6666666666666666,
              "#ed7953"
             ],
             [
              0.7777777777777778,
              "#fb9f3a"
             ],
             [
              0.8888888888888888,
              "#fdca26"
             ],
             [
              1,
              "#f0f921"
             ]
            ],
            "type": "histogram2dcontour"
           }
          ],
          "mesh3d": [
           {
            "colorbar": {
             "outlinewidth": 0,
             "ticks": ""
            },
            "type": "mesh3d"
           }
          ],
          "parcoords": [
           {
            "line": {
             "colorbar": {
              "outlinewidth": 0,
              "ticks": ""
             }
            },
            "type": "parcoords"
           }
          ],
          "pie": [
           {
            "automargin": true,
            "type": "pie"
           }
          ],
          "scatter": [
           {
            "fillpattern": {
             "fillmode": "overlay",
             "size": 10,
             "solidity": 0.2
            },
            "type": "scatter"
           }
          ],
          "scatter3d": [
           {
            "line": {
             "colorbar": {
              "outlinewidth": 0,
              "ticks": ""
             }
            },
            "marker": {
             "colorbar": {
              "outlinewidth": 0,
              "ticks": ""
             }
            },
            "type": "scatter3d"
           }
          ],
          "scattercarpet": [
           {
            "marker": {
             "colorbar": {
              "outlinewidth": 0,
              "ticks": ""
             }
            },
            "type": "scattercarpet"
           }
          ],
          "scattergeo": [
           {
            "marker": {
             "colorbar": {
              "outlinewidth": 0,
              "ticks": ""
             }
            },
            "type": "scattergeo"
           }
          ],
          "scattergl": [
           {
            "marker": {
             "colorbar": {
              "outlinewidth": 0,
              "ticks": ""
             }
            },
            "type": "scattergl"
           }
          ],
          "scattermapbox": [
           {
            "marker": {
             "colorbar": {
              "outlinewidth": 0,
              "ticks": ""
             }
            },
            "type": "scattermapbox"
           }
          ],
          "scatterpolar": [
           {
            "marker": {
             "colorbar": {
              "outlinewidth": 0,
              "ticks": ""
             }
            },
            "type": "scatterpolar"
           }
          ],
          "scatterpolargl": [
           {
            "marker": {
             "colorbar": {
              "outlinewidth": 0,
              "ticks": ""
             }
            },
            "type": "scatterpolargl"
           }
          ],
          "scatterternary": [
           {
            "marker": {
             "colorbar": {
              "outlinewidth": 0,
              "ticks": ""
             }
            },
            "type": "scatterternary"
           }
          ],
          "surface": [
           {
            "colorbar": {
             "outlinewidth": 0,
             "ticks": ""
            },
            "colorscale": [
             [
              0,
              "#0d0887"
             ],
             [
              0.1111111111111111,
              "#46039f"
             ],
             [
              0.2222222222222222,
              "#7201a8"
             ],
             [
              0.3333333333333333,
              "#9c179e"
             ],
             [
              0.4444444444444444,
              "#bd3786"
             ],
             [
              0.5555555555555556,
              "#d8576b"
             ],
             [
              0.6666666666666666,
              "#ed7953"
             ],
             [
              0.7777777777777778,
              "#fb9f3a"
             ],
             [
              0.8888888888888888,
              "#fdca26"
             ],
             [
              1,
              "#f0f921"
             ]
            ],
            "type": "surface"
           }
          ],
          "table": [
           {
            "cells": {
             "fill": {
              "color": "#EBF0F8"
             },
             "line": {
              "color": "white"
             }
            },
            "header": {
             "fill": {
              "color": "#C8D4E3"
             },
             "line": {
              "color": "white"
             }
            },
            "type": "table"
           }
          ]
         },
         "layout": {
          "annotationdefaults": {
           "arrowcolor": "#2a3f5f",
           "arrowhead": 0,
           "arrowwidth": 1
          },
          "autotypenumbers": "strict",
          "coloraxis": {
           "colorbar": {
            "outlinewidth": 0,
            "ticks": ""
           }
          },
          "colorscale": {
           "diverging": [
            [
             0,
             "#8e0152"
            ],
            [
             0.1,
             "#c51b7d"
            ],
            [
             0.2,
             "#de77ae"
            ],
            [
             0.3,
             "#f1b6da"
            ],
            [
             0.4,
             "#fde0ef"
            ],
            [
             0.5,
             "#f7f7f7"
            ],
            [
             0.6,
             "#e6f5d0"
            ],
            [
             0.7,
             "#b8e186"
            ],
            [
             0.8,
             "#7fbc41"
            ],
            [
             0.9,
             "#4d9221"
            ],
            [
             1,
             "#276419"
            ]
           ],
           "sequential": [
            [
             0,
             "#0d0887"
            ],
            [
             0.1111111111111111,
             "#46039f"
            ],
            [
             0.2222222222222222,
             "#7201a8"
            ],
            [
             0.3333333333333333,
             "#9c179e"
            ],
            [
             0.4444444444444444,
             "#bd3786"
            ],
            [
             0.5555555555555556,
             "#d8576b"
            ],
            [
             0.6666666666666666,
             "#ed7953"
            ],
            [
             0.7777777777777778,
             "#fb9f3a"
            ],
            [
             0.8888888888888888,
             "#fdca26"
            ],
            [
             1,
             "#f0f921"
            ]
           ],
           "sequentialminus": [
            [
             0,
             "#0d0887"
            ],
            [
             0.1111111111111111,
             "#46039f"
            ],
            [
             0.2222222222222222,
             "#7201a8"
            ],
            [
             0.3333333333333333,
             "#9c179e"
            ],
            [
             0.4444444444444444,
             "#bd3786"
            ],
            [
             0.5555555555555556,
             "#d8576b"
            ],
            [
             0.6666666666666666,
             "#ed7953"
            ],
            [
             0.7777777777777778,
             "#fb9f3a"
            ],
            [
             0.8888888888888888,
             "#fdca26"
            ],
            [
             1,
             "#f0f921"
            ]
           ]
          },
          "colorway": [
           "#636efa",
           "#EF553B",
           "#00cc96",
           "#ab63fa",
           "#FFA15A",
           "#19d3f3",
           "#FF6692",
           "#B6E880",
           "#FF97FF",
           "#FECB52"
          ],
          "font": {
           "color": "#2a3f5f"
          },
          "geo": {
           "bgcolor": "white",
           "lakecolor": "white",
           "landcolor": "#E5ECF6",
           "showlakes": true,
           "showland": true,
           "subunitcolor": "white"
          },
          "hoverlabel": {
           "align": "left"
          },
          "hovermode": "closest",
          "mapbox": {
           "style": "light"
          },
          "paper_bgcolor": "white",
          "plot_bgcolor": "#E5ECF6",
          "polar": {
           "angularaxis": {
            "gridcolor": "white",
            "linecolor": "white",
            "ticks": ""
           },
           "bgcolor": "#E5ECF6",
           "radialaxis": {
            "gridcolor": "white",
            "linecolor": "white",
            "ticks": ""
           }
          },
          "scene": {
           "xaxis": {
            "backgroundcolor": "#E5ECF6",
            "gridcolor": "white",
            "gridwidth": 2,
            "linecolor": "white",
            "showbackground": true,
            "ticks": "",
            "zerolinecolor": "white"
           },
           "yaxis": {
            "backgroundcolor": "#E5ECF6",
            "gridcolor": "white",
            "gridwidth": 2,
            "linecolor": "white",
            "showbackground": true,
            "ticks": "",
            "zerolinecolor": "white"
           },
           "zaxis": {
            "backgroundcolor": "#E5ECF6",
            "gridcolor": "white",
            "gridwidth": 2,
            "linecolor": "white",
            "showbackground": true,
            "ticks": "",
            "zerolinecolor": "white"
           }
          },
          "shapedefaults": {
           "line": {
            "color": "#2a3f5f"
           }
          },
          "ternary": {
           "aaxis": {
            "gridcolor": "white",
            "linecolor": "white",
            "ticks": ""
           },
           "baxis": {
            "gridcolor": "white",
            "linecolor": "white",
            "ticks": ""
           },
           "bgcolor": "#E5ECF6",
           "caxis": {
            "gridcolor": "white",
            "linecolor": "white",
            "ticks": ""
           }
          },
          "title": {
           "x": 0.05
          },
          "xaxis": {
           "automargin": true,
           "gridcolor": "white",
           "linecolor": "white",
           "ticks": "",
           "title": {
            "standoff": 15
           },
           "zerolinecolor": "white",
           "zerolinewidth": 2
          },
          "yaxis": {
           "automargin": true,
           "gridcolor": "white",
           "linecolor": "white",
           "ticks": "",
           "title": {
            "standoff": 15
           },
           "zerolinecolor": "white",
           "zerolinewidth": 2
          }
         }
        },
        "title": {
         "text": "Error Convergence with XOR gate"
        },
        "width": 800,
        "xaxis": {
         "anchor": "y",
         "domain": [
          0,
          1
         ],
         "title": {
          "text": "epochs"
         }
        },
        "yaxis": {
         "anchor": "x",
         "domain": [
          0,
          1
         ],
         "title": {
          "text": "errors"
         }
        }
       }
      }
     },
     "metadata": {},
     "output_type": "display_data"
    }
   ],
   "source": [
    "# plot the error values for XOR gate using binary step function\n",
    "plot_graph(errors, 'Error Convergence with XOR gate')"
   ]
  },
  {
   "cell_type": "markdown",
   "metadata": {},
   "source": [
    "USING BI-POLAR STEP FUNCTION::"
   ]
  },
  {
   "cell_type": "code",
   "execution_count": 40,
   "metadata": {},
   "outputs": [],
   "source": [
    "# XOR GATE Truth Table::\n",
    "training_inputs = np.array([[0, 0], [0, 1], [1, 0], [1, 1]])\n",
    "labels = np.array([-1, 1, 1, -1]) # bi-polar step function\n",
    "\n",
    "initial_weights = [10, 0.2, -0.75]\n",
    "learning_rate = 0.05\n",
    "\n",
    "perceptron = Perceptron(num_inputs=3, learning_rate=learning_rate, initial_weights=initial_weights, activation_function='bipolar')\n",
    "training_inputs_with_bias = np.column_stack((np.ones(4), training_inputs))\n",
    "errors = perceptron.train(training_inputs_with_bias, labels)\n"
   ]
  },
  {
   "cell_type": "code",
   "execution_count": 41,
   "metadata": {},
   "outputs": [
    {
     "data": {
      "application/vnd.plotly.v1+json": {
       "config": {
        "plotlyServerURL": "https://plot.ly"
       },
       "data": [
        {
         "hovertemplate": "epochs=%{x}<br>errors=%{y}<extra></extra>",
         "legendgroup": "",
         "line": {
          "color": "#636efa",
          "dash": "solid"
         },
         "marker": {
          "symbol": "circle"
         },
         "mode": "lines",
         "name": "",
         "orientation": "v",
         "showlegend": false,
         "type": "scatter",
         "x": [
          1,
          2,
          3,
          4,
          5,
          6,
          7,
          8,
          9,
          10,
          11,
          12,
          13,
          14,
          15,
          16,
          17,
          18,
          19,
          20,
          21,
          22,
          23,
          24,
          25,
          26,
          27,
          28,
          29,
          30,
          31,
          32,
          33,
          34,
          35,
          36,
          37,
          38,
          39,
          40,
          41,
          42,
          43,
          44,
          45,
          46,
          47,
          48,
          49,
          50,
          51,
          52,
          53,
          54,
          55,
          56,
          57,
          58,
          59,
          60,
          61,
          62,
          63,
          64,
          65,
          66,
          67,
          68,
          69,
          70,
          71,
          72,
          73,
          74,
          75,
          76,
          77,
          78,
          79,
          80,
          81,
          82,
          83,
          84,
          85,
          86,
          87,
          88,
          89,
          90,
          91,
          92,
          93,
          94,
          95,
          96,
          97,
          98,
          99,
          100,
          101,
          102,
          103,
          104,
          105,
          106,
          107,
          108,
          109,
          110,
          111,
          112,
          113,
          114,
          115,
          116,
          117,
          118,
          119,
          120,
          121,
          122,
          123,
          124,
          125,
          126,
          127,
          128,
          129,
          130,
          131,
          132,
          133,
          134,
          135,
          136,
          137,
          138,
          139,
          140,
          141,
          142,
          143,
          144,
          145,
          146,
          147,
          148,
          149,
          150,
          151,
          152,
          153,
          154,
          155,
          156,
          157,
          158,
          159,
          160,
          161,
          162,
          163,
          164,
          165,
          166,
          167,
          168,
          169,
          170,
          171,
          172,
          173,
          174,
          175,
          176,
          177,
          178,
          179,
          180,
          181,
          182,
          183,
          184,
          185,
          186,
          187,
          188,
          189,
          190,
          191,
          192,
          193,
          194,
          195,
          196,
          197,
          198,
          199,
          200,
          201,
          202,
          203,
          204,
          205,
          206,
          207,
          208,
          209,
          210,
          211,
          212,
          213,
          214,
          215,
          216,
          217,
          218,
          219,
          220,
          221,
          222,
          223,
          224,
          225,
          226,
          227,
          228,
          229,
          230,
          231,
          232,
          233,
          234,
          235,
          236,
          237,
          238,
          239,
          240,
          241,
          242,
          243,
          244,
          245,
          246,
          247,
          248,
          249,
          250,
          251,
          252,
          253,
          254,
          255,
          256,
          257,
          258,
          259,
          260,
          261,
          262,
          263,
          264,
          265,
          266,
          267,
          268,
          269,
          270,
          271,
          272,
          273,
          274,
          275,
          276,
          277,
          278,
          279,
          280,
          281,
          282,
          283,
          284,
          285,
          286,
          287,
          288,
          289,
          290,
          291,
          292,
          293,
          294,
          295,
          296,
          297,
          298,
          299,
          300,
          301,
          302,
          303,
          304,
          305,
          306,
          307,
          308,
          309,
          310,
          311,
          312,
          313,
          314,
          315,
          316,
          317,
          318,
          319,
          320,
          321,
          322,
          323,
          324,
          325,
          326,
          327,
          328,
          329,
          330,
          331,
          332,
          333,
          334,
          335,
          336,
          337,
          338,
          339,
          340,
          341,
          342,
          343,
          344,
          345,
          346,
          347,
          348,
          349,
          350,
          351,
          352,
          353,
          354,
          355,
          356,
          357,
          358,
          359,
          360,
          361,
          362,
          363,
          364,
          365,
          366,
          367,
          368,
          369,
          370,
          371,
          372,
          373,
          374,
          375,
          376,
          377,
          378,
          379,
          380,
          381,
          382,
          383,
          384,
          385,
          386,
          387,
          388,
          389,
          390,
          391,
          392,
          393,
          394,
          395,
          396,
          397,
          398,
          399,
          400,
          401,
          402,
          403,
          404,
          405,
          406,
          407,
          408,
          409,
          410,
          411,
          412,
          413,
          414,
          415,
          416,
          417,
          418,
          419,
          420,
          421,
          422,
          423,
          424,
          425,
          426,
          427,
          428,
          429,
          430,
          431,
          432,
          433,
          434,
          435,
          436,
          437,
          438,
          439,
          440,
          441,
          442,
          443,
          444,
          445,
          446,
          447,
          448,
          449,
          450,
          451,
          452,
          453,
          454,
          455,
          456,
          457,
          458,
          459,
          460,
          461,
          462,
          463,
          464,
          465,
          466,
          467,
          468,
          469,
          470,
          471,
          472,
          473,
          474,
          475,
          476,
          477,
          478,
          479,
          480,
          481,
          482,
          483,
          484,
          485,
          486,
          487,
          488,
          489,
          490,
          491,
          492,
          493,
          494,
          495,
          496,
          497,
          498,
          499,
          500,
          501,
          502,
          503,
          504,
          505,
          506,
          507,
          508,
          509,
          510,
          511,
          512,
          513,
          514,
          515,
          516,
          517,
          518,
          519,
          520,
          521,
          522,
          523,
          524,
          525,
          526,
          527,
          528,
          529,
          530,
          531,
          532,
          533,
          534,
          535,
          536,
          537,
          538,
          539,
          540,
          541,
          542,
          543,
          544,
          545,
          546,
          547,
          548,
          549,
          550,
          551,
          552,
          553,
          554,
          555,
          556,
          557,
          558,
          559,
          560,
          561,
          562,
          563,
          564,
          565,
          566,
          567,
          568,
          569,
          570,
          571,
          572,
          573,
          574,
          575,
          576,
          577,
          578,
          579,
          580,
          581,
          582,
          583,
          584,
          585,
          586,
          587,
          588,
          589,
          590,
          591,
          592,
          593,
          594,
          595,
          596,
          597,
          598,
          599,
          600,
          601,
          602,
          603,
          604,
          605,
          606,
          607,
          608,
          609,
          610,
          611,
          612,
          613,
          614,
          615,
          616,
          617,
          618,
          619,
          620,
          621,
          622,
          623,
          624,
          625,
          626,
          627,
          628,
          629,
          630,
          631,
          632,
          633,
          634,
          635,
          636,
          637,
          638,
          639,
          640,
          641,
          642,
          643,
          644,
          645,
          646,
          647,
          648,
          649,
          650,
          651,
          652,
          653,
          654,
          655,
          656,
          657,
          658,
          659,
          660,
          661,
          662,
          663,
          664,
          665,
          666,
          667,
          668,
          669,
          670,
          671,
          672,
          673,
          674,
          675,
          676,
          677,
          678,
          679,
          680,
          681,
          682,
          683,
          684,
          685,
          686,
          687,
          688,
          689,
          690,
          691,
          692,
          693,
          694,
          695,
          696,
          697,
          698,
          699,
          700,
          701,
          702,
          703,
          704,
          705,
          706,
          707,
          708,
          709,
          710,
          711,
          712,
          713,
          714,
          715,
          716,
          717,
          718,
          719,
          720,
          721,
          722,
          723,
          724,
          725,
          726,
          727,
          728,
          729,
          730,
          731,
          732,
          733,
          734,
          735,
          736,
          737,
          738,
          739,
          740,
          741,
          742,
          743,
          744,
          745,
          746,
          747,
          748,
          749,
          750,
          751,
          752,
          753,
          754,
          755,
          756,
          757,
          758,
          759,
          760,
          761,
          762,
          763,
          764,
          765,
          766,
          767,
          768,
          769,
          770,
          771,
          772,
          773,
          774,
          775,
          776,
          777,
          778,
          779,
          780,
          781,
          782,
          783,
          784,
          785,
          786,
          787,
          788,
          789,
          790,
          791,
          792,
          793,
          794,
          795,
          796,
          797,
          798,
          799,
          800,
          801,
          802,
          803,
          804,
          805,
          806,
          807,
          808,
          809,
          810,
          811,
          812,
          813,
          814,
          815,
          816,
          817,
          818,
          819,
          820,
          821,
          822,
          823,
          824,
          825,
          826,
          827,
          828,
          829,
          830,
          831,
          832,
          833,
          834,
          835,
          836,
          837,
          838,
          839,
          840,
          841,
          842,
          843,
          844,
          845,
          846,
          847,
          848,
          849,
          850,
          851,
          852,
          853,
          854,
          855,
          856,
          857,
          858,
          859,
          860,
          861,
          862,
          863,
          864,
          865,
          866,
          867,
          868,
          869,
          870,
          871,
          872,
          873,
          874,
          875,
          876,
          877,
          878,
          879,
          880,
          881,
          882,
          883,
          884,
          885,
          886,
          887,
          888,
          889,
          890,
          891,
          892,
          893,
          894,
          895,
          896,
          897,
          898,
          899,
          900,
          901,
          902,
          903,
          904,
          905,
          906,
          907,
          908,
          909,
          910,
          911,
          912,
          913,
          914,
          915,
          916,
          917,
          918,
          919,
          920,
          921,
          922,
          923,
          924,
          925,
          926,
          927,
          928,
          929,
          930,
          931,
          932,
          933,
          934,
          935,
          936,
          937,
          938,
          939,
          940,
          941,
          942,
          943,
          944,
          945,
          946,
          947,
          948,
          949,
          950,
          951,
          952,
          953,
          954,
          955,
          956,
          957,
          958,
          959,
          960,
          961,
          962,
          963,
          964,
          965,
          966,
          967,
          968,
          969,
          970,
          971,
          972,
          973,
          974,
          975,
          976,
          977,
          978,
          979,
          980,
          981,
          982,
          983,
          984,
          985,
          986,
          987,
          988,
          989,
          990,
          991,
          992,
          993,
          994,
          995,
          996,
          997,
          998,
          999,
          1000
         ],
         "xaxis": "x",
         "y": [
          8,
          8,
          8,
          8,
          8,
          8,
          8,
          8,
          8,
          8,
          8,
          8,
          8,
          8,
          8,
          8,
          8,
          8,
          8,
          8,
          8,
          8,
          8,
          8,
          4,
          4,
          4,
          4,
          4,
          4,
          4,
          4,
          4,
          4,
          4,
          4,
          4,
          4,
          4,
          4,
          4,
          4,
          4,
          4,
          8,
          4,
          8,
          4,
          8,
          4,
          8,
          4,
          8,
          4,
          8,
          4,
          8,
          4,
          8,
          4,
          8,
          4,
          8,
          4,
          8,
          8,
          4,
          8,
          8,
          4,
          8,
          8,
          4,
          8,
          8,
          4,
          8,
          8,
          4,
          8,
          8,
          4,
          8,
          8,
          4,
          8,
          8,
          4,
          8,
          8,
          4,
          8,
          8,
          4,
          8,
          8,
          4,
          8,
          8,
          4,
          8,
          8,
          4,
          8,
          8,
          4,
          8,
          8,
          4,
          8,
          8,
          4,
          8,
          8,
          4,
          8,
          8,
          4,
          8,
          8,
          4,
          8,
          8,
          4,
          8,
          12,
          16,
          16,
          16,
          16,
          16,
          16,
          16,
          16,
          16,
          16,
          16,
          16,
          16,
          16,
          16,
          16,
          16,
          16,
          16,
          16,
          16,
          16,
          16,
          16,
          16,
          16,
          16,
          16,
          16,
          16,
          16,
          16,
          16,
          16,
          16,
          16,
          16,
          16,
          16,
          16,
          16,
          16,
          16,
          16,
          16,
          16,
          16,
          16,
          16,
          16,
          16,
          16,
          16,
          16,
          16,
          16,
          16,
          16,
          16,
          16,
          16,
          16,
          16,
          16,
          16,
          16,
          16,
          16,
          16,
          16,
          16,
          16,
          16,
          16,
          16,
          16,
          16,
          16,
          16,
          16,
          16,
          16,
          16,
          16,
          16,
          16,
          16,
          16,
          16,
          16,
          16,
          16,
          16,
          16,
          16,
          16,
          16,
          16,
          16,
          16,
          16,
          16,
          16,
          16,
          16,
          16,
          16,
          16,
          16,
          16,
          16,
          16,
          16,
          16,
          16,
          16,
          16,
          16,
          16,
          16,
          16,
          16,
          16,
          16,
          16,
          16,
          16,
          16,
          16,
          16,
          16,
          16,
          16,
          16,
          16,
          16,
          16,
          16,
          16,
          16,
          16,
          16,
          16,
          16,
          16,
          16,
          16,
          16,
          16,
          16,
          16,
          16,
          16,
          16,
          16,
          16,
          16,
          16,
          16,
          16,
          16,
          16,
          16,
          16,
          16,
          16,
          16,
          16,
          16,
          16,
          16,
          16,
          16,
          16,
          16,
          16,
          16,
          16,
          16,
          16,
          16,
          16,
          16,
          16,
          16,
          16,
          16,
          16,
          16,
          16,
          16,
          16,
          16,
          16,
          16,
          16,
          16,
          16,
          16,
          16,
          16,
          16,
          16,
          16,
          16,
          16,
          16,
          16,
          16,
          16,
          16,
          16,
          16,
          16,
          16,
          16,
          16,
          16,
          16,
          16,
          16,
          16,
          16,
          16,
          16,
          16,
          16,
          16,
          16,
          16,
          16,
          16,
          16,
          16,
          16,
          16,
          16,
          16,
          16,
          16,
          16,
          16,
          16,
          16,
          16,
          16,
          16,
          16,
          16,
          16,
          16,
          16,
          16,
          16,
          16,
          16,
          16,
          16,
          16,
          16,
          16,
          16,
          16,
          16,
          16,
          16,
          16,
          16,
          16,
          16,
          16,
          16,
          16,
          16,
          16,
          16,
          16,
          16,
          16,
          16,
          16,
          16,
          16,
          16,
          16,
          16,
          16,
          16,
          16,
          16,
          16,
          16,
          16,
          16,
          16,
          16,
          16,
          16,
          16,
          16,
          16,
          16,
          16,
          16,
          16,
          16,
          16,
          16,
          16,
          16,
          16,
          16,
          16,
          16,
          16,
          16,
          16,
          16,
          16,
          16,
          16,
          16,
          16,
          16,
          16,
          16,
          16,
          16,
          16,
          16,
          16,
          16,
          16,
          16,
          16,
          16,
          16,
          16,
          16,
          16,
          16,
          16,
          16,
          16,
          16,
          16,
          16,
          16,
          16,
          16,
          16,
          16,
          16,
          16,
          16,
          16,
          16,
          16,
          16,
          16,
          16,
          16,
          16,
          16,
          16,
          16,
          16,
          16,
          16,
          16,
          16,
          16,
          16,
          16,
          16,
          16,
          16,
          16,
          16,
          16,
          16,
          16,
          16,
          16,
          16,
          16,
          16,
          16,
          16,
          16,
          16,
          16,
          16,
          16,
          16,
          16,
          16,
          16,
          16,
          16,
          16,
          16,
          16,
          16,
          16,
          16,
          16,
          16,
          16,
          16,
          16,
          16,
          16,
          16,
          16,
          16,
          16,
          16,
          16,
          16,
          16,
          16,
          16,
          16,
          16,
          16,
          16,
          16,
          16,
          16,
          16,
          16,
          16,
          16,
          16,
          16,
          16,
          16,
          16,
          16,
          16,
          16,
          16,
          16,
          16,
          16,
          16,
          16,
          16,
          16,
          16,
          16,
          16,
          16,
          16,
          16,
          16,
          16,
          16,
          16,
          16,
          16,
          16,
          16,
          16,
          16,
          16,
          16,
          16,
          16,
          16,
          16,
          16,
          16,
          16,
          16,
          16,
          16,
          16,
          16,
          16,
          16,
          16,
          16,
          16,
          16,
          16,
          16,
          16,
          16,
          16,
          16,
          16,
          16,
          16,
          16,
          16,
          16,
          16,
          16,
          16,
          16,
          16,
          16,
          16,
          16,
          16,
          16,
          16,
          16,
          16,
          16,
          16,
          16,
          16,
          16,
          16,
          16,
          16,
          16,
          16,
          16,
          16,
          16,
          16,
          16,
          16,
          16,
          16,
          16,
          16,
          16,
          16,
          16,
          16,
          16,
          16,
          16,
          16,
          16,
          16,
          16,
          16,
          16,
          16,
          16,
          16,
          16,
          16,
          16,
          16,
          16,
          16,
          16,
          16,
          16,
          16,
          16,
          16,
          16,
          16,
          16,
          16,
          16,
          16,
          16,
          16,
          16,
          16,
          16,
          16,
          16,
          16,
          16,
          16,
          16,
          16,
          16,
          16,
          16,
          16,
          16,
          16,
          16,
          16,
          16,
          16,
          16,
          16,
          16,
          16,
          16,
          16,
          16,
          16,
          16,
          16,
          16,
          16,
          16,
          16,
          16,
          16,
          16,
          16,
          16,
          16,
          16,
          16,
          16,
          16,
          16,
          16,
          16,
          16,
          16,
          16,
          16,
          16,
          16,
          16,
          16,
          16,
          16,
          16,
          16,
          16,
          16,
          16,
          16,
          16,
          16,
          16,
          16,
          16,
          16,
          16,
          16,
          16,
          16,
          16,
          16,
          16,
          16,
          16,
          16,
          16,
          16,
          16,
          16,
          16,
          16,
          16,
          16,
          16,
          16,
          16,
          16,
          16,
          16,
          16,
          16,
          16,
          16,
          16,
          16,
          16,
          16,
          16,
          16,
          16,
          16,
          16,
          16,
          16,
          16,
          16,
          16,
          16,
          16,
          16,
          16,
          16,
          16,
          16,
          16,
          16,
          16,
          16,
          16,
          16,
          16,
          16,
          16,
          16,
          16,
          16,
          16,
          16,
          16,
          16,
          16,
          16,
          16,
          16,
          16,
          16,
          16,
          16,
          16,
          16,
          16,
          16,
          16,
          16,
          16,
          16,
          16,
          16,
          16,
          16,
          16,
          16,
          16,
          16,
          16,
          16,
          16,
          16,
          16,
          16,
          16,
          16,
          16,
          16,
          16,
          16,
          16,
          16,
          16,
          16,
          16,
          16,
          16,
          16,
          16,
          16,
          16,
          16,
          16,
          16,
          16,
          16,
          16,
          16,
          16,
          16,
          16,
          16,
          16,
          16,
          16,
          16,
          16,
          16,
          16,
          16,
          16,
          16,
          16,
          16,
          16,
          16,
          16,
          16,
          16,
          16,
          16,
          16,
          16,
          16,
          16,
          16,
          16,
          16,
          16,
          16,
          16,
          16,
          16,
          16,
          16,
          16,
          16,
          16,
          16,
          16,
          16,
          16,
          16,
          16,
          16,
          16,
          16,
          16,
          16,
          16,
          16,
          16,
          16,
          16,
          16,
          16,
          16,
          16,
          16,
          16,
          16,
          16,
          16,
          16,
          16,
          16,
          16,
          16,
          16,
          16,
          16,
          16,
          16,
          16,
          16,
          16,
          16,
          16,
          16,
          16,
          16,
          16,
          16,
          16,
          16,
          16,
          16,
          16,
          16,
          16,
          16,
          16,
          16,
          16,
          16,
          16,
          16,
          16,
          16,
          16,
          16,
          16,
          16,
          16,
          16,
          16,
          16,
          16,
          16,
          16,
          16,
          16,
          16,
          16,
          16,
          16,
          16
         ],
         "yaxis": "y"
        }
       ],
       "layout": {
        "height": 400,
        "legend": {
         "tracegroupgap": 0
        },
        "template": {
         "data": {
          "bar": [
           {
            "error_x": {
             "color": "#2a3f5f"
            },
            "error_y": {
             "color": "#2a3f5f"
            },
            "marker": {
             "line": {
              "color": "#E5ECF6",
              "width": 0.5
             },
             "pattern": {
              "fillmode": "overlay",
              "size": 10,
              "solidity": 0.2
             }
            },
            "type": "bar"
           }
          ],
          "barpolar": [
           {
            "marker": {
             "line": {
              "color": "#E5ECF6",
              "width": 0.5
             },
             "pattern": {
              "fillmode": "overlay",
              "size": 10,
              "solidity": 0.2
             }
            },
            "type": "barpolar"
           }
          ],
          "carpet": [
           {
            "aaxis": {
             "endlinecolor": "#2a3f5f",
             "gridcolor": "white",
             "linecolor": "white",
             "minorgridcolor": "white",
             "startlinecolor": "#2a3f5f"
            },
            "baxis": {
             "endlinecolor": "#2a3f5f",
             "gridcolor": "white",
             "linecolor": "white",
             "minorgridcolor": "white",
             "startlinecolor": "#2a3f5f"
            },
            "type": "carpet"
           }
          ],
          "choropleth": [
           {
            "colorbar": {
             "outlinewidth": 0,
             "ticks": ""
            },
            "type": "choropleth"
           }
          ],
          "contour": [
           {
            "colorbar": {
             "outlinewidth": 0,
             "ticks": ""
            },
            "colorscale": [
             [
              0,
              "#0d0887"
             ],
             [
              0.1111111111111111,
              "#46039f"
             ],
             [
              0.2222222222222222,
              "#7201a8"
             ],
             [
              0.3333333333333333,
              "#9c179e"
             ],
             [
              0.4444444444444444,
              "#bd3786"
             ],
             [
              0.5555555555555556,
              "#d8576b"
             ],
             [
              0.6666666666666666,
              "#ed7953"
             ],
             [
              0.7777777777777778,
              "#fb9f3a"
             ],
             [
              0.8888888888888888,
              "#fdca26"
             ],
             [
              1,
              "#f0f921"
             ]
            ],
            "type": "contour"
           }
          ],
          "contourcarpet": [
           {
            "colorbar": {
             "outlinewidth": 0,
             "ticks": ""
            },
            "type": "contourcarpet"
           }
          ],
          "heatmap": [
           {
            "colorbar": {
             "outlinewidth": 0,
             "ticks": ""
            },
            "colorscale": [
             [
              0,
              "#0d0887"
             ],
             [
              0.1111111111111111,
              "#46039f"
             ],
             [
              0.2222222222222222,
              "#7201a8"
             ],
             [
              0.3333333333333333,
              "#9c179e"
             ],
             [
              0.4444444444444444,
              "#bd3786"
             ],
             [
              0.5555555555555556,
              "#d8576b"
             ],
             [
              0.6666666666666666,
              "#ed7953"
             ],
             [
              0.7777777777777778,
              "#fb9f3a"
             ],
             [
              0.8888888888888888,
              "#fdca26"
             ],
             [
              1,
              "#f0f921"
             ]
            ],
            "type": "heatmap"
           }
          ],
          "heatmapgl": [
           {
            "colorbar": {
             "outlinewidth": 0,
             "ticks": ""
            },
            "colorscale": [
             [
              0,
              "#0d0887"
             ],
             [
              0.1111111111111111,
              "#46039f"
             ],
             [
              0.2222222222222222,
              "#7201a8"
             ],
             [
              0.3333333333333333,
              "#9c179e"
             ],
             [
              0.4444444444444444,
              "#bd3786"
             ],
             [
              0.5555555555555556,
              "#d8576b"
             ],
             [
              0.6666666666666666,
              "#ed7953"
             ],
             [
              0.7777777777777778,
              "#fb9f3a"
             ],
             [
              0.8888888888888888,
              "#fdca26"
             ],
             [
              1,
              "#f0f921"
             ]
            ],
            "type": "heatmapgl"
           }
          ],
          "histogram": [
           {
            "marker": {
             "pattern": {
              "fillmode": "overlay",
              "size": 10,
              "solidity": 0.2
             }
            },
            "type": "histogram"
           }
          ],
          "histogram2d": [
           {
            "colorbar": {
             "outlinewidth": 0,
             "ticks": ""
            },
            "colorscale": [
             [
              0,
              "#0d0887"
             ],
             [
              0.1111111111111111,
              "#46039f"
             ],
             [
              0.2222222222222222,
              "#7201a8"
             ],
             [
              0.3333333333333333,
              "#9c179e"
             ],
             [
              0.4444444444444444,
              "#bd3786"
             ],
             [
              0.5555555555555556,
              "#d8576b"
             ],
             [
              0.6666666666666666,
              "#ed7953"
             ],
             [
              0.7777777777777778,
              "#fb9f3a"
             ],
             [
              0.8888888888888888,
              "#fdca26"
             ],
             [
              1,
              "#f0f921"
             ]
            ],
            "type": "histogram2d"
           }
          ],
          "histogram2dcontour": [
           {
            "colorbar": {
             "outlinewidth": 0,
             "ticks": ""
            },
            "colorscale": [
             [
              0,
              "#0d0887"
             ],
             [
              0.1111111111111111,
              "#46039f"
             ],
             [
              0.2222222222222222,
              "#7201a8"
             ],
             [
              0.3333333333333333,
              "#9c179e"
             ],
             [
              0.4444444444444444,
              "#bd3786"
             ],
             [
              0.5555555555555556,
              "#d8576b"
             ],
             [
              0.6666666666666666,
              "#ed7953"
             ],
             [
              0.7777777777777778,
              "#fb9f3a"
             ],
             [
              0.8888888888888888,
              "#fdca26"
             ],
             [
              1,
              "#f0f921"
             ]
            ],
            "type": "histogram2dcontour"
           }
          ],
          "mesh3d": [
           {
            "colorbar": {
             "outlinewidth": 0,
             "ticks": ""
            },
            "type": "mesh3d"
           }
          ],
          "parcoords": [
           {
            "line": {
             "colorbar": {
              "outlinewidth": 0,
              "ticks": ""
             }
            },
            "type": "parcoords"
           }
          ],
          "pie": [
           {
            "automargin": true,
            "type": "pie"
           }
          ],
          "scatter": [
           {
            "fillpattern": {
             "fillmode": "overlay",
             "size": 10,
             "solidity": 0.2
            },
            "type": "scatter"
           }
          ],
          "scatter3d": [
           {
            "line": {
             "colorbar": {
              "outlinewidth": 0,
              "ticks": ""
             }
            },
            "marker": {
             "colorbar": {
              "outlinewidth": 0,
              "ticks": ""
             }
            },
            "type": "scatter3d"
           }
          ],
          "scattercarpet": [
           {
            "marker": {
             "colorbar": {
              "outlinewidth": 0,
              "ticks": ""
             }
            },
            "type": "scattercarpet"
           }
          ],
          "scattergeo": [
           {
            "marker": {
             "colorbar": {
              "outlinewidth": 0,
              "ticks": ""
             }
            },
            "type": "scattergeo"
           }
          ],
          "scattergl": [
           {
            "marker": {
             "colorbar": {
              "outlinewidth": 0,
              "ticks": ""
             }
            },
            "type": "scattergl"
           }
          ],
          "scattermapbox": [
           {
            "marker": {
             "colorbar": {
              "outlinewidth": 0,
              "ticks": ""
             }
            },
            "type": "scattermapbox"
           }
          ],
          "scatterpolar": [
           {
            "marker": {
             "colorbar": {
              "outlinewidth": 0,
              "ticks": ""
             }
            },
            "type": "scatterpolar"
           }
          ],
          "scatterpolargl": [
           {
            "marker": {
             "colorbar": {
              "outlinewidth": 0,
              "ticks": ""
             }
            },
            "type": "scatterpolargl"
           }
          ],
          "scatterternary": [
           {
            "marker": {
             "colorbar": {
              "outlinewidth": 0,
              "ticks": ""
             }
            },
            "type": "scatterternary"
           }
          ],
          "surface": [
           {
            "colorbar": {
             "outlinewidth": 0,
             "ticks": ""
            },
            "colorscale": [
             [
              0,
              "#0d0887"
             ],
             [
              0.1111111111111111,
              "#46039f"
             ],
             [
              0.2222222222222222,
              "#7201a8"
             ],
             [
              0.3333333333333333,
              "#9c179e"
             ],
             [
              0.4444444444444444,
              "#bd3786"
             ],
             [
              0.5555555555555556,
              "#d8576b"
             ],
             [
              0.6666666666666666,
              "#ed7953"
             ],
             [
              0.7777777777777778,
              "#fb9f3a"
             ],
             [
              0.8888888888888888,
              "#fdca26"
             ],
             [
              1,
              "#f0f921"
             ]
            ],
            "type": "surface"
           }
          ],
          "table": [
           {
            "cells": {
             "fill": {
              "color": "#EBF0F8"
             },
             "line": {
              "color": "white"
             }
            },
            "header": {
             "fill": {
              "color": "#C8D4E3"
             },
             "line": {
              "color": "white"
             }
            },
            "type": "table"
           }
          ]
         },
         "layout": {
          "annotationdefaults": {
           "arrowcolor": "#2a3f5f",
           "arrowhead": 0,
           "arrowwidth": 1
          },
          "autotypenumbers": "strict",
          "coloraxis": {
           "colorbar": {
            "outlinewidth": 0,
            "ticks": ""
           }
          },
          "colorscale": {
           "diverging": [
            [
             0,
             "#8e0152"
            ],
            [
             0.1,
             "#c51b7d"
            ],
            [
             0.2,
             "#de77ae"
            ],
            [
             0.3,
             "#f1b6da"
            ],
            [
             0.4,
             "#fde0ef"
            ],
            [
             0.5,
             "#f7f7f7"
            ],
            [
             0.6,
             "#e6f5d0"
            ],
            [
             0.7,
             "#b8e186"
            ],
            [
             0.8,
             "#7fbc41"
            ],
            [
             0.9,
             "#4d9221"
            ],
            [
             1,
             "#276419"
            ]
           ],
           "sequential": [
            [
             0,
             "#0d0887"
            ],
            [
             0.1111111111111111,
             "#46039f"
            ],
            [
             0.2222222222222222,
             "#7201a8"
            ],
            [
             0.3333333333333333,
             "#9c179e"
            ],
            [
             0.4444444444444444,
             "#bd3786"
            ],
            [
             0.5555555555555556,
             "#d8576b"
            ],
            [
             0.6666666666666666,
             "#ed7953"
            ],
            [
             0.7777777777777778,
             "#fb9f3a"
            ],
            [
             0.8888888888888888,
             "#fdca26"
            ],
            [
             1,
             "#f0f921"
            ]
           ],
           "sequentialminus": [
            [
             0,
             "#0d0887"
            ],
            [
             0.1111111111111111,
             "#46039f"
            ],
            [
             0.2222222222222222,
             "#7201a8"
            ],
            [
             0.3333333333333333,
             "#9c179e"
            ],
            [
             0.4444444444444444,
             "#bd3786"
            ],
            [
             0.5555555555555556,
             "#d8576b"
            ],
            [
             0.6666666666666666,
             "#ed7953"
            ],
            [
             0.7777777777777778,
             "#fb9f3a"
            ],
            [
             0.8888888888888888,
             "#fdca26"
            ],
            [
             1,
             "#f0f921"
            ]
           ]
          },
          "colorway": [
           "#636efa",
           "#EF553B",
           "#00cc96",
           "#ab63fa",
           "#FFA15A",
           "#19d3f3",
           "#FF6692",
           "#B6E880",
           "#FF97FF",
           "#FECB52"
          ],
          "font": {
           "color": "#2a3f5f"
          },
          "geo": {
           "bgcolor": "white",
           "lakecolor": "white",
           "landcolor": "#E5ECF6",
           "showlakes": true,
           "showland": true,
           "subunitcolor": "white"
          },
          "hoverlabel": {
           "align": "left"
          },
          "hovermode": "closest",
          "mapbox": {
           "style": "light"
          },
          "paper_bgcolor": "white",
          "plot_bgcolor": "#E5ECF6",
          "polar": {
           "angularaxis": {
            "gridcolor": "white",
            "linecolor": "white",
            "ticks": ""
           },
           "bgcolor": "#E5ECF6",
           "radialaxis": {
            "gridcolor": "white",
            "linecolor": "white",
            "ticks": ""
           }
          },
          "scene": {
           "xaxis": {
            "backgroundcolor": "#E5ECF6",
            "gridcolor": "white",
            "gridwidth": 2,
            "linecolor": "white",
            "showbackground": true,
            "ticks": "",
            "zerolinecolor": "white"
           },
           "yaxis": {
            "backgroundcolor": "#E5ECF6",
            "gridcolor": "white",
            "gridwidth": 2,
            "linecolor": "white",
            "showbackground": true,
            "ticks": "",
            "zerolinecolor": "white"
           },
           "zaxis": {
            "backgroundcolor": "#E5ECF6",
            "gridcolor": "white",
            "gridwidth": 2,
            "linecolor": "white",
            "showbackground": true,
            "ticks": "",
            "zerolinecolor": "white"
           }
          },
          "shapedefaults": {
           "line": {
            "color": "#2a3f5f"
           }
          },
          "ternary": {
           "aaxis": {
            "gridcolor": "white",
            "linecolor": "white",
            "ticks": ""
           },
           "baxis": {
            "gridcolor": "white",
            "linecolor": "white",
            "ticks": ""
           },
           "bgcolor": "#E5ECF6",
           "caxis": {
            "gridcolor": "white",
            "linecolor": "white",
            "ticks": ""
           }
          },
          "title": {
           "x": 0.05
          },
          "xaxis": {
           "automargin": true,
           "gridcolor": "white",
           "linecolor": "white",
           "ticks": "",
           "title": {
            "standoff": 15
           },
           "zerolinecolor": "white",
           "zerolinewidth": 2
          },
          "yaxis": {
           "automargin": true,
           "gridcolor": "white",
           "linecolor": "white",
           "ticks": "",
           "title": {
            "standoff": 15
           },
           "zerolinecolor": "white",
           "zerolinewidth": 2
          }
         }
        },
        "title": {
         "text": "Error Convergence with XOR gate"
        },
        "width": 800,
        "xaxis": {
         "anchor": "y",
         "domain": [
          0,
          1
         ],
         "title": {
          "text": "epochs"
         }
        },
        "yaxis": {
         "anchor": "x",
         "domain": [
          0,
          1
         ],
         "title": {
          "text": "errors"
         }
        }
       }
      }
     },
     "metadata": {},
     "output_type": "display_data"
    }
   ],
   "source": [
    "# plot the error values for XOR gate with Bi-Polar Step function\n",
    "plot_graph(errors, 'Error Convergence with XOR gate')"
   ]
  },
  {
   "cell_type": "markdown",
   "metadata": {},
   "source": [
    "USING SIGMOID FUNCTION::"
   ]
  },
  {
   "cell_type": "code",
   "execution_count": 42,
   "metadata": {},
   "outputs": [],
   "source": [
    "# XOR Truth Table::\n",
    "training_inputs = np.array([[0, 0], [0, 1], [1, 0], [1, 1]])\n",
    "labels = np.array([0, 1, 1, 0]) # Sigmoid function\n",
    "\n",
    "initial_weights = [10, 0.2, -0.75]\n",
    "learning_rate = 0.05\n",
    "\n",
    "perceptron = Perceptron(num_inputs=3, learning_rate=learning_rate, initial_weights=initial_weights, activation_function='sigmoid')\n",
    "training_inputs_with_bias = np.column_stack((np.ones(4), training_inputs))\n",
    "errors = perceptron.train(training_inputs_with_bias, labels)\n"
   ]
  },
  {
   "cell_type": "code",
   "execution_count": 43,
   "metadata": {},
   "outputs": [
    {
     "data": {
      "application/vnd.plotly.v1+json": {
       "config": {
        "plotlyServerURL": "https://plot.ly"
       },
       "data": [
        {
         "hovertemplate": "epochs=%{x}<br>errors=%{y}<extra></extra>",
         "legendgroup": "",
         "line": {
          "color": "#636efa",
          "dash": "solid"
         },
         "marker": {
          "symbol": "circle"
         },
         "mode": "lines",
         "name": "",
         "orientation": "v",
         "showlegend": false,
         "type": "scatter",
         "x": [
          1,
          2,
          3,
          4,
          5,
          6,
          7,
          8,
          9,
          10,
          11,
          12,
          13,
          14,
          15,
          16,
          17,
          18,
          19,
          20,
          21,
          22,
          23,
          24,
          25,
          26,
          27,
          28,
          29,
          30,
          31,
          32,
          33,
          34,
          35,
          36,
          37,
          38,
          39,
          40,
          41,
          42,
          43,
          44,
          45,
          46,
          47,
          48,
          49,
          50,
          51,
          52,
          53,
          54,
          55,
          56,
          57,
          58,
          59,
          60,
          61,
          62,
          63,
          64,
          65,
          66,
          67,
          68,
          69,
          70,
          71,
          72,
          73,
          74,
          75,
          76,
          77,
          78,
          79,
          80,
          81,
          82,
          83,
          84,
          85,
          86,
          87,
          88,
          89,
          90,
          91,
          92,
          93,
          94,
          95,
          96,
          97,
          98,
          99,
          100,
          101,
          102,
          103,
          104,
          105,
          106,
          107,
          108,
          109,
          110,
          111,
          112,
          113,
          114,
          115,
          116,
          117,
          118,
          119,
          120,
          121,
          122,
          123,
          124,
          125,
          126,
          127,
          128,
          129,
          130,
          131,
          132,
          133,
          134,
          135,
          136,
          137,
          138,
          139,
          140,
          141,
          142,
          143,
          144,
          145,
          146,
          147,
          148,
          149,
          150,
          151,
          152,
          153,
          154,
          155,
          156,
          157,
          158,
          159,
          160,
          161,
          162,
          163,
          164,
          165,
          166,
          167,
          168,
          169,
          170,
          171,
          172,
          173,
          174,
          175,
          176,
          177,
          178,
          179,
          180,
          181,
          182,
          183,
          184,
          185,
          186,
          187,
          188,
          189,
          190,
          191,
          192,
          193,
          194,
          195,
          196,
          197,
          198,
          199,
          200,
          201,
          202,
          203,
          204,
          205,
          206,
          207,
          208,
          209,
          210,
          211,
          212,
          213,
          214,
          215,
          216,
          217,
          218,
          219,
          220,
          221,
          222,
          223,
          224,
          225,
          226,
          227,
          228,
          229,
          230,
          231,
          232,
          233,
          234,
          235,
          236,
          237,
          238,
          239,
          240,
          241,
          242,
          243,
          244,
          245,
          246,
          247,
          248,
          249,
          250,
          251,
          252,
          253,
          254,
          255,
          256,
          257,
          258,
          259,
          260,
          261,
          262,
          263,
          264,
          265,
          266,
          267,
          268,
          269,
          270,
          271,
          272,
          273,
          274,
          275,
          276,
          277,
          278,
          279,
          280,
          281,
          282,
          283,
          284,
          285,
          286,
          287,
          288,
          289,
          290,
          291,
          292,
          293,
          294,
          295,
          296,
          297,
          298,
          299,
          300,
          301,
          302,
          303,
          304,
          305,
          306,
          307,
          308,
          309,
          310,
          311,
          312,
          313,
          314,
          315,
          316,
          317,
          318,
          319,
          320,
          321,
          322,
          323,
          324,
          325,
          326,
          327,
          328,
          329,
          330,
          331,
          332,
          333,
          334,
          335,
          336,
          337,
          338,
          339,
          340,
          341,
          342,
          343,
          344,
          345,
          346,
          347,
          348,
          349,
          350,
          351,
          352,
          353,
          354,
          355,
          356,
          357,
          358,
          359,
          360,
          361,
          362,
          363,
          364,
          365,
          366,
          367,
          368,
          369,
          370,
          371,
          372,
          373,
          374,
          375,
          376,
          377,
          378,
          379,
          380,
          381,
          382,
          383,
          384,
          385,
          386,
          387,
          388,
          389,
          390,
          391,
          392,
          393,
          394,
          395,
          396,
          397,
          398,
          399,
          400,
          401,
          402,
          403,
          404,
          405,
          406,
          407,
          408,
          409,
          410,
          411,
          412,
          413,
          414,
          415,
          416,
          417,
          418,
          419,
          420,
          421,
          422,
          423,
          424,
          425,
          426,
          427,
          428,
          429,
          430,
          431,
          432,
          433,
          434,
          435,
          436,
          437,
          438,
          439,
          440,
          441,
          442,
          443,
          444,
          445,
          446,
          447,
          448,
          449,
          450,
          451,
          452,
          453,
          454,
          455,
          456,
          457,
          458,
          459,
          460,
          461,
          462,
          463,
          464,
          465,
          466,
          467,
          468,
          469,
          470,
          471,
          472,
          473,
          474,
          475,
          476,
          477,
          478,
          479,
          480,
          481,
          482,
          483,
          484,
          485,
          486,
          487,
          488,
          489,
          490,
          491,
          492,
          493,
          494,
          495,
          496,
          497,
          498,
          499,
          500,
          501,
          502,
          503,
          504,
          505,
          506,
          507,
          508,
          509,
          510,
          511,
          512,
          513,
          514,
          515,
          516,
          517,
          518,
          519,
          520,
          521,
          522,
          523,
          524,
          525,
          526,
          527,
          528,
          529,
          530,
          531,
          532,
          533,
          534,
          535,
          536,
          537,
          538,
          539,
          540,
          541,
          542,
          543,
          544,
          545,
          546,
          547,
          548,
          549,
          550,
          551,
          552,
          553,
          554,
          555,
          556,
          557,
          558,
          559,
          560,
          561,
          562,
          563,
          564,
          565,
          566,
          567,
          568,
          569,
          570,
          571,
          572,
          573,
          574,
          575,
          576,
          577,
          578,
          579,
          580,
          581,
          582,
          583,
          584,
          585,
          586,
          587,
          588,
          589,
          590,
          591,
          592,
          593,
          594,
          595,
          596,
          597,
          598,
          599,
          600,
          601,
          602,
          603,
          604,
          605,
          606,
          607,
          608,
          609,
          610,
          611,
          612,
          613,
          614,
          615,
          616,
          617,
          618,
          619,
          620,
          621,
          622,
          623,
          624,
          625,
          626,
          627,
          628,
          629,
          630,
          631,
          632,
          633,
          634,
          635,
          636,
          637,
          638,
          639,
          640,
          641,
          642,
          643,
          644,
          645,
          646,
          647,
          648,
          649,
          650,
          651,
          652,
          653,
          654,
          655,
          656,
          657,
          658,
          659,
          660,
          661,
          662,
          663,
          664,
          665,
          666,
          667,
          668,
          669,
          670,
          671,
          672,
          673,
          674,
          675,
          676,
          677,
          678,
          679,
          680,
          681,
          682,
          683,
          684,
          685,
          686,
          687,
          688,
          689,
          690,
          691,
          692,
          693,
          694,
          695,
          696,
          697,
          698,
          699,
          700,
          701,
          702,
          703,
          704,
          705,
          706,
          707,
          708,
          709,
          710,
          711,
          712,
          713,
          714,
          715,
          716,
          717,
          718,
          719,
          720,
          721,
          722,
          723,
          724,
          725,
          726,
          727,
          728,
          729,
          730,
          731,
          732,
          733,
          734,
          735,
          736,
          737,
          738,
          739,
          740,
          741,
          742,
          743,
          744,
          745,
          746,
          747,
          748,
          749,
          750,
          751,
          752,
          753,
          754,
          755,
          756,
          757,
          758,
          759,
          760,
          761,
          762,
          763,
          764,
          765,
          766,
          767,
          768,
          769,
          770,
          771,
          772,
          773,
          774,
          775,
          776,
          777,
          778,
          779,
          780,
          781,
          782,
          783,
          784,
          785,
          786,
          787,
          788,
          789,
          790,
          791,
          792,
          793,
          794,
          795,
          796,
          797,
          798,
          799,
          800,
          801,
          802,
          803,
          804,
          805,
          806,
          807,
          808,
          809,
          810,
          811,
          812,
          813,
          814,
          815,
          816,
          817,
          818,
          819,
          820,
          821,
          822,
          823,
          824,
          825,
          826,
          827,
          828,
          829,
          830,
          831,
          832,
          833,
          834,
          835,
          836,
          837,
          838,
          839,
          840,
          841,
          842,
          843,
          844,
          845,
          846,
          847,
          848,
          849,
          850,
          851,
          852,
          853,
          854,
          855,
          856,
          857,
          858,
          859,
          860,
          861,
          862,
          863,
          864,
          865,
          866,
          867,
          868,
          869,
          870,
          871,
          872,
          873,
          874,
          875,
          876,
          877,
          878,
          879,
          880,
          881,
          882,
          883,
          884,
          885,
          886,
          887,
          888,
          889,
          890,
          891,
          892,
          893,
          894,
          895,
          896,
          897,
          898,
          899,
          900,
          901,
          902,
          903,
          904,
          905,
          906,
          907,
          908,
          909,
          910,
          911,
          912,
          913,
          914,
          915,
          916,
          917,
          918,
          919,
          920,
          921,
          922,
          923,
          924,
          925,
          926,
          927,
          928,
          929,
          930,
          931,
          932,
          933,
          934,
          935,
          936,
          937,
          938,
          939,
          940,
          941,
          942,
          943,
          944,
          945,
          946,
          947,
          948,
          949,
          950,
          951,
          952,
          953,
          954,
          955,
          956,
          957,
          958,
          959,
          960,
          961,
          962,
          963,
          964,
          965,
          966,
          967,
          968,
          969,
          970,
          971,
          972,
          973,
          974,
          975,
          976,
          977,
          978,
          979,
          980,
          981,
          982,
          983,
          984,
          985,
          986,
          987,
          988,
          989,
          990,
          991,
          992,
          993,
          994,
          995,
          996,
          997,
          998,
          999,
          1000
         ],
         "xaxis": "x",
         "y": [
          1.9997437931464885,
          1.9996976367803057,
          1.9996423775043994,
          1.9995761194702242,
          1.9994965606599728,
          1.9994009048562478,
          1.9992857545418952,
          1.9991469806566387,
          1.9989795643005874,
          1.9987774044832878,
          1.9985330848508014,
          1.9982375909645682,
          1.9978799681426969,
          1.9974469081063324,
          1.9969222507208635,
          1.9962863850375048,
          1.9955155317325053,
          1.9945808870986004,
          1.9934476072798595,
          1.9920736109513761,
          1.9904081798819742,
          1.9883903408923747,
          1.9859470212242065,
          1.9829909844740121,
          1.9794185789683971,
          1.9751073685102365,
          1.9699137712573158,
          1.9636709108096302,
          1.95618698830779,
          1.9472446166367248,
          1.9366017127024122,
          1.9239947050768067,
          1.9091449484113538,
          1.8917692853292074,
          1.871595576832836,
          1.8483836301130956,
          1.8219511911061108,
          1.7922034992223272,
          1.75916341571949,
          1.7229976292645204,
          1.6840334225501408,
          1.6427605725177945,
          1.5998146286310275,
          1.5559410667298168,
          1.511943954934422,
          1.4686265193676145,
          1.426733011425604,
          1.386900787047932,
          1.3496287316420925,
          1.315264185064322,
          1.28400671883308,
          1.2559245373152592,
          1.2309782903427158,
          1.2090474579384813,
          1.1899556424315165,
          1.1734925134767407,
          1.1594314034329307,
          1.1475424609755076,
          1.1376018184939254,
          1.1293974806168017,
          1.1227326914212286,
          1.1174274726165438,
          1.1133189080162986,
          1.1102606213456307,
          1.108121776718474,
          1.106785833239191,
          1.106149208985828,
          1.1061199531882435,
          1.1066164852982883,
          1.107566432205924,
          1.1089055768056335,
          1.110576919778385,
          1.1125298497550555,
          1.1147194134355296,
          1.1171056756570565,
          1.119653159072973,
          1.1223303535016294,
          1.1251092857947531,
          1.1279651420367687,
          1.1308759348882793,
          1.1338222098503339,
          1.1367867851102678,
          1.1397545204167878,
          1.142712111117637,
          1.1456479040817233,
          1.1485517327274435,
          1.1514147688000675,
          1.1542293888941604,
          1.1569890540119907,
          1.159688200694887,
          1.1623221424696148,
          1.1648869805229725,
          1.167379522660852,
          1.1697972097279197,
          1.172138048764946,
          1.1744005522660665,
          1.176583682970614,
          1.1786868036859635,
          1.1807096316909014,
          1.182652197314851,
          1.1845148063281445,
          1.186298005813366,
          1.1880025532184433,
          1.189629388319278,
          1.1911796078438375,
          1.1926544425311798,
          1.194055236418283,
          1.1953834281649742,
          1.1966405342431203,
          1.1978281338305612,
          1.1989478552633728,
          1.2000013639119858,
          1.2009903513576141,
          1.201916525755457,
          1.2027816032803507,
          1.2035873005589766,
          1.204335328000506,
          1.2050273839447367,
          1.205665149553327,
          1.2062502843758491,
          1.20678442252793,
          1.207269169423954,
          1.2077060990115092,
          1.2080967514591796,
          1.2084426312532994,
          1.2087452056630204,
          1.209005903536466,
          1.2092261143939165,
          1.2094071877868608,
          1.2095504328944562,
          1.2096571183313711,
          1.2097284721432864,
          1.2097656819683944,
          1.2097698953451679,
          1.2097422201484225,
          1.2096837251373365,
          1.2095954406005487,
          1.2094783590848617,
          1.2093334361952899,
          1.209161591455377,
          1.2089637092177374,
          1.2087406396157574,
          1.2084931995482724,
          1.2082221736898409,
          1.2079283155199951,
          1.2076123483655028,
          1.2072749664503217,
          1.2069168359484712,
          1.2065385960355837,
          1.2061408599353565,
          1.2057242159575645,
          1.205289228524688,
          1.2048364391845594,
          1.2043663676067695,
          1.2038795125608697,
          1.2033763528746635,
          1.2028573483711487,
          1.2023229407828708,
          1.2017735546426642,
          1.201209598149941,
          1.200631464011843,
          1.2000395302587286,
          1.1994341610336046,
          1.1988157073552235,
          1.198184507854689,
          1.1975408894855004,
          1.1968851682070614,
          1.1962176496417523,
          1.1955386297057418,
          1.1948483952137683,
          1.1941472244581885,
          1.1934353877626211,
          1.192713148010582,
          1.1919807611495188,
          1.1912384766707105,
          1.190486538065502,
          1.1897251832583948,
          1.1889546450175073,
          1.1881751513429617,
          1.1873869258337542,
          1.1865901880336733,
          1.1857851537568678,
          1.1849720353936257,
          1.1841510421969843,
          1.1833223805507507,
          1.182486254219541,
          1.181642864581434,
          1.1807924108438401,
          1.1799350902431738,
          1.1790710982289314,
          1.1782006286327544,
          1.1773238738230634,
          1.1764410248458366,
          1.1755522715521,
          1.174657802712699,
          1.1737578061208913,
          1.1728524686833142,
          1.171941976499858,
          1.171026514932975,
          1.1701062686669315,
          1.1691814217575163,
          1.1682521576726947,
          1.1673186593246971,
          1.1663811090940082,
          1.1654396888457275,
          1.1644945799387432,
          1.1635459632281664,
          1.1625940190614454,
          1.161638927268585,
          1.1606808671468674,
          1.1597200174404712,
          1.158756556315373,
          1.1577906613298938,
          1.1568225094012534,
          1.1558522767684767,
          1.15488013895199,
          1.1539062707102237,
          1.152930845993538,
          1.151954037895775,
          1.1509760186037123,
          1.149996959344712,
          1.1490170303328235,
          1.1480364007135928,
          1.147055238507827,
          1.146073710554549,
          1.1450919824533616,
          1.1441102185064327,
          1.14312858166031,
          1.142147233447751,
          1.141166333929752,
          1.140186041637951,
          1.1392065135175626,
          1.1382279048710024,
          1.13725036930234,
          1.1362740586627198,
          1.1352991229968736,
          1.1343257104908402,
          1.133353967421004,
          1.1323840381045513,
          1.1314160648514369,
          1.130450187917944,
          1.1294865454619216,
          1.1285252734997562,
          1.1275665058651545,
          1.1266103741697797,
          1.1256570077658035,
          1.124706533710403,
          1.1237590767322505,
          1.1228147592000177,
          1.121873701092925,
          1.1209360199733476,
          1.120001830961506,
          1.119071246712232,
          1.118144377393824,
          1.117221330668995,
          1.116302211677896,
          1.1153871230232162,
          1.1144761647573402,
          1.1135694343715512,
          1.1126670267872525,
          1.1117690343491875,
          1.1108755468206377,
          1.1099866513805519,
          1.1091024326225911,
          1.1082229725560513,
          1.1073483506086126,
          1.106478643630895,
          1.105613925902768,
          1.10475426914137,
          1.1038997425108033,
          1.1030504126334415,
          1.1022063436028202,
          1.1013675969980512,
          1.1005342318997093,
          1.0997063049071545,
          1.0988838701572168,
          1.0980669793442164,
          1.097255681741249,
          1.0964500242226909,
          1.0956500512878713,
          1.0948558050858594,
          1.0940673254413094,
          1.0932846498813187,
          1.092507813663239,
          1.0917368498033924,
          1.090971789106642,
          1.0902126601967619,
          1.0894594895475593,
          1.0887123015146998,
          1.0879711183681775,
          1.0872359603253994,
          1.0865068455848146,
          1.085783790360059,
          1.0850668089145592,
          1.0843559135965566,
          1.083651114874502,
          1.082952421372784,
          1.0822598399077408,
          1.0815733755239274,
          1.0808930315305816,
          1.0802188095382643,
          1.07955070949563,
          1.078888729726291,
          1.0782328669657422,
          1.0775831163983094,
          1.0769394716940937,
          1.0763019250458703,
          1.0756704672059243,
          1.0750450875227808,
          1.0744257739778118,
          1.0738125132216838,
          1.0732052906106289,
          1.0726040902425058,
          1.072008894992636,
          1.071419686549383,
          1.0708364454494612,
          1.0702591511129516,
          1.0696877818780008,
          1.0691223150351927,
          1.068562726861568,
          1.0680089926542817,
          1.0674610867638792,
          1.0669189826271788,
          1.0663826527997462,
          1.06585206898795,
          1.0653272020805857,
          1.0648080221800575,
          1.0642944986331095,
          1.0637866000610965,
          1.0632842943897862,
          1.0627875488786862,
          1.0622963301498891,
          1.0618106042164297,
          1.061330336510149,
          1.0608554919090625,
          1.0603860347642269,
          1.0599219289261015,
          1.0594631377704071,
          1.0590096242234721,
          1.0585613507870737,
          1.0581182795627657,
          1.0576803722756989,
          1.057247590297928,
          1.0568198946712126,
          1.056397246129308,
          1.0559796051197528,
          1.055566931825146,
          1.0551591861839287,
          1.054756327910665,
          1.0543583165158255,
          1.053965111325076,
          1.0535766714980874,
          1.0531929560468485,
          1.0528139238535088,
          1.0524395336877406,
          1.052069744223631,
          1.0517045140561117,
          1.0513438017169237,
          1.0509875656901309,
          1.050635764427185,
          1.0502883563615448,
          1.0499452999228587,
          1.049606553550719,
          1.049272075707989,
          1.0489418248937106,
          1.0486157596556036,
          1.048293838602157,
          1.0479760204143214,
          1.0476622638568105,
          1.0473525277890172,
          1.0470467711755513,
          1.0467449530964024,
          1.0464470327567437,
          1.0461529694963736,
          1.0458627227988069,
          1.045576252300022,
          1.0452935177968732,
          1.0450144792551683,
          1.0447390968174266,
          1.0444673308103172,
          1.0441991417517897,
          1.043934490357902,
          1.0436733375493479,
          1.0434156444577007,
          1.0431613724313697,
          1.0429104830412828,
          1.0426629380862962,
          1.0424186995983447,
          1.0421777298473325,
          1.0419399913457734,
          1.0417054468531879,
          1.041474059380262,
          1.0412457921927727,
          1.0410206088152893,
          1.040798473034654,
          1.040579348903248,
          1.0403632007420507,
          1.0401499931434954,
          1.0399396909741274,
          1.0397322593770726,
          1.03952766377432,
          1.0393258698688215,
          1.0391268436464192,
          1.038930551377602,
          1.038736959619095,
          1.0385460352152938,
          1.0383577452995385,
          1.038172057295241,
          1.0379889389168662,
          1.037808358170771,
          1.0376302833559101,
          1.0374546830644067,
          1.0372815261819963,
          1.0371107818883516,
          1.0369424196572818,
          1.0367764092568224,
          1.0366127207492117,
          1.0364513244907607,
          1.0362921911316203,
          1.0361352916154494,
          1.0359805971789862,
          1.0358280793515284,
          1.0356777099543253,
          1.0355294610998822,
          1.0353833051911858,
          1.03523921492085,
          1.0350971632701857,
          1.0349571235081978,
          1.0348190691905141,
          1.0346829741582475,
          1.0345488125367936,
          1.0344165587345688,
          1.0342861874416889,
          1.0341576736285927,
          1.0340309925446152,
          1.0339061197165043,
          1.0337830309468967,
          1.0336617023127428,
          1.033542110163691,
          1.0334242311204291,
          1.0333080420729888,
          1.0331935201790117,
          1.033080642861981,
          1.0329693878094206,
          1.032859732971062,
          1.032751656556985,
          1.0326451370357275,
          1.0325401531323724,
          1.0324366838266101,
          1.0323347083507781,
          1.032234206187881,
          1.032135157069591,
          1.0320375409742306,
          1.03194133812474,
          1.0318465289866285,
          1.0317530942659148,
          1.0316610149070518,
          1.0315702720908446,
          1.0314808472323571,
          1.031392721978808,
          1.031305878207464,
          1.0312202980235239,
          1.031135963757997,
          1.0310528579655818,
          1.0309709634225346,
          1.0308902631245436,
          1.0308107402845952,
          1.030732378330846,
          1.0306551609044887,
          1.0305790718576249,
          1.0305040952511377,
          1.0304302153525673,
          1.0303574166339893,
          1.0302856837698988,
          1.0302150016350997,
          1.0301453553025965,
          1.0300767300414966,
          1.0300091113149148,
          1.0299424847778897,
          1.0298768362753041,
          1.029812151839816,
          1.0297484176897975,
          1.0296856202272833,
          1.029623746035928,
          1.029562781878976,
          1.029502714697239,
          1.0294435316070871,
          1.0293852198984474,
          1.0293277670328198,
          1.0292711606412999,
          1.029215388522616,
          1.0291604386411788,
          1.029106299125144,
          1.0290529582644878,
          1.0290004045090948,
          1.0289486264668612,
          1.0288976129018113,
          1.0288473527322248,
          1.0287978350287856,
          1.0287490490127362,
          1.0287009840540526,
          1.0286536296696323,
          1.0286069755214953,
          1.0285610114150026,
          1.0285157272970886,
          1.0284711132545077,
          1.0284271595120977,
          1.0283838564310572,
          1.0283411945072396,
          1.0282991643694608,
          1.0282577567778253,
          1.0282169626220627,
          1.028176772919887,
          1.0281371788153641,
          1.0280981715773008,
          1.0280597425976448,
          1.0280218833899046,
          1.0279845855875815,
          1.0279478409426193,
          1.0279116413238687,
          1.027875978715568,
          1.0278408452158396,
          1.0278062330351996,
          1.0277721344950872,
          1.0277385420264058,
          1.0277054481680816,
          1.0276728455656368,
          1.027640726969778,
          1.027609085235001,
          1.027577913318211,
          1.0275472042773544,
          1.0275169512700704,
          1.027487147552356,
          1.0274577864772443,
          1.0274288614935008,
          1.02740036614433,
          1.0273722940661028,
          1.0273446389870926,
          1.0273173947262304,
          1.027290555191871,
          1.0272641143805767,
          1.0272380663759122,
          1.0272124053472576,
          1.0271871255486296,
          1.0271622213175233,
          1.0271376870737638,
          1.0271135173183716,
          1.0270897066324436,
          1.0270662496760476,
          1.0270431411871275,
          1.0270203759804244,
          1.0269979489464118,
          1.0269758550502401,
          1.026954089330698,
          1.0269326468991853,
          1.0269115229386976,
          1.026890712702825,
          1.026870211514764,
          1.0268500147663389,
          1.0268301179170392,
          1.026810516493066,
          1.026791206086394,
          1.026772182353842,
          1.026753441016157,
          1.0267349778571098,
          1.0267167887226045,
          1.0266988695197934,
          1.026681216216211,
          1.0266638248389133,
          1.0266466914736332,
          1.0266298122639403,
          1.0266131834104204,
          1.0265968011698576,
          1.0265806618544335,
          1.0265647618309317,
          1.0265490975199572,
          1.0265336653951642,
          1.0265184619824934,
          1.0265034838594207,
          1.0264887276542167,
          1.026474190045215,
          1.0264598677600865,
          1.0264457575751353,
          1.0264318563145878,
          1.0264181608499048,
          1.0264046680990975,
          1.0263913750260514,
          1.026378278639862,
          1.02636537599418,
          1.0263526641865626,
          1.0263401403578354,
          1.0263278016914648,
          1.0263156454129345,
          1.0263036687891347,
          1.0262918691277587,
          1.0262802437767062,
          1.026268790123497,
          1.0262575055946916,
          1.0262463876553194,
          1.0262354338083166,
          1.02622464159397,
          1.0262140085893705,
          1.0262035324078722,
          1.0261932106985603,
          1.0261830411457262,
          1.0261730214683509,
          1.0261631494195926,
          1.0261534227862856,
          1.0261438393884428,
          1.0261343970787686,
          1.0261250937421746,
          1.0261159272953064,
          1.0261068956860724,
          1.026097996893185,
          1.0260892289257022,
          1.0260805898225824,
          1.026072077652238,
          1.0260636905121014,
          1.026055426528195,
          1.0260472838547061,
          1.0260392606735722,
          1.026031355194064,
          1.0260235656523853,
          1.026015890311269,
          1.0260083274595846,
          1.0260008754119485,
          1.025993532508342,
          1.0259862971137328,
          1.0259791676177041,
          1.0259721424340875,
          1.0259652200006,
          1.0259583987784906,
          1.025951677252187,
          1.025945053928951,
          1.0259385273385366,
          1.0259320960328553,
          1.0259257585856436,
          1.0259195135921386,
          1.0259133596687535,
          1.0259072954527648,
          1.0259013196019962,
          1.0258954307945132,
          1.0258896277283203,
          1.0258839091210599,
          1.0258782737097203,
          1.0258727202503446,
          1.025867247517746,
          1.0258618543052231,
          1.0258565394242876,
          1.0258513017043853,
          1.0258461399926313,
          1.0258410531535411,
          1.025836040068772,
          1.025831099636863,
          1.0258262307729828,
          1.025821432408679,
          1.0258167034916308,
          1.0258120429854072,
          1.0258074498692278,
          1.025802923137727,
          1.0257984618007217,
          1.0257940648829824,
          1.0257897314240085,
          1.025785460477805,
          1.0257812511126654,
          1.0257771024109545,
          1.025773013468898,
          1.0257689833963721,
          1.0257650113166974,
          1.025761096366437,
          1.025757237695195,
          1.0257534344654207,
          1.025749685852215,
          1.0257459910431375,
          1.0257423492380204,
          1.0257387596487801,
          1.025735221499239,
          1.0257317340249401,
          1.025728296472974,
          1.0257249081018012,
          1.025721568181083,
          1.0257182759915098,
          1.0257150308246348,
          1.0257118319827094,
          1.0257086787785232,
          1.0257055705352405,
          1.0257025065862462,
          1.0256994862749906,
          1.0256965089548364,
          1.025693573988908,
          1.025690680749945,
          1.0256878286201554,
          1.0256850169910723,
          1.0256822452634125,
          1.0256795128469374,
          1.0256768191603165,
          1.0256741636309905,
          1.0256715456950403,
          1.0256689647970547,
          1.0256664203900014,
          1.0256639119351005,
          1.025661438901699,
          1.0256590007671473,
          1.0256565970166776,
          1.025654227143285,
          1.025651890647608,
          1.025649587037816,
          1.0256473158294896,
          1.0256450765455138,
          1.0256428687159624,
          1.0256406918779921,
          1.0256385455757326,
          1.0256364293601827,
          1.0256343427891046,
          1.025632285426921,
          1.0256302568446158,
          1.0256282566196315,
          1.0256262843357742,
          1.0256243395831146,
          1.0256224219578933,
          1.0256205310624287,
          1.025618666505022,
          1.0256168278998685,
          1.0256150148669665,
          1.02561322703203,
          1.0256114640264018,
          1.0256097254869676,
          1.0256080110560726,
          1.0256063203814363,
          1.0256046531160738,
          1.0256030089182133,
          1.0256013874512175,
          1.025599788383505,
          1.0255982113884756,
          1.025596656144431,
          1.025595122334503,
          1.02559360964658,
          1.0255921177732328,
          1.0255906464116458,
          1.0255891952635454,
          1.02558776403513,
          1.0255863524370057,
          1.0255849601841152,
          1.0255835869956744,
          1.025582232595106,
          1.025580896709977,
          1.0255795790719349,
          1.0255782794166453,
          1.025576997483731,
          1.0255757330167137,
          1.0255744857629514,
          1.0255732554735835,
          1.0255720419034706,
          1.0255708448111398,
          1.025569663958728,
          1.0255684991119274,
          1.025567350039932,
          1.0255662165153834,
          1.0255650983143187,
          1.0255639952161204,
          1.025562907003462,
          1.0255618334622634,
          1.025560774381636,
          1.025559729553838,
          1.0255586987742251,
          1.025557681841204,
          1.0255566785561863,
          1.025555688723541,
          1.0255547121505528,
          1.025553748647375,
          1.0255527980269878,
          1.0255518601051539,
          1.0255509347003775,
          1.0255500216338629,
          1.0255491207294711,
          1.0255482318136842,
          1.02554735471556,
          1.0255464892666963,
          1.025545635301193,
          1.025544792655612,
          1.0255439611689408,
          1.0255431406825564,
          1.0255423310401872,
          1.0255415320878793,
          1.0255407436739614,
          1.0255399656490085,
          1.0255391978658084,
          1.0255384401793302,
          1.025537692446688,
          1.025536954527111,
          1.0255362262819105,
          1.0255355075744483,
          1.0255347982701066,
          1.025534098236255,
          1.025533407342223,
          1.0255327254592697,
          1.0255320524605533,
          1.0255313882211043,
          1.025530732617796,
          1.0255300855293163,
          1.0255294468361418,
          1.0255288164205092,
          1.0255281941663892,
          1.0255275799594608,
          1.0255269736870847,
          1.0255263752382784,
          1.0255257845036911,
          1.0255252013755791,
          1.025524625747781,
          1.0255240575156952,
          1.0255234965762539,
          1.0255229428279027,
          1.0255223961705757,
          1.0255218565056752,
          1.0255213237360468,
          1.0255207977659588,
          1.0255202785010833,
          1.0255197658484696,
          1.0255192597165295,
          1.025518760015012,
          1.0255182666549854,
          1.0255177795488173,
          1.025517298610155,
          1.0255168237539054,
          1.025516354896217,
          1.0255158919544614,
          1.0255154348472124,
          1.0255149834942328,
          1.0255145378164514,
          1.0255140977359483,
          1.0255136631759376,
          1.0255132340607482,
          1.0255128103158107,
          1.025512391867637,
          1.0255119786438063,
          1.0255115705729487,
          1.02551116758473,
          1.0255107696098333,
          1.0255103765799487,
          1.0255099884277532,
          1.0255096050868997,
          1.0255092264919987,
          1.025508852578609,
          1.0255084832832173,
          1.0255081185432298,
          1.0255077582969556,
          1.0255074024835928,
          1.0255070510432174,
          1.025506703916768,
          1.0255063610460347,
          1.0255060223736439,
          1.0255056878430495,
          1.025505357398516,
          1.0255050309851113,
          1.0255047085486897,
          1.0255043900358844,
          1.0255040753940936,
          1.0255037645714693,
          1.0255034575169069,
          1.0255031541800328,
          1.0255028545111955,
          1.0255025584614517,
          1.0255022659825601,
          1.0255019770269662,
          1.0255016915477964,
          1.0255014094988437,
          1.0255011308345614,
          1.025500855510052,
          1.0255005834810564,
          1.0255003147039459,
          1.0255000491357118,
          1.0254997867339577,
          1.0254995274568883,
          1.0254992712633024,
          1.0254990181125827,
          1.0254987679646876,
          1.0254985207801437,
          1.0254982765200356,
          1.0254980351459984,
          1.02549779662021,
          1.0254975609053831,
          1.0254973279647555,
          1.0254970977620852,
          1.0254968702616405,
          1.0254966454281929,
          1.0254964232270105,
          1.0254962036238502,
          1.0254959865849496,
          1.0254957720770213,
          1.0254955600672446,
          1.025495350523261,
          1.0254951434131632,
          1.0254949387054928,
          1.025494736369231,
          1.025494536373794,
          1.0254943386890238,
          1.025494143285185,
          1.0254939501329563,
          1.025493759203427,
          1.0254935704680874,
          1.025493383898826,
          1.0254931994679224,
          1.0254930171480416,
          1.0254928369122285,
          1.0254926587339013,
          1.0254924825868488,
          1.0254923084452217,
          1.0254921362835292,
          1.0254919660766335,
          1.025491797799744,
          1.0254916314284133,
          1.0254914669385313,
          1.0254913043063203,
          1.0254911435083307,
          1.025490984521435,
          1.0254908273228258,
          1.0254906718900076,
          1.025490518200795,
          1.0254903662333061,
          1.0254902159659607,
          1.0254900673774734,
          1.0254899204468502,
          1.0254897751533845,
          1.0254896314766528,
          1.0254894893965112,
          1.025489348893089,
          1.0254892099467887,
          1.0254890725382777,
          1.025488936648488,
          1.02548880225861,
          1.0254886693500902,
          1.0254885379046264,
          1.025488407904166,
          1.0254882793308993,
          1.0254881521672585,
          1.0254880263959136,
          1.0254879019997685,
          1.0254877789619579,
          1.0254876572658442,
          1.0254875368950143,
          1.0254874178332753,
          1.0254873000646527,
          1.0254871835733868,
          1.0254870683439292,
          1.0254869543609393,
          1.0254868416092842,
          1.0254867300740313,
          1.025486619740449,
          1.0254865105940025,
          1.0254864026203505,
          1.0254862958053443,
          1.0254861901350214,
          1.0254860855956072,
          1.0254859821735094,
          1.0254858798553164,
          1.0254857786277949,
          1.025485678477886,
          1.0254855793927056,
          1.0254854813595382,
          1.0254853843658376,
          1.0254852883992227,
          1.025485193447476,
          1.0254850994985412,
          1.02548500654052,
          1.0254849145616713,
          1.025484823550408,
          1.0254847334952948,
          1.0254846443850472,
          1.0254845562085269,
          1.025484468954743,
          1.025484382612848,
          1.0254842971721345,
          1.0254842126220365,
          1.0254841289521248,
          1.0254840461521064,
          1.0254839642118214,
          1.0254838831212427,
          1.0254838028704725,
          1.0254837234497416,
          1.0254836448494073,
          1.025483567059952,
          1.0254834900719803,
          1.0254834138762179,
          1.0254833384635111,
          1.025483263824823,
          1.0254831899512329,
          1.0254831168339362,
          1.025483044464239,
          1.0254829728335608,
          1.0254829019334295,
          1.0254828317554823,
          1.0254827622914624,
          1.0254826935332195,
          1.0254826254727056,
          1.0254825581019769,
          1.0254824914131893,
          1.0254824253985986,
          1.0254823600505596,
          1.0254822953615226,
          1.0254822313240348
         ],
         "yaxis": "y"
        }
       ],
       "layout": {
        "height": 400,
        "legend": {
         "tracegroupgap": 0
        },
        "template": {
         "data": {
          "bar": [
           {
            "error_x": {
             "color": "#2a3f5f"
            },
            "error_y": {
             "color": "#2a3f5f"
            },
            "marker": {
             "line": {
              "color": "#E5ECF6",
              "width": 0.5
             },
             "pattern": {
              "fillmode": "overlay",
              "size": 10,
              "solidity": 0.2
             }
            },
            "type": "bar"
           }
          ],
          "barpolar": [
           {
            "marker": {
             "line": {
              "color": "#E5ECF6",
              "width": 0.5
             },
             "pattern": {
              "fillmode": "overlay",
              "size": 10,
              "solidity": 0.2
             }
            },
            "type": "barpolar"
           }
          ],
          "carpet": [
           {
            "aaxis": {
             "endlinecolor": "#2a3f5f",
             "gridcolor": "white",
             "linecolor": "white",
             "minorgridcolor": "white",
             "startlinecolor": "#2a3f5f"
            },
            "baxis": {
             "endlinecolor": "#2a3f5f",
             "gridcolor": "white",
             "linecolor": "white",
             "minorgridcolor": "white",
             "startlinecolor": "#2a3f5f"
            },
            "type": "carpet"
           }
          ],
          "choropleth": [
           {
            "colorbar": {
             "outlinewidth": 0,
             "ticks": ""
            },
            "type": "choropleth"
           }
          ],
          "contour": [
           {
            "colorbar": {
             "outlinewidth": 0,
             "ticks": ""
            },
            "colorscale": [
             [
              0,
              "#0d0887"
             ],
             [
              0.1111111111111111,
              "#46039f"
             ],
             [
              0.2222222222222222,
              "#7201a8"
             ],
             [
              0.3333333333333333,
              "#9c179e"
             ],
             [
              0.4444444444444444,
              "#bd3786"
             ],
             [
              0.5555555555555556,
              "#d8576b"
             ],
             [
              0.6666666666666666,
              "#ed7953"
             ],
             [
              0.7777777777777778,
              "#fb9f3a"
             ],
             [
              0.8888888888888888,
              "#fdca26"
             ],
             [
              1,
              "#f0f921"
             ]
            ],
            "type": "contour"
           }
          ],
          "contourcarpet": [
           {
            "colorbar": {
             "outlinewidth": 0,
             "ticks": ""
            },
            "type": "contourcarpet"
           }
          ],
          "heatmap": [
           {
            "colorbar": {
             "outlinewidth": 0,
             "ticks": ""
            },
            "colorscale": [
             [
              0,
              "#0d0887"
             ],
             [
              0.1111111111111111,
              "#46039f"
             ],
             [
              0.2222222222222222,
              "#7201a8"
             ],
             [
              0.3333333333333333,
              "#9c179e"
             ],
             [
              0.4444444444444444,
              "#bd3786"
             ],
             [
              0.5555555555555556,
              "#d8576b"
             ],
             [
              0.6666666666666666,
              "#ed7953"
             ],
             [
              0.7777777777777778,
              "#fb9f3a"
             ],
             [
              0.8888888888888888,
              "#fdca26"
             ],
             [
              1,
              "#f0f921"
             ]
            ],
            "type": "heatmap"
           }
          ],
          "heatmapgl": [
           {
            "colorbar": {
             "outlinewidth": 0,
             "ticks": ""
            },
            "colorscale": [
             [
              0,
              "#0d0887"
             ],
             [
              0.1111111111111111,
              "#46039f"
             ],
             [
              0.2222222222222222,
              "#7201a8"
             ],
             [
              0.3333333333333333,
              "#9c179e"
             ],
             [
              0.4444444444444444,
              "#bd3786"
             ],
             [
              0.5555555555555556,
              "#d8576b"
             ],
             [
              0.6666666666666666,
              "#ed7953"
             ],
             [
              0.7777777777777778,
              "#fb9f3a"
             ],
             [
              0.8888888888888888,
              "#fdca26"
             ],
             [
              1,
              "#f0f921"
             ]
            ],
            "type": "heatmapgl"
           }
          ],
          "histogram": [
           {
            "marker": {
             "pattern": {
              "fillmode": "overlay",
              "size": 10,
              "solidity": 0.2
             }
            },
            "type": "histogram"
           }
          ],
          "histogram2d": [
           {
            "colorbar": {
             "outlinewidth": 0,
             "ticks": ""
            },
            "colorscale": [
             [
              0,
              "#0d0887"
             ],
             [
              0.1111111111111111,
              "#46039f"
             ],
             [
              0.2222222222222222,
              "#7201a8"
             ],
             [
              0.3333333333333333,
              "#9c179e"
             ],
             [
              0.4444444444444444,
              "#bd3786"
             ],
             [
              0.5555555555555556,
              "#d8576b"
             ],
             [
              0.6666666666666666,
              "#ed7953"
             ],
             [
              0.7777777777777778,
              "#fb9f3a"
             ],
             [
              0.8888888888888888,
              "#fdca26"
             ],
             [
              1,
              "#f0f921"
             ]
            ],
            "type": "histogram2d"
           }
          ],
          "histogram2dcontour": [
           {
            "colorbar": {
             "outlinewidth": 0,
             "ticks": ""
            },
            "colorscale": [
             [
              0,
              "#0d0887"
             ],
             [
              0.1111111111111111,
              "#46039f"
             ],
             [
              0.2222222222222222,
              "#7201a8"
             ],
             [
              0.3333333333333333,
              "#9c179e"
             ],
             [
              0.4444444444444444,
              "#bd3786"
             ],
             [
              0.5555555555555556,
              "#d8576b"
             ],
             [
              0.6666666666666666,
              "#ed7953"
             ],
             [
              0.7777777777777778,
              "#fb9f3a"
             ],
             [
              0.8888888888888888,
              "#fdca26"
             ],
             [
              1,
              "#f0f921"
             ]
            ],
            "type": "histogram2dcontour"
           }
          ],
          "mesh3d": [
           {
            "colorbar": {
             "outlinewidth": 0,
             "ticks": ""
            },
            "type": "mesh3d"
           }
          ],
          "parcoords": [
           {
            "line": {
             "colorbar": {
              "outlinewidth": 0,
              "ticks": ""
             }
            },
            "type": "parcoords"
           }
          ],
          "pie": [
           {
            "automargin": true,
            "type": "pie"
           }
          ],
          "scatter": [
           {
            "fillpattern": {
             "fillmode": "overlay",
             "size": 10,
             "solidity": 0.2
            },
            "type": "scatter"
           }
          ],
          "scatter3d": [
           {
            "line": {
             "colorbar": {
              "outlinewidth": 0,
              "ticks": ""
             }
            },
            "marker": {
             "colorbar": {
              "outlinewidth": 0,
              "ticks": ""
             }
            },
            "type": "scatter3d"
           }
          ],
          "scattercarpet": [
           {
            "marker": {
             "colorbar": {
              "outlinewidth": 0,
              "ticks": ""
             }
            },
            "type": "scattercarpet"
           }
          ],
          "scattergeo": [
           {
            "marker": {
             "colorbar": {
              "outlinewidth": 0,
              "ticks": ""
             }
            },
            "type": "scattergeo"
           }
          ],
          "scattergl": [
           {
            "marker": {
             "colorbar": {
              "outlinewidth": 0,
              "ticks": ""
             }
            },
            "type": "scattergl"
           }
          ],
          "scattermapbox": [
           {
            "marker": {
             "colorbar": {
              "outlinewidth": 0,
              "ticks": ""
             }
            },
            "type": "scattermapbox"
           }
          ],
          "scatterpolar": [
           {
            "marker": {
             "colorbar": {
              "outlinewidth": 0,
              "ticks": ""
             }
            },
            "type": "scatterpolar"
           }
          ],
          "scatterpolargl": [
           {
            "marker": {
             "colorbar": {
              "outlinewidth": 0,
              "ticks": ""
             }
            },
            "type": "scatterpolargl"
           }
          ],
          "scatterternary": [
           {
            "marker": {
             "colorbar": {
              "outlinewidth": 0,
              "ticks": ""
             }
            },
            "type": "scatterternary"
           }
          ],
          "surface": [
           {
            "colorbar": {
             "outlinewidth": 0,
             "ticks": ""
            },
            "colorscale": [
             [
              0,
              "#0d0887"
             ],
             [
              0.1111111111111111,
              "#46039f"
             ],
             [
              0.2222222222222222,
              "#7201a8"
             ],
             [
              0.3333333333333333,
              "#9c179e"
             ],
             [
              0.4444444444444444,
              "#bd3786"
             ],
             [
              0.5555555555555556,
              "#d8576b"
             ],
             [
              0.6666666666666666,
              "#ed7953"
             ],
             [
              0.7777777777777778,
              "#fb9f3a"
             ],
             [
              0.8888888888888888,
              "#fdca26"
             ],
             [
              1,
              "#f0f921"
             ]
            ],
            "type": "surface"
           }
          ],
          "table": [
           {
            "cells": {
             "fill": {
              "color": "#EBF0F8"
             },
             "line": {
              "color": "white"
             }
            },
            "header": {
             "fill": {
              "color": "#C8D4E3"
             },
             "line": {
              "color": "white"
             }
            },
            "type": "table"
           }
          ]
         },
         "layout": {
          "annotationdefaults": {
           "arrowcolor": "#2a3f5f",
           "arrowhead": 0,
           "arrowwidth": 1
          },
          "autotypenumbers": "strict",
          "coloraxis": {
           "colorbar": {
            "outlinewidth": 0,
            "ticks": ""
           }
          },
          "colorscale": {
           "diverging": [
            [
             0,
             "#8e0152"
            ],
            [
             0.1,
             "#c51b7d"
            ],
            [
             0.2,
             "#de77ae"
            ],
            [
             0.3,
             "#f1b6da"
            ],
            [
             0.4,
             "#fde0ef"
            ],
            [
             0.5,
             "#f7f7f7"
            ],
            [
             0.6,
             "#e6f5d0"
            ],
            [
             0.7,
             "#b8e186"
            ],
            [
             0.8,
             "#7fbc41"
            ],
            [
             0.9,
             "#4d9221"
            ],
            [
             1,
             "#276419"
            ]
           ],
           "sequential": [
            [
             0,
             "#0d0887"
            ],
            [
             0.1111111111111111,
             "#46039f"
            ],
            [
             0.2222222222222222,
             "#7201a8"
            ],
            [
             0.3333333333333333,
             "#9c179e"
            ],
            [
             0.4444444444444444,
             "#bd3786"
            ],
            [
             0.5555555555555556,
             "#d8576b"
            ],
            [
             0.6666666666666666,
             "#ed7953"
            ],
            [
             0.7777777777777778,
             "#fb9f3a"
            ],
            [
             0.8888888888888888,
             "#fdca26"
            ],
            [
             1,
             "#f0f921"
            ]
           ],
           "sequentialminus": [
            [
             0,
             "#0d0887"
            ],
            [
             0.1111111111111111,
             "#46039f"
            ],
            [
             0.2222222222222222,
             "#7201a8"
            ],
            [
             0.3333333333333333,
             "#9c179e"
            ],
            [
             0.4444444444444444,
             "#bd3786"
            ],
            [
             0.5555555555555556,
             "#d8576b"
            ],
            [
             0.6666666666666666,
             "#ed7953"
            ],
            [
             0.7777777777777778,
             "#fb9f3a"
            ],
            [
             0.8888888888888888,
             "#fdca26"
            ],
            [
             1,
             "#f0f921"
            ]
           ]
          },
          "colorway": [
           "#636efa",
           "#EF553B",
           "#00cc96",
           "#ab63fa",
           "#FFA15A",
           "#19d3f3",
           "#FF6692",
           "#B6E880",
           "#FF97FF",
           "#FECB52"
          ],
          "font": {
           "color": "#2a3f5f"
          },
          "geo": {
           "bgcolor": "white",
           "lakecolor": "white",
           "landcolor": "#E5ECF6",
           "showlakes": true,
           "showland": true,
           "subunitcolor": "white"
          },
          "hoverlabel": {
           "align": "left"
          },
          "hovermode": "closest",
          "mapbox": {
           "style": "light"
          },
          "paper_bgcolor": "white",
          "plot_bgcolor": "#E5ECF6",
          "polar": {
           "angularaxis": {
            "gridcolor": "white",
            "linecolor": "white",
            "ticks": ""
           },
           "bgcolor": "#E5ECF6",
           "radialaxis": {
            "gridcolor": "white",
            "linecolor": "white",
            "ticks": ""
           }
          },
          "scene": {
           "xaxis": {
            "backgroundcolor": "#E5ECF6",
            "gridcolor": "white",
            "gridwidth": 2,
            "linecolor": "white",
            "showbackground": true,
            "ticks": "",
            "zerolinecolor": "white"
           },
           "yaxis": {
            "backgroundcolor": "#E5ECF6",
            "gridcolor": "white",
            "gridwidth": 2,
            "linecolor": "white",
            "showbackground": true,
            "ticks": "",
            "zerolinecolor": "white"
           },
           "zaxis": {
            "backgroundcolor": "#E5ECF6",
            "gridcolor": "white",
            "gridwidth": 2,
            "linecolor": "white",
            "showbackground": true,
            "ticks": "",
            "zerolinecolor": "white"
           }
          },
          "shapedefaults": {
           "line": {
            "color": "#2a3f5f"
           }
          },
          "ternary": {
           "aaxis": {
            "gridcolor": "white",
            "linecolor": "white",
            "ticks": ""
           },
           "baxis": {
            "gridcolor": "white",
            "linecolor": "white",
            "ticks": ""
           },
           "bgcolor": "#E5ECF6",
           "caxis": {
            "gridcolor": "white",
            "linecolor": "white",
            "ticks": ""
           }
          },
          "title": {
           "x": 0.05
          },
          "xaxis": {
           "automargin": true,
           "gridcolor": "white",
           "linecolor": "white",
           "ticks": "",
           "title": {
            "standoff": 15
           },
           "zerolinecolor": "white",
           "zerolinewidth": 2
          },
          "yaxis": {
           "automargin": true,
           "gridcolor": "white",
           "linecolor": "white",
           "ticks": "",
           "title": {
            "standoff": 15
           },
           "zerolinecolor": "white",
           "zerolinewidth": 2
          }
         }
        },
        "title": {
         "text": "Error Convergence with XOR gate"
        },
        "width": 800,
        "xaxis": {
         "anchor": "y",
         "domain": [
          0,
          1
         ],
         "title": {
          "text": "epochs"
         }
        },
        "yaxis": {
         "anchor": "x",
         "domain": [
          0,
          1
         ],
         "title": {
          "text": "errors"
         }
        }
       }
      }
     },
     "metadata": {},
     "output_type": "display_data"
    }
   ],
   "source": [
    "# plot the error values for XOR gate with Sigmoid function\n",
    "\n",
    "plot_graph(errors, 'Error Convergence with XOR gate')"
   ]
  },
  {
   "cell_type": "markdown",
   "metadata": {},
   "source": [
    "USING ReLU FUNCTION::"
   ]
  },
  {
   "cell_type": "code",
   "execution_count": 44,
   "metadata": {},
   "outputs": [],
   "source": [
    "# XOR Truth Table::\n",
    "training_inputs = np.array([[0, 0], [0, 1], [1, 0], [1, 1]])\n",
    "labels = np.array([0, 1, 1, 0]) # ReLU function\n",
    "\n",
    "initial_weights = [10, 0.2, -0.75]\n",
    "learning_rate = 0.05\n",
    "\n",
    "perceptron = Perceptron(num_inputs=3, learning_rate=learning_rate, initial_weights=initial_weights, activation_function='relu')\n",
    "training_inputs_with_bias = np.column_stack((np.ones(4), training_inputs))\n",
    "errors = perceptron.train(training_inputs_with_bias, labels)\n"
   ]
  },
  {
   "cell_type": "code",
   "execution_count": 45,
   "metadata": {},
   "outputs": [
    {
     "data": {
      "application/vnd.plotly.v1+json": {
       "config": {
        "plotlyServerURL": "https://plot.ly"
       },
       "data": [
        {
         "hovertemplate": "epochs=%{x}<br>errors=%{y}<extra></extra>",
         "legendgroup": "",
         "line": {
          "color": "#636efa",
          "dash": "solid"
         },
         "marker": {
          "symbol": "circle"
         },
         "mode": "lines",
         "name": "",
         "orientation": "v",
         "showlegend": false,
         "type": "scatter",
         "x": [
          1,
          2,
          3,
          4,
          5,
          6,
          7,
          8,
          9,
          10,
          11,
          12,
          13,
          14,
          15,
          16,
          17,
          18,
          19,
          20,
          21,
          22,
          23,
          24,
          25,
          26,
          27,
          28,
          29,
          30,
          31,
          32,
          33,
          34,
          35,
          36,
          37,
          38,
          39,
          40,
          41,
          42,
          43,
          44,
          45,
          46,
          47,
          48,
          49,
          50,
          51,
          52,
          53,
          54,
          55,
          56,
          57,
          58,
          59,
          60,
          61,
          62,
          63,
          64,
          65,
          66,
          67,
          68,
          69,
          70,
          71,
          72,
          73,
          74,
          75,
          76,
          77,
          78,
          79,
          80,
          81,
          82,
          83,
          84,
          85,
          86,
          87,
          88,
          89,
          90,
          91,
          92,
          93,
          94,
          95,
          96,
          97,
          98,
          99,
          100,
          101,
          102,
          103,
          104,
          105,
          106,
          107,
          108,
          109,
          110,
          111,
          112,
          113,
          114,
          115,
          116,
          117,
          118,
          119,
          120,
          121,
          122,
          123,
          124,
          125,
          126,
          127,
          128,
          129,
          130,
          131,
          132,
          133,
          134,
          135,
          136,
          137,
          138,
          139,
          140,
          141,
          142,
          143,
          144,
          145,
          146,
          147,
          148,
          149,
          150,
          151,
          152,
          153,
          154,
          155,
          156,
          157,
          158,
          159,
          160,
          161,
          162,
          163,
          164,
          165,
          166,
          167,
          168,
          169,
          170,
          171,
          172,
          173,
          174,
          175,
          176,
          177,
          178,
          179,
          180,
          181,
          182,
          183,
          184,
          185,
          186,
          187,
          188,
          189,
          190,
          191,
          192,
          193,
          194,
          195,
          196,
          197,
          198,
          199,
          200,
          201,
          202,
          203,
          204,
          205,
          206,
          207,
          208,
          209,
          210,
          211,
          212,
          213,
          214,
          215,
          216,
          217,
          218,
          219,
          220,
          221,
          222,
          223,
          224,
          225,
          226,
          227,
          228,
          229,
          230,
          231,
          232,
          233,
          234,
          235,
          236,
          237,
          238,
          239,
          240,
          241,
          242,
          243,
          244,
          245,
          246,
          247,
          248,
          249,
          250,
          251,
          252,
          253,
          254,
          255,
          256,
          257,
          258,
          259,
          260,
          261,
          262,
          263,
          264,
          265,
          266,
          267,
          268,
          269,
          270,
          271,
          272,
          273,
          274,
          275,
          276,
          277,
          278,
          279,
          280,
          281,
          282,
          283,
          284,
          285,
          286,
          287,
          288,
          289,
          290,
          291,
          292,
          293,
          294,
          295,
          296,
          297,
          298,
          299,
          300,
          301,
          302,
          303,
          304,
          305,
          306,
          307,
          308,
          309,
          310,
          311,
          312,
          313,
          314,
          315,
          316,
          317,
          318,
          319,
          320,
          321,
          322,
          323,
          324,
          325,
          326,
          327,
          328,
          329,
          330,
          331,
          332,
          333,
          334,
          335,
          336,
          337,
          338,
          339,
          340,
          341,
          342,
          343,
          344,
          345,
          346,
          347,
          348,
          349,
          350,
          351,
          352,
          353,
          354,
          355,
          356,
          357,
          358,
          359,
          360,
          361,
          362,
          363,
          364,
          365,
          366,
          367,
          368,
          369,
          370,
          371,
          372,
          373,
          374,
          375,
          376,
          377,
          378,
          379,
          380,
          381,
          382,
          383,
          384,
          385,
          386,
          387,
          388,
          389,
          390,
          391,
          392,
          393,
          394,
          395,
          396,
          397,
          398,
          399,
          400,
          401,
          402,
          403,
          404,
          405,
          406,
          407,
          408,
          409,
          410,
          411,
          412,
          413,
          414,
          415,
          416,
          417,
          418,
          419,
          420,
          421,
          422,
          423,
          424,
          425,
          426,
          427,
          428,
          429,
          430,
          431,
          432,
          433,
          434,
          435,
          436,
          437,
          438,
          439,
          440,
          441,
          442,
          443,
          444,
          445,
          446,
          447,
          448,
          449,
          450,
          451,
          452,
          453,
          454,
          455,
          456,
          457,
          458,
          459,
          460,
          461,
          462,
          463,
          464,
          465,
          466,
          467,
          468,
          469,
          470,
          471,
          472,
          473,
          474,
          475,
          476,
          477,
          478,
          479,
          480,
          481,
          482,
          483,
          484,
          485,
          486,
          487,
          488,
          489,
          490,
          491,
          492,
          493,
          494,
          495,
          496,
          497,
          498,
          499,
          500,
          501,
          502,
          503,
          504,
          505,
          506,
          507,
          508,
          509,
          510,
          511,
          512,
          513,
          514,
          515,
          516,
          517,
          518,
          519,
          520,
          521,
          522,
          523,
          524,
          525,
          526,
          527,
          528,
          529,
          530,
          531,
          532,
          533,
          534,
          535,
          536,
          537,
          538,
          539,
          540,
          541,
          542,
          543,
          544,
          545,
          546,
          547,
          548,
          549,
          550,
          551,
          552,
          553,
          554,
          555,
          556,
          557,
          558,
          559,
          560,
          561,
          562,
          563,
          564,
          565,
          566,
          567,
          568,
          569,
          570,
          571,
          572,
          573,
          574,
          575,
          576,
          577,
          578,
          579,
          580,
          581,
          582,
          583,
          584,
          585,
          586,
          587,
          588,
          589,
          590,
          591,
          592,
          593,
          594,
          595,
          596,
          597,
          598,
          599,
          600,
          601,
          602,
          603,
          604,
          605,
          606,
          607,
          608,
          609,
          610,
          611,
          612,
          613,
          614,
          615,
          616,
          617,
          618,
          619,
          620,
          621,
          622,
          623,
          624,
          625,
          626,
          627,
          628,
          629,
          630,
          631,
          632,
          633,
          634,
          635,
          636,
          637,
          638,
          639,
          640,
          641,
          642,
          643,
          644,
          645,
          646,
          647,
          648,
          649,
          650,
          651,
          652,
          653,
          654,
          655,
          656,
          657,
          658,
          659,
          660,
          661,
          662,
          663,
          664,
          665,
          666,
          667,
          668,
          669,
          670,
          671,
          672,
          673,
          674,
          675,
          676,
          677,
          678,
          679,
          680,
          681,
          682,
          683,
          684,
          685,
          686,
          687,
          688,
          689,
          690,
          691,
          692,
          693,
          694,
          695,
          696,
          697,
          698,
          699,
          700,
          701,
          702,
          703,
          704,
          705,
          706,
          707,
          708,
          709,
          710,
          711,
          712,
          713,
          714,
          715,
          716,
          717,
          718,
          719,
          720,
          721,
          722,
          723,
          724,
          725,
          726,
          727,
          728,
          729,
          730,
          731,
          732,
          733,
          734,
          735,
          736,
          737,
          738,
          739,
          740,
          741,
          742,
          743,
          744,
          745,
          746,
          747,
          748,
          749,
          750,
          751,
          752,
          753,
          754,
          755,
          756,
          757,
          758,
          759,
          760,
          761,
          762,
          763,
          764,
          765,
          766,
          767,
          768,
          769,
          770,
          771,
          772,
          773,
          774,
          775,
          776,
          777,
          778,
          779,
          780,
          781,
          782,
          783,
          784,
          785,
          786,
          787,
          788,
          789,
          790,
          791,
          792,
          793,
          794,
          795,
          796,
          797,
          798,
          799,
          800,
          801,
          802,
          803,
          804,
          805,
          806,
          807,
          808,
          809,
          810,
          811,
          812,
          813,
          814,
          815,
          816,
          817,
          818,
          819,
          820,
          821,
          822,
          823,
          824,
          825,
          826,
          827,
          828,
          829,
          830,
          831,
          832,
          833,
          834,
          835,
          836,
          837,
          838,
          839,
          840,
          841,
          842,
          843,
          844,
          845,
          846,
          847,
          848,
          849,
          850,
          851,
          852,
          853,
          854,
          855,
          856,
          857,
          858,
          859,
          860,
          861,
          862,
          863,
          864,
          865,
          866,
          867,
          868,
          869,
          870,
          871,
          872,
          873,
          874,
          875,
          876,
          877,
          878,
          879,
          880,
          881,
          882,
          883,
          884,
          885,
          886,
          887,
          888,
          889,
          890,
          891,
          892,
          893,
          894,
          895,
          896,
          897,
          898,
          899,
          900,
          901,
          902,
          903,
          904,
          905,
          906,
          907,
          908,
          909,
          910,
          911,
          912,
          913,
          914,
          915,
          916,
          917,
          918,
          919,
          920,
          921,
          922,
          923,
          924,
          925,
          926,
          927,
          928,
          929,
          930,
          931,
          932,
          933,
          934,
          935,
          936,
          937,
          938,
          939,
          940,
          941,
          942,
          943,
          944,
          945,
          946,
          947,
          948,
          949,
          950,
          951,
          952,
          953,
          954,
          955,
          956,
          957,
          958,
          959,
          960,
          961,
          962,
          963,
          964,
          965,
          966,
          967,
          968,
          969,
          970,
          971,
          972,
          973,
          974,
          975,
          976,
          977,
          978,
          979,
          980,
          981,
          982,
          983,
          984,
          985,
          986,
          987,
          988,
          989,
          990,
          991,
          992,
          993,
          994,
          995,
          996,
          997,
          998,
          999,
          1000
         ],
         "xaxis": "x",
         "y": [
          283.0908203125,
          157.2505938631075,
          92.09627513256125,
          57.964621560759056,
          39.74327123816157,
          29.71843381461577,
          23.672545869494186,
          19.464899434963236,
          16.507087449977497,
          14.400432222536542,
          12.874683642359136,
          11.746541857883011,
          10.89159043527633,
          10.225301682684597,
          9.690179687470652,
          9.247056123613802,
          8.86919610242531,
          8.538305722527669,
          8.241826791468654,
          7.971102935474115,
          7.720135754562132,
          7.4847406275461426,
          7.261973299983272,
          7.049740017245536,
          6.846532133131224,
          6.651245186648004,
          6.4630553413790235,
          6.281334815629387,
          6.105593845111065,
          5.93544072499232,
          5.770554191513858,
          5.610664242366187,
          5.455538741993385,
          5.30497400401443,
          5.158788117354921,
          5.016816172998806,
          4.878906813770125,
          4.7449197103778396,
          4.614723690293346,
          4.488195330308015,
          4.365217881330612,
          4.245680433607265,
          4.129477257833381,
          4.016507276486222,
          3.906673632797093,
          3.799883333913183,
          3.6960469512050196,
          3.595078365199166,
          3.496894545834026,
          3.4014153610452307,
          3.3085634083583013,
          3.218263865388111,
          3.130444356047435,
          3.0450348299412853,
          2.961967452933238,
          2.881176507259381,
          2.802598299866509,
          2.7261710778864128,
          2.651834950343905,
          2.579531815344463,
          2.509205292106714,
          2.440800657301966,
          2.3742647852423757,
          2.309546091524811,
          2.246594479791873,
          2.1853612913169314,
          2.1257992571582074,
          2.0678624526591802,
          2.0115062540998974,
          1.9566872973271245,
          1.9034537817151975,
          1.8532018369105023,
          1.8065227927112235,
          1.762928588587038,
          1.7221115096789554,
          1.6838525334366745,
          1.6479771480280332,
          1.6143344190940694,
          1.5827872889329353,
          1.5532081980114365,
          1.5254771566163812,
          1.4994808949283929,
          1.475112453287276,
          1.452270927677892,
          1.4308612518869246,
          1.4107939735420385,
          1.391985013819009,
          1.3743554131733131,
          1.3578310691688227,
          1.3423424725762656,
          1.3278244467721514,
          1.3142158940969906,
          1.3014595516128287,
          1.2895017577403574,
          1.2782922305491946,
          1.2677838579779541,
          1.2579324999242545,
          1.2486968019255988,
          1.2400380200157946,
          1.2319198562627018,
          1.2243083044530858,
          1.217171505376113,
          1.21047961115961,
          1.2042046581263133,
          1.1983204476568692,
          1.1928024345694745,
          1.1876276225509397,
          1.182774466199392,
          1.178222779264128,
          1.1739536486926672,
          1.169949354118732,
          1.1661932924473903,
          1.1626699072149649,
          1.1593646224214886,
          1.1562637805524782,
          1.1533545845246596,
          1.1506250433070422,
          1.1480639209844792,
          1.1456606890455783,
          1.143405481690672,
          1.1412890539684863,
          1.1393027425622864,
          1.137438429057643,
          1.1356885055345936,
          1.1340458423369568,
          1.1325037578808765,
          1.1310559903734343,
          1.129696671320332,
          1.1284203007093487,
          1.1272217237634237,
          1.126096109163968,
          1.1250389286513005,
          1.124045937914999,
          1.1231131586924958,
          1.1222368619994083,
          1.121413552419954,
          1.1206399533903386,
          1.1199129934122487,
          1.1192297931375803,
          1.1185876532692454,
          1.1179840432264092,
          1.1174165905257771,
          1.1168830708336053,
          1.116381398646004,
          1.1159096185577617,
          1.1154658970824627,
          1.115048514989011,
          1.1146558601218928,
          1.1142864206745768,
          1.1139387788873867,
          1.1136116051429974,
          1.113303652434412,
          1.113013751181856,
          1.112740804376533,
          1.1124837830305685,
          1.112241721913789,
          1.1120137155592003,
          1.1117989145201779,
          1.1115965218634707,
          1.1114057898830996,
          1.1112260170212078,
          1.1110565449827756,
          1.1108967560319591,
          1.1107460704585748,
          1.1106039442039877,
          1.110469866636334,
          1.1103433584656481,
          1.110223969790062,
          1.1101112782648028,
          1.1100048873862374,
          1.1099044248837031,
          1.1098095412123237,
          1.1097199081404399,
          1.1096352174256845,
          1.1095551795741165,
          1.1094795226771668,
          1.109407991321501,
          1.1093403455671966,
          1.1092763599899294,
          1.109215822783138,
          1.1091585349163857,
          1.1091043093463846,
          1.1090529702773577,
          1.1090043524676427,
          1.1089583005796182,
          1.1089146685702331,
          1.1088733191195783,
          1.108834123095114,
          1.1087969590493074,
          1.1087617127485816,
          1.1087282767316045,
          1.108696549895082,
          1.10866643710532,
          1.1086378488339412,
          1.1086107008162416,
          1.1085849137307624,
          1.1085604128987505,
          1.1085371280022567,
          1.108514992819705,
          1.1084939449778433,
          1.1084739257190375,
          1.1084548796829594,
          1.1084367547017653,
          1.1084195016079148,
          1.1084030740538502,
          1.1083874283427844,
          1.1083725232699089,
          1.108358319973375,
          1.1083447817944272,
          1.108331874146129,
          1.1083195643901398,
          1.1083078217210391,
          1.1082966170577375,
          1.1082859229415196,
          1.1082757134403183,
          1.1082659640588264,
          1.1082566516540855,
          1.1082477543562113,
          1.1082392514939352,
          1.1082311235246676,
          1.1082233519687972,
          1.10821591934797,
          1.108208809127096,
          1.1082020056598567,
          1.1081954941374985,
          1.1081892605407029,
          1.1081832915943508,
          1.1081775747250004,
          1.108172098020907,
          1.1081668501944366,
          1.108161820546719,
          1.1081569989344082,
          1.108152375738416,
          1.1081479418345017,
          1.1081436885656037,
          1.1081396077158054,
          1.1081356914858365,
          1.1081319324700136,
          1.108128323634539,
          1.108124858297065,
          1.1081215301074592,
          1.1081183330296842,
          1.1081152613247367,
          1.1081123095345733,
          1.1081094724669698,
          1.108106745181248,
          1.1081041229748334,
          1.1081016013705758,
          1.1080991761048016,
          1.108096843116045,
          1.1080945985344235,
          1.108092438671613,
          1.1080903600113914,
          1.1080883592007185,
          1.1080864330413116,
          1.108084578481698,
          1.1080827926097099,
          1.1080810726453953,
          1.1080794159343272,
          1.108077819941275,
          1.1080762822442312,
          1.1080748005287633,
          1.1080733725826737,
          1.1080719962909513,
          1.1080706696309988,
          1.1080693906681132,
          1.108068157551215,
          1.1080669685088032,
          1.1080658218451263,
          1.108064715936558,
          1.1080636492281637,
          1.10806262023045,
          1.1080616275162807,
          1.108060669717959,
          1.1080597455244576,
          1.1080588536787936,
          1.1080579929755388,
          1.1080571622584574,
          1.108056360418264,
          1.1080555863904968,
          1.1080548391534957,
          1.1080541177264862,
          1.1080534211677533,
          1.1080527485729135,
          1.1080520990732656,
          1.108051471834229,
          1.1080508660538508,
          1.1080502809613966,
          1.1080497158159983,
          1.1080491699053752,
          1.1080486425446125,
          1.1080481330750005,
          1.1080476408629267,
          1.108047165298822,
          1.1080467057961558,
          1.1080462617904783,
          1.1080458327385063,
          1.108045418117253,
          1.1080450174231968,
          1.1080446301714875,
          1.1080442558951906,
          1.1080438941445634,
          1.1080435444863652,
          1.1080432065031987,
          1.1080428797928785,
          1.1080425639678304,
          1.1080422586545144,
          1.1080419634928769,
          1.1080416781358204,
          1.108041402248703,
          1.1080411355088553,
          1.1080408776051194,
          1.1080406282374062,
          1.108040387116274,
          1.1080401539625222,
          1.1080399285068039,
          1.1080397104892539,
          1.1080394996591312,
          1.1080392957744796,
          1.1080390986017967,
          1.1080389079157227,
          1.1080387234987366,
          1.108038545140868,
          1.1080383726394203,
          1.1080382057987008,
          1.10803804442977,
          1.108037888350189,
          1.108037737383791,
          1.1080375913604485,
          1.1080374501158594,
          1.1080373134913344,
          1.1080371813335983,
          1.108037053494596,
          1.1080369298313049,
          1.1080368102055573,
          1.1080366944838689,
          1.108036582537272,
          1.108036474241156,
          1.1080363694751163,
          1.1080362681228042,
          1.108036170071786,
          1.108036075213407,
          1.1080359834426587,
          1.1080358946580526,
          1.1080358087614974,
          1.1080357256581832,
          1.108035645256466,
          1.1080355674677596,
          1.1080354922064308,
          1.1080354193896977,
          1.108035348937531,
          1.1080352807725606,
          1.108035214819986,
          1.1080351510074868,
          1.1080350892651385,
          1.1080350295253325,
          1.1080349717226965,
          1.1080349157940181,
          1.1080348616781732,
          1.108034809316055,
          1.108034758650505,
          1.1080347096262484,
          1.1080346621898312,
          1.1080346162895576,
          1.1080345718754314,
          1.1080345288991003,
          1.1080344873137995,
          1.1080344470742998,
          1.108034408136854,
          1.1080343704591504,
          1.1080343340002643,
          1.108034298720609,
          1.108034264581896,
          1.108034231547088,
          1.1080341995803584,
          1.1080341686470532,
          1.1080341387136485,
          1.1080341097477167,
          1.1080340817178884,
          1.108034054593816,
          1.1080340283461445,
          1.1080340029464735,
          1.108033978367329,
          1.1080339545821318,
          1.108033931565169,
          1.1080339092915636,
          1.108033887737249,
          1.1080338668789411,
          1.1080338466941129,
          1.1080338271609709,
          1.1080338082584285,
          1.1080337899660848,
          1.1080337722642017,
          1.108033755133683,
          1.1080337385560508,
          1.108033722513428,
          1.1080337069885173,
          1.1080336919645828,
          1.1080336774254311,
          1.1080336633553944,
          1.1080336497393128,
          1.108033636562518,
          1.1080336238108164,
          1.108033611470474,
          1.1080335995282038,
          1.1080335879711467,
          1.1080335767868617,
          1.1080335659633096,
          1.1080335554888419,
          1.1080335453521866,
          1.1080335355424364,
          1.1080335260490373,
          1.1080335168617765,
          1.1080335079707715,
          1.10803349936646,
          1.1080334910395884,
          1.1080334829812029,
          1.1080334751826384,
          1.1080334676355104,
          1.1080334603317055,
          1.1080334532633724,
          1.1080334464229133,
          1.1080334398029772,
          1.1080334333964488,
          1.1080334271964436,
          1.1080334211962997,
          1.10803341538957,
          1.1080334097700155,
          1.1080334043315994,
          1.108033399068479,
          1.1080333939750011,
          1.1080333890456948,
          1.1080333842752648,
          1.1080333796585884,
          1.1080333751907072,
          1.1080333708668235,
          1.1080333666822935,
          1.1080333626326242,
          1.1080333587134672,
          1.108033354920615,
          1.1080333512499942,
          1.1080333476976656,
          1.1080333442598145,
          1.1080333409327505,
          1.1080333377129024,
          1.1080333345968136,
          1.108033331581139,
          1.1080333286626427,
          1.1080333258381914,
          1.1080333231047539,
          1.108033320459396,
          1.1080333178992794,
          1.1080333154216562,
          1.1080333130238675,
          1.1080333107033407,
          1.1080333084575853,
          1.1080333062841912,
          1.1080333041808261,
          1.1080333021452335,
          1.1080333001752292,
          1.1080332982686993,
          1.1080332964235984,
          1.1080332946379463,
          1.1080332929098275,
          1.1080332912373883,
          1.1080332896188336,
          1.108033288052428,
          1.10803328653649,
          1.1080332850693937,
          1.1080332836495652,
          1.108033282275482,
          1.1080332809456688,
          1.1080332796587,
          1.1080332784131945,
          1.108033277207817,
          1.1080332760412737,
          1.1080332749123136,
          1.1080332738197256,
          1.108033272762338,
          1.1080332717390162,
          1.108033270748663,
          1.1080332697902162,
          1.1080332688626473,
          1.1080332679649616,
          1.108033267096196,
          1.1080332662554195,
          1.1080332654417298,
          1.108033264654254,
          1.1080332638921473,
          1.108033263154593,
          1.1080332624408,
          1.1080332617500024,
          1.1080332610814596,
          1.1080332604344543,
          1.1080332598082925,
          1.108033259202303,
          1.1080332586158361,
          1.1080332580482624,
          1.1080332574989733,
          1.1080332569673796,
          1.1080332564529116,
          1.108033255955017,
          1.1080332554731624,
          1.1080332550068308,
          1.1080332545555223,
          1.1080332541187523,
          1.108033253696053,
          1.108033253286971,
          1.1080332528910675,
          1.108033252507918,
          1.1080332521371115,
          1.1080332517782505,
          1.10803325143095,
          1.1080332510948379,
          1.1080332507695532,
          1.1080332504547474,
          1.1080332501500834,
          1.1080332498552339,
          1.1080332495698824,
          1.1080332492937233,
          1.1080332490264608,
          1.1080332487678082,
          1.1080332485174877,
          1.1080332482752309,
          1.1080332480407782,
          1.1080332478138786,
          1.1080332475942882,
          1.1080332473817718,
          1.1080332471761014,
          1.1080332469770564,
          1.1080332467844236,
          1.1080332465979963,
          1.1080332464175746,
          1.1080332462429647,
          1.1080332460739801,
          1.108033245910439,
          1.1080332457521662,
          1.108033245598992,
          1.1080332454507524,
          1.1080332453072876,
          1.108033245168445,
          1.1080332450340746,
          1.1080332449040333,
          1.1080332447781807,
          1.1080332446563823,
          1.1080332445385077,
          1.1080332444244303,
          1.1080332443140277,
          1.1080332442071816,
          1.1080332441037775,
          1.1080332440037042,
          1.1080332439068548,
          1.108033243813125,
          1.108033243722415,
          1.108033243634627,
          1.1080332435496671,
          1.1080332434674438,
          1.1080332433878695,
          1.1080332433108584,
          1.108033243236328,
          1.1080332431641988,
          1.108033243094393,
          1.1080332430268358,
          1.1080332429614552,
          1.1080332428981803,
          1.108033242836944,
          1.1080332427776804,
          1.1080332427203254,
          1.1080332426648187,
          1.1080332426110995,
          1.108033242559111,
          1.1080332425087975,
          1.1080332424601045,
          1.10803324241298,
          1.1080332423673738,
          1.1080332423232366,
          1.1080332422805217,
          1.1080332422391819,
          1.1080332421991745,
          1.1080332421604553,
          1.1080332421229842,
          1.1080332420867194,
          1.108033242051623,
          1.1080332420176575,
          1.1080332419847858,
          1.1080332419529733,
          1.1080332419221854,
          1.1080332418923893,
          1.1080332418635532,
          1.1080332418356458,
          1.1080332418086376,
          1.1080332417824992,
          1.108033241757203,
          1.1080332417327217,
          1.1080332417090288,
          1.1080332416860992,
          1.1080332416639083,
          1.1080332416424326,
          1.1080332416216483,
          1.1080332416015333,
          1.1080332415820666,
          1.108033241563227,
          1.1080332415449945,
          1.108033241527349,
          1.108033241510272,
          1.1080332414937453,
          1.1080332414777507,
          1.1080332414622711,
          1.1080332414472909,
          1.1080332414327927,
          1.1080332414187617,
          1.1080332414051828,
          1.1080332413920413,
          1.108033241379323,
          1.1080332413670144,
          1.1080332413551024,
          1.1080332413435738,
          1.1080332413324172,
          1.1080332413216194,
          1.10803324131117,
          1.108033241301057,
          1.1080332412912692,
          1.1080332412817975,
          1.1080332412726304,
          1.1080332412637586,
          1.1080332412551732,
          1.108033241246864,
          1.108033241238822,
          1.1080332412310399,
          1.1080332412235079,
          1.1080332412162188,
          1.1080332412091642,
          1.108033241202337,
          1.1080332411957299,
          1.1080332411893357,
          1.108033241183147,
          1.108033241177158,
          1.108033241171362,
          1.1080332411657525,
          1.1080332411603238,
          1.10803324115507,
          1.1080332411499856,
          1.1080332411450646,
          1.1080332411403024,
          1.1080332411356935,
          1.108033241131233,
          1.1080332411269165,
          1.108033241122739,
          1.1080332411186955,
          1.1080332411147826,
          1.1080332411109963,
          1.1080332411073313,
          1.1080332411037845,
          1.108033241100352,
          1.1080332410970302,
          1.1080332410938152,
          1.108033241090704,
          1.1080332410876927,
          1.1080332410847786,
          1.1080332410819584,
          1.108033241079229,
          1.1080332410765874,
          1.1080332410740312,
          1.1080332410715572,
          1.1080332410691627,
          1.1080332410668459,
          1.108033241064603,
          1.1080332410624327,
          1.1080332410603324,
          1.1080332410582994,
          1.1080332410563325,
          1.1080332410544282,
          1.108033241052586,
          1.1080332410508027,
          1.1080332410490767,
          1.1080332410474067,
          1.1080332410457905,
          1.1080332410442262,
          1.1080332410427123,
          1.108033241041247,
          1.1080332410398293,
          1.1080332410384568,
          1.108033241037129,
          1.1080332410358436,
          1.1080332410345997,
          1.1080332410333955,
          1.1080332410322307,
          1.1080332410311033,
          1.108033241030012,
          1.1080332410289562,
          1.1080332410279339,
          1.108033241026945,
          1.1080332410259879,
          1.1080332410250615,
          1.108033241024165,
          1.1080332410232971,
          1.1080332410224574,
          1.1080332410216447,
          1.1080332410208582,
          1.108033241020097,
          1.1080332410193603,
          1.1080332410186475,
          1.1080332410179579,
          1.10803324101729,
          1.1080332410166436,
          1.1080332410160183,
          1.108033241015413,
          1.1080332410148275,
          1.1080332410142604,
          1.1080332410137121,
          1.108033241013181,
          1.1080332410126672,
          1.10803324101217,
          1.1080332410116887,
          1.1080332410112226,
          1.108033241010772,
          1.1080332410103357,
          1.1080332410099138,
          1.108033241009505,
          1.1080332410091094,
          1.108033241008727,
          1.1080332410083567,
          1.108033241007998,
          1.1080332410076512,
          1.1080332410073157,
          1.1080332410069906,
          1.1080332410066762,
          1.108033241006372,
          1.1080332410060776,
          1.1080332410057927,
          1.1080332410055167,
          1.1080332410052498,
          1.1080332410049913,
          1.1080332410047413,
          1.1080332410044993,
          1.108033241004265,
          1.1080332410040383,
          1.108033241003819,
          1.1080332410036067,
          1.1080332410034015,
          1.1080332410032026,
          1.1080332410030103,
          1.1080332410028242,
          1.1080332410026439,
          1.1080332410024694,
          1.1080332410023004,
          1.1080332410021374,
          1.1080332410019793,
          1.1080332410018263,
          1.1080332410016782,
          1.108033241001535,
          1.108033241001396,
          1.1080332410012619,
          1.1080332410011318,
          1.1080332410010063,
          1.1080332410008848,
          1.108033241000767,
          1.108033241000653,
          1.108033241000543,
          1.1080332410004363,
          1.1080332410003328,
          1.1080332410002327,
          1.1080332410001363,
          1.1080332410000424,
          1.1080332409999518,
          1.1080332409998643,
          1.1080332409997793,
          1.1080332409996971,
          1.1080332409996179,
          1.1080332409995408,
          1.1080332409994664,
          1.1080332409993943,
          1.1080332409993245,
          1.108033240999257,
          1.1080332409991918,
          1.1080332409991287,
          1.1080332409990676,
          1.1080332409990084,
          1.108033240998951,
          1.1080332409988958,
          1.108033240998842,
          1.10803324099879,
          1.1080332409987397,
          1.108033240998691,
          1.108033240998644,
          1.1080332409985985,
          1.1080332409985543,
          1.1080332409985119,
          1.1080332409984708,
          1.1080332409984304,
          1.108033240998392,
          1.1080332409983542,
          1.108033240998318,
          1.1080332409982832,
          1.1080332409982492,
          1.1080332409982163,
          1.1080332409981848,
          1.1080332409981537,
          1.108033240998124,
          1.108033240998095,
          1.1080332409980673,
          1.1080332409980405,
          1.1080332409980143,
          1.108033240997989,
          1.1080332409979645,
          1.1080332409979408,
          1.108033240997918,
          1.1080332409978957,
          1.1080332409978744,
          1.108033240997854,
          1.1080332409978335,
          1.1080332409978142,
          1.108033240997795,
          1.1080332409977771,
          1.1080332409977593,
          1.1080332409977423,
          1.1080332409977258,
          1.10803324099771,
          1.1080332409976943,
          1.1080332409976794,
          1.1080332409976648,
          1.1080332409976508,
          1.1080332409976372,
          1.1080332409976243,
          1.1080332409976115,
          1.1080332409975993,
          1.1080332409975873,
          1.108033240997576,
          1.1080332409975648,
          1.108033240997554,
          1.1080332409975437,
          1.1080332409975335,
          1.1080332409975235,
          1.108033240997514,
          1.108033240997505,
          1.1080332409974962,
          1.1080332409974876,
          1.1080332409974791,
          1.1080332409974711,
          1.1080332409974636,
          1.108033240997456,
          1.1080332409974487,
          1.1080332409974416,
          1.1080332409974347,
          1.108033240997428,
          1.1080332409974218,
          1.1080332409974154,
          1.1080332409974096,
          1.1080332409974036,
          1.1080332409973983,
          1.1080332409973925,
          1.1080332409973876,
          1.1080332409973823,
          1.1080332409973777,
          1.1080332409973728,
          1.1080332409973683,
          1.1080332409973637,
          1.1080332409973594,
          1.1080332409973552,
          1.1080332409973512,
          1.1080332409973472,
          1.1080332409973435,
          1.1080332409973397,
          1.1080332409973364,
          1.108033240997333,
          1.1080332409973297,
          1.1080332409973264,
          1.1080332409973233,
          1.1080332409973201,
          1.1080332409973175,
          1.1080332409973146,
          1.108033240997312,
          1.108033240997309,
          1.1080332409973068,
          1.1080332409973042,
          1.1080332409973017,
          1.1080332409972993,
          1.1080332409972973,
          1.108033240997295,
          1.1080332409972928,
          1.1080332409972908,
          1.1080332409972888,
          1.108033240997287,
          1.108033240997285,
          1.1080332409972835,
          1.1080332409972815,
          1.10803324099728,
          1.1080332409972784,
          1.1080332409972768,
          1.1080332409972753,
          1.108033240997274,
          1.1080332409972726,
          1.108033240997271,
          1.10803324099727,
          1.1080332409972686,
          1.1080332409972673,
          1.1080332409972657,
          1.1080332409972649,
          1.1080332409972635,
          1.1080332409972626,
          1.1080332409972615,
          1.1080332409972606,
          1.1080332409972593,
          1.1080332409972586,
          1.1080332409972575,
          1.108033240997257,
          1.108033240997256,
          1.108033240997255,
          1.1080332409972544,
          1.1080332409972535,
          1.1080332409972526,
          1.108033240997252,
          1.1080332409972513,
          1.1080332409972506,
          1.1080332409972502,
          1.1080332409972493,
          1.1080332409972486,
          1.108033240997248,
          1.1080332409972478,
          1.1080332409972469,
          1.1080332409972462,
          1.1080332409972458,
          1.1080332409972453,
          1.1080332409972447,
          1.1080332409972444,
          1.108033240997244,
          1.1080332409972435,
          1.108033240997243,
          1.1080332409972427,
          1.108033240997242,
          1.1080332409972418,
          1.1080332409972413,
          1.108033240997241,
          1.1080332409972407,
          1.1080332409972402,
          1.10803324099724,
          1.1080332409972398,
          1.1080332409972393,
          1.108033240997239,
          1.1080332409972387,
          1.1080332409972384,
          1.1080332409972382,
          1.108033240997238,
          1.1080332409972375,
          1.1080332409972373,
          1.108033240997237,
          1.108033240997237,
          1.1080332409972367,
          1.1080332409972367,
          1.1080332409972362,
          1.1080332409972362,
          1.108033240997236,
          1.1080332409972358,
          1.1080332409972355,
          1.1080332409972355,
          1.108033240997235,
          1.1080332409972349,
          1.1080332409972347,
          1.1080332409972349,
          1.1080332409972347,
          1.1080332409972344,
          1.1080332409972344,
          1.1080332409972338,
          1.108033240997234,
          1.1080332409972338,
          1.1080332409972335,
          1.1080332409972335,
          1.1080332409972333,
          1.1080332409972333,
          1.1080332409972335,
          1.1080332409972333,
          1.108033240997233,
          1.1080332409972329,
          1.1080332409972327,
          1.1080332409972327,
          1.1080332409972327,
          1.1080332409972327,
          1.1080332409972322,
          1.1080332409972324,
          1.1080332409972324,
          1.1080332409972324,
          1.108033240997232,
          1.108033240997232,
          1.108033240997232,
          1.1080332409972318,
          1.108033240997232,
          1.1080332409972318,
          1.1080332409972318,
          1.1080332409972318,
          1.1080332409972318,
          1.1080332409972318,
          1.1080332409972315,
          1.1080332409972313,
          1.1080332409972313,
          1.1080332409972313,
          1.1080332409972313,
          1.1080332409972313,
          1.1080332409972313,
          1.1080332409972313,
          1.108033240997231
         ],
         "yaxis": "y"
        }
       ],
       "layout": {
        "height": 400,
        "legend": {
         "tracegroupgap": 0
        },
        "template": {
         "data": {
          "bar": [
           {
            "error_x": {
             "color": "#2a3f5f"
            },
            "error_y": {
             "color": "#2a3f5f"
            },
            "marker": {
             "line": {
              "color": "#E5ECF6",
              "width": 0.5
             },
             "pattern": {
              "fillmode": "overlay",
              "size": 10,
              "solidity": 0.2
             }
            },
            "type": "bar"
           }
          ],
          "barpolar": [
           {
            "marker": {
             "line": {
              "color": "#E5ECF6",
              "width": 0.5
             },
             "pattern": {
              "fillmode": "overlay",
              "size": 10,
              "solidity": 0.2
             }
            },
            "type": "barpolar"
           }
          ],
          "carpet": [
           {
            "aaxis": {
             "endlinecolor": "#2a3f5f",
             "gridcolor": "white",
             "linecolor": "white",
             "minorgridcolor": "white",
             "startlinecolor": "#2a3f5f"
            },
            "baxis": {
             "endlinecolor": "#2a3f5f",
             "gridcolor": "white",
             "linecolor": "white",
             "minorgridcolor": "white",
             "startlinecolor": "#2a3f5f"
            },
            "type": "carpet"
           }
          ],
          "choropleth": [
           {
            "colorbar": {
             "outlinewidth": 0,
             "ticks": ""
            },
            "type": "choropleth"
           }
          ],
          "contour": [
           {
            "colorbar": {
             "outlinewidth": 0,
             "ticks": ""
            },
            "colorscale": [
             [
              0,
              "#0d0887"
             ],
             [
              0.1111111111111111,
              "#46039f"
             ],
             [
              0.2222222222222222,
              "#7201a8"
             ],
             [
              0.3333333333333333,
              "#9c179e"
             ],
             [
              0.4444444444444444,
              "#bd3786"
             ],
             [
              0.5555555555555556,
              "#d8576b"
             ],
             [
              0.6666666666666666,
              "#ed7953"
             ],
             [
              0.7777777777777778,
              "#fb9f3a"
             ],
             [
              0.8888888888888888,
              "#fdca26"
             ],
             [
              1,
              "#f0f921"
             ]
            ],
            "type": "contour"
           }
          ],
          "contourcarpet": [
           {
            "colorbar": {
             "outlinewidth": 0,
             "ticks": ""
            },
            "type": "contourcarpet"
           }
          ],
          "heatmap": [
           {
            "colorbar": {
             "outlinewidth": 0,
             "ticks": ""
            },
            "colorscale": [
             [
              0,
              "#0d0887"
             ],
             [
              0.1111111111111111,
              "#46039f"
             ],
             [
              0.2222222222222222,
              "#7201a8"
             ],
             [
              0.3333333333333333,
              "#9c179e"
             ],
             [
              0.4444444444444444,
              "#bd3786"
             ],
             [
              0.5555555555555556,
              "#d8576b"
             ],
             [
              0.6666666666666666,
              "#ed7953"
             ],
             [
              0.7777777777777778,
              "#fb9f3a"
             ],
             [
              0.8888888888888888,
              "#fdca26"
             ],
             [
              1,
              "#f0f921"
             ]
            ],
            "type": "heatmap"
           }
          ],
          "heatmapgl": [
           {
            "colorbar": {
             "outlinewidth": 0,
             "ticks": ""
            },
            "colorscale": [
             [
              0,
              "#0d0887"
             ],
             [
              0.1111111111111111,
              "#46039f"
             ],
             [
              0.2222222222222222,
              "#7201a8"
             ],
             [
              0.3333333333333333,
              "#9c179e"
             ],
             [
              0.4444444444444444,
              "#bd3786"
             ],
             [
              0.5555555555555556,
              "#d8576b"
             ],
             [
              0.6666666666666666,
              "#ed7953"
             ],
             [
              0.7777777777777778,
              "#fb9f3a"
             ],
             [
              0.8888888888888888,
              "#fdca26"
             ],
             [
              1,
              "#f0f921"
             ]
            ],
            "type": "heatmapgl"
           }
          ],
          "histogram": [
           {
            "marker": {
             "pattern": {
              "fillmode": "overlay",
              "size": 10,
              "solidity": 0.2
             }
            },
            "type": "histogram"
           }
          ],
          "histogram2d": [
           {
            "colorbar": {
             "outlinewidth": 0,
             "ticks": ""
            },
            "colorscale": [
             [
              0,
              "#0d0887"
             ],
             [
              0.1111111111111111,
              "#46039f"
             ],
             [
              0.2222222222222222,
              "#7201a8"
             ],
             [
              0.3333333333333333,
              "#9c179e"
             ],
             [
              0.4444444444444444,
              "#bd3786"
             ],
             [
              0.5555555555555556,
              "#d8576b"
             ],
             [
              0.6666666666666666,
              "#ed7953"
             ],
             [
              0.7777777777777778,
              "#fb9f3a"
             ],
             [
              0.8888888888888888,
              "#fdca26"
             ],
             [
              1,
              "#f0f921"
             ]
            ],
            "type": "histogram2d"
           }
          ],
          "histogram2dcontour": [
           {
            "colorbar": {
             "outlinewidth": 0,
             "ticks": ""
            },
            "colorscale": [
             [
              0,
              "#0d0887"
             ],
             [
              0.1111111111111111,
              "#46039f"
             ],
             [
              0.2222222222222222,
              "#7201a8"
             ],
             [
              0.3333333333333333,
              "#9c179e"
             ],
             [
              0.4444444444444444,
              "#bd3786"
             ],
             [
              0.5555555555555556,
              "#d8576b"
             ],
             [
              0.6666666666666666,
              "#ed7953"
             ],
             [
              0.7777777777777778,
              "#fb9f3a"
             ],
             [
              0.8888888888888888,
              "#fdca26"
             ],
             [
              1,
              "#f0f921"
             ]
            ],
            "type": "histogram2dcontour"
           }
          ],
          "mesh3d": [
           {
            "colorbar": {
             "outlinewidth": 0,
             "ticks": ""
            },
            "type": "mesh3d"
           }
          ],
          "parcoords": [
           {
            "line": {
             "colorbar": {
              "outlinewidth": 0,
              "ticks": ""
             }
            },
            "type": "parcoords"
           }
          ],
          "pie": [
           {
            "automargin": true,
            "type": "pie"
           }
          ],
          "scatter": [
           {
            "fillpattern": {
             "fillmode": "overlay",
             "size": 10,
             "solidity": 0.2
            },
            "type": "scatter"
           }
          ],
          "scatter3d": [
           {
            "line": {
             "colorbar": {
              "outlinewidth": 0,
              "ticks": ""
             }
            },
            "marker": {
             "colorbar": {
              "outlinewidth": 0,
              "ticks": ""
             }
            },
            "type": "scatter3d"
           }
          ],
          "scattercarpet": [
           {
            "marker": {
             "colorbar": {
              "outlinewidth": 0,
              "ticks": ""
             }
            },
            "type": "scattercarpet"
           }
          ],
          "scattergeo": [
           {
            "marker": {
             "colorbar": {
              "outlinewidth": 0,
              "ticks": ""
             }
            },
            "type": "scattergeo"
           }
          ],
          "scattergl": [
           {
            "marker": {
             "colorbar": {
              "outlinewidth": 0,
              "ticks": ""
             }
            },
            "type": "scattergl"
           }
          ],
          "scattermapbox": [
           {
            "marker": {
             "colorbar": {
              "outlinewidth": 0,
              "ticks": ""
             }
            },
            "type": "scattermapbox"
           }
          ],
          "scatterpolar": [
           {
            "marker": {
             "colorbar": {
              "outlinewidth": 0,
              "ticks": ""
             }
            },
            "type": "scatterpolar"
           }
          ],
          "scatterpolargl": [
           {
            "marker": {
             "colorbar": {
              "outlinewidth": 0,
              "ticks": ""
             }
            },
            "type": "scatterpolargl"
           }
          ],
          "scatterternary": [
           {
            "marker": {
             "colorbar": {
              "outlinewidth": 0,
              "ticks": ""
             }
            },
            "type": "scatterternary"
           }
          ],
          "surface": [
           {
            "colorbar": {
             "outlinewidth": 0,
             "ticks": ""
            },
            "colorscale": [
             [
              0,
              "#0d0887"
             ],
             [
              0.1111111111111111,
              "#46039f"
             ],
             [
              0.2222222222222222,
              "#7201a8"
             ],
             [
              0.3333333333333333,
              "#9c179e"
             ],
             [
              0.4444444444444444,
              "#bd3786"
             ],
             [
              0.5555555555555556,
              "#d8576b"
             ],
             [
              0.6666666666666666,
              "#ed7953"
             ],
             [
              0.7777777777777778,
              "#fb9f3a"
             ],
             [
              0.8888888888888888,
              "#fdca26"
             ],
             [
              1,
              "#f0f921"
             ]
            ],
            "type": "surface"
           }
          ],
          "table": [
           {
            "cells": {
             "fill": {
              "color": "#EBF0F8"
             },
             "line": {
              "color": "white"
             }
            },
            "header": {
             "fill": {
              "color": "#C8D4E3"
             },
             "line": {
              "color": "white"
             }
            },
            "type": "table"
           }
          ]
         },
         "layout": {
          "annotationdefaults": {
           "arrowcolor": "#2a3f5f",
           "arrowhead": 0,
           "arrowwidth": 1
          },
          "autotypenumbers": "strict",
          "coloraxis": {
           "colorbar": {
            "outlinewidth": 0,
            "ticks": ""
           }
          },
          "colorscale": {
           "diverging": [
            [
             0,
             "#8e0152"
            ],
            [
             0.1,
             "#c51b7d"
            ],
            [
             0.2,
             "#de77ae"
            ],
            [
             0.3,
             "#f1b6da"
            ],
            [
             0.4,
             "#fde0ef"
            ],
            [
             0.5,
             "#f7f7f7"
            ],
            [
             0.6,
             "#e6f5d0"
            ],
            [
             0.7,
             "#b8e186"
            ],
            [
             0.8,
             "#7fbc41"
            ],
            [
             0.9,
             "#4d9221"
            ],
            [
             1,
             "#276419"
            ]
           ],
           "sequential": [
            [
             0,
             "#0d0887"
            ],
            [
             0.1111111111111111,
             "#46039f"
            ],
            [
             0.2222222222222222,
             "#7201a8"
            ],
            [
             0.3333333333333333,
             "#9c179e"
            ],
            [
             0.4444444444444444,
             "#bd3786"
            ],
            [
             0.5555555555555556,
             "#d8576b"
            ],
            [
             0.6666666666666666,
             "#ed7953"
            ],
            [
             0.7777777777777778,
             "#fb9f3a"
            ],
            [
             0.8888888888888888,
             "#fdca26"
            ],
            [
             1,
             "#f0f921"
            ]
           ],
           "sequentialminus": [
            [
             0,
             "#0d0887"
            ],
            [
             0.1111111111111111,
             "#46039f"
            ],
            [
             0.2222222222222222,
             "#7201a8"
            ],
            [
             0.3333333333333333,
             "#9c179e"
            ],
            [
             0.4444444444444444,
             "#bd3786"
            ],
            [
             0.5555555555555556,
             "#d8576b"
            ],
            [
             0.6666666666666666,
             "#ed7953"
            ],
            [
             0.7777777777777778,
             "#fb9f3a"
            ],
            [
             0.8888888888888888,
             "#fdca26"
            ],
            [
             1,
             "#f0f921"
            ]
           ]
          },
          "colorway": [
           "#636efa",
           "#EF553B",
           "#00cc96",
           "#ab63fa",
           "#FFA15A",
           "#19d3f3",
           "#FF6692",
           "#B6E880",
           "#FF97FF",
           "#FECB52"
          ],
          "font": {
           "color": "#2a3f5f"
          },
          "geo": {
           "bgcolor": "white",
           "lakecolor": "white",
           "landcolor": "#E5ECF6",
           "showlakes": true,
           "showland": true,
           "subunitcolor": "white"
          },
          "hoverlabel": {
           "align": "left"
          },
          "hovermode": "closest",
          "mapbox": {
           "style": "light"
          },
          "paper_bgcolor": "white",
          "plot_bgcolor": "#E5ECF6",
          "polar": {
           "angularaxis": {
            "gridcolor": "white",
            "linecolor": "white",
            "ticks": ""
           },
           "bgcolor": "#E5ECF6",
           "radialaxis": {
            "gridcolor": "white",
            "linecolor": "white",
            "ticks": ""
           }
          },
          "scene": {
           "xaxis": {
            "backgroundcolor": "#E5ECF6",
            "gridcolor": "white",
            "gridwidth": 2,
            "linecolor": "white",
            "showbackground": true,
            "ticks": "",
            "zerolinecolor": "white"
           },
           "yaxis": {
            "backgroundcolor": "#E5ECF6",
            "gridcolor": "white",
            "gridwidth": 2,
            "linecolor": "white",
            "showbackground": true,
            "ticks": "",
            "zerolinecolor": "white"
           },
           "zaxis": {
            "backgroundcolor": "#E5ECF6",
            "gridcolor": "white",
            "gridwidth": 2,
            "linecolor": "white",
            "showbackground": true,
            "ticks": "",
            "zerolinecolor": "white"
           }
          },
          "shapedefaults": {
           "line": {
            "color": "#2a3f5f"
           }
          },
          "ternary": {
           "aaxis": {
            "gridcolor": "white",
            "linecolor": "white",
            "ticks": ""
           },
           "baxis": {
            "gridcolor": "white",
            "linecolor": "white",
            "ticks": ""
           },
           "bgcolor": "#E5ECF6",
           "caxis": {
            "gridcolor": "white",
            "linecolor": "white",
            "ticks": ""
           }
          },
          "title": {
           "x": 0.05
          },
          "xaxis": {
           "automargin": true,
           "gridcolor": "white",
           "linecolor": "white",
           "ticks": "",
           "title": {
            "standoff": 15
           },
           "zerolinecolor": "white",
           "zerolinewidth": 2
          },
          "yaxis": {
           "automargin": true,
           "gridcolor": "white",
           "linecolor": "white",
           "ticks": "",
           "title": {
            "standoff": 15
           },
           "zerolinecolor": "white",
           "zerolinewidth": 2
          }
         }
        },
        "title": {
         "text": "Error Convergence with XOR gate"
        },
        "width": 800,
        "xaxis": {
         "anchor": "y",
         "domain": [
          0,
          1
         ],
         "title": {
          "text": "epochs"
         }
        },
        "yaxis": {
         "anchor": "x",
         "domain": [
          0,
          1
         ],
         "title": {
          "text": "errors"
         }
        }
       }
      }
     },
     "metadata": {},
     "output_type": "display_data"
    }
   ],
   "source": [
    "# plot the error values for XOR gate with ReLU function\n",
    "plot_graph(errors, 'Error Convergence with XOR gate')"
   ]
  },
  {
   "cell_type": "markdown",
   "metadata": {},
   "source": [
    "VARYING LEARNING RATE FOR XOR GATE::"
   ]
  },
  {
   "cell_type": "code",
   "execution_count": 46,
   "metadata": {},
   "outputs": [],
   "source": [
    "training_inputs = np.array([[0, 0], [0, 1], [1, 0], [1, 1]])\n",
    "labels = np.array([0, 1, 1, 0]) # binary step function\n",
    "\n",
    "initial_weights = [10, 0.2, -0.75]\n",
    "learning_rates = [0.1, 0.2, 0.3, 0.4, 0.5, 0.6, 0.7, 0.8, 0.9, 1]\n",
    "\n",
    "# store the number of iterations for each learning rate\n",
    "\n",
    "iterations_to_converge = []\n",
    "\n",
    "for learning_rate in learning_rates:\n",
    "    perceptron = Perceptron(num_inputs=3, learning_rate=learning_rate, initial_weights=initial_weights, activation_function='binary')\n",
    "    training_inputs_with_bias = np.column_stack((np.ones(4), training_inputs))\n",
    "    errors = perceptron.train(training_inputs_with_bias, labels)\n",
    "    iterations_to_converge.append(len(errors))"
   ]
  },
  {
   "cell_type": "code",
   "execution_count": 47,
   "metadata": {},
   "outputs": [
    {
     "data": {
      "application/vnd.plotly.v1+json": {
       "config": {
        "plotlyServerURL": "https://plot.ly"
       },
       "data": [
        {
         "hovertemplate": "learning_rate=%{x}<br>iterations_to_converge=%{y}<extra></extra>",
         "legendgroup": "",
         "line": {
          "color": "#f68b33",
          "dash": "solid"
         },
         "marker": {
          "symbol": "circle"
         },
         "mode": "markers+lines",
         "name": "",
         "orientation": "v",
         "showlegend": false,
         "type": "scatter",
         "x": [
          0.1,
          0.2,
          0.3,
          0.4,
          0.5,
          0.6,
          0.7,
          0.8,
          0.9,
          1
         ],
         "xaxis": "x",
         "y": [
          1000,
          1000,
          1000,
          1000,
          1000,
          1000,
          1000,
          1000,
          1000,
          1000
         ],
         "yaxis": "y"
        }
       ],
       "layout": {
        "height": 400,
        "legend": {
         "tracegroupgap": 0
        },
        "template": {
         "data": {
          "bar": [
           {
            "error_x": {
             "color": "#2a3f5f"
            },
            "error_y": {
             "color": "#2a3f5f"
            },
            "marker": {
             "line": {
              "color": "#E5ECF6",
              "width": 0.5
             },
             "pattern": {
              "fillmode": "overlay",
              "size": 10,
              "solidity": 0.2
             }
            },
            "type": "bar"
           }
          ],
          "barpolar": [
           {
            "marker": {
             "line": {
              "color": "#E5ECF6",
              "width": 0.5
             },
             "pattern": {
              "fillmode": "overlay",
              "size": 10,
              "solidity": 0.2
             }
            },
            "type": "barpolar"
           }
          ],
          "carpet": [
           {
            "aaxis": {
             "endlinecolor": "#2a3f5f",
             "gridcolor": "white",
             "linecolor": "white",
             "minorgridcolor": "white",
             "startlinecolor": "#2a3f5f"
            },
            "baxis": {
             "endlinecolor": "#2a3f5f",
             "gridcolor": "white",
             "linecolor": "white",
             "minorgridcolor": "white",
             "startlinecolor": "#2a3f5f"
            },
            "type": "carpet"
           }
          ],
          "choropleth": [
           {
            "colorbar": {
             "outlinewidth": 0,
             "ticks": ""
            },
            "type": "choropleth"
           }
          ],
          "contour": [
           {
            "colorbar": {
             "outlinewidth": 0,
             "ticks": ""
            },
            "colorscale": [
             [
              0,
              "#0d0887"
             ],
             [
              0.1111111111111111,
              "#46039f"
             ],
             [
              0.2222222222222222,
              "#7201a8"
             ],
             [
              0.3333333333333333,
              "#9c179e"
             ],
             [
              0.4444444444444444,
              "#bd3786"
             ],
             [
              0.5555555555555556,
              "#d8576b"
             ],
             [
              0.6666666666666666,
              "#ed7953"
             ],
             [
              0.7777777777777778,
              "#fb9f3a"
             ],
             [
              0.8888888888888888,
              "#fdca26"
             ],
             [
              1,
              "#f0f921"
             ]
            ],
            "type": "contour"
           }
          ],
          "contourcarpet": [
           {
            "colorbar": {
             "outlinewidth": 0,
             "ticks": ""
            },
            "type": "contourcarpet"
           }
          ],
          "heatmap": [
           {
            "colorbar": {
             "outlinewidth": 0,
             "ticks": ""
            },
            "colorscale": [
             [
              0,
              "#0d0887"
             ],
             [
              0.1111111111111111,
              "#46039f"
             ],
             [
              0.2222222222222222,
              "#7201a8"
             ],
             [
              0.3333333333333333,
              "#9c179e"
             ],
             [
              0.4444444444444444,
              "#bd3786"
             ],
             [
              0.5555555555555556,
              "#d8576b"
             ],
             [
              0.6666666666666666,
              "#ed7953"
             ],
             [
              0.7777777777777778,
              "#fb9f3a"
             ],
             [
              0.8888888888888888,
              "#fdca26"
             ],
             [
              1,
              "#f0f921"
             ]
            ],
            "type": "heatmap"
           }
          ],
          "heatmapgl": [
           {
            "colorbar": {
             "outlinewidth": 0,
             "ticks": ""
            },
            "colorscale": [
             [
              0,
              "#0d0887"
             ],
             [
              0.1111111111111111,
              "#46039f"
             ],
             [
              0.2222222222222222,
              "#7201a8"
             ],
             [
              0.3333333333333333,
              "#9c179e"
             ],
             [
              0.4444444444444444,
              "#bd3786"
             ],
             [
              0.5555555555555556,
              "#d8576b"
             ],
             [
              0.6666666666666666,
              "#ed7953"
             ],
             [
              0.7777777777777778,
              "#fb9f3a"
             ],
             [
              0.8888888888888888,
              "#fdca26"
             ],
             [
              1,
              "#f0f921"
             ]
            ],
            "type": "heatmapgl"
           }
          ],
          "histogram": [
           {
            "marker": {
             "pattern": {
              "fillmode": "overlay",
              "size": 10,
              "solidity": 0.2
             }
            },
            "type": "histogram"
           }
          ],
          "histogram2d": [
           {
            "colorbar": {
             "outlinewidth": 0,
             "ticks": ""
            },
            "colorscale": [
             [
              0,
              "#0d0887"
             ],
             [
              0.1111111111111111,
              "#46039f"
             ],
             [
              0.2222222222222222,
              "#7201a8"
             ],
             [
              0.3333333333333333,
              "#9c179e"
             ],
             [
              0.4444444444444444,
              "#bd3786"
             ],
             [
              0.5555555555555556,
              "#d8576b"
             ],
             [
              0.6666666666666666,
              "#ed7953"
             ],
             [
              0.7777777777777778,
              "#fb9f3a"
             ],
             [
              0.8888888888888888,
              "#fdca26"
             ],
             [
              1,
              "#f0f921"
             ]
            ],
            "type": "histogram2d"
           }
          ],
          "histogram2dcontour": [
           {
            "colorbar": {
             "outlinewidth": 0,
             "ticks": ""
            },
            "colorscale": [
             [
              0,
              "#0d0887"
             ],
             [
              0.1111111111111111,
              "#46039f"
             ],
             [
              0.2222222222222222,
              "#7201a8"
             ],
             [
              0.3333333333333333,
              "#9c179e"
             ],
             [
              0.4444444444444444,
              "#bd3786"
             ],
             [
              0.5555555555555556,
              "#d8576b"
             ],
             [
              0.6666666666666666,
              "#ed7953"
             ],
             [
              0.7777777777777778,
              "#fb9f3a"
             ],
             [
              0.8888888888888888,
              "#fdca26"
             ],
             [
              1,
              "#f0f921"
             ]
            ],
            "type": "histogram2dcontour"
           }
          ],
          "mesh3d": [
           {
            "colorbar": {
             "outlinewidth": 0,
             "ticks": ""
            },
            "type": "mesh3d"
           }
          ],
          "parcoords": [
           {
            "line": {
             "colorbar": {
              "outlinewidth": 0,
              "ticks": ""
             }
            },
            "type": "parcoords"
           }
          ],
          "pie": [
           {
            "automargin": true,
            "type": "pie"
           }
          ],
          "scatter": [
           {
            "fillpattern": {
             "fillmode": "overlay",
             "size": 10,
             "solidity": 0.2
            },
            "type": "scatter"
           }
          ],
          "scatter3d": [
           {
            "line": {
             "colorbar": {
              "outlinewidth": 0,
              "ticks": ""
             }
            },
            "marker": {
             "colorbar": {
              "outlinewidth": 0,
              "ticks": ""
             }
            },
            "type": "scatter3d"
           }
          ],
          "scattercarpet": [
           {
            "marker": {
             "colorbar": {
              "outlinewidth": 0,
              "ticks": ""
             }
            },
            "type": "scattercarpet"
           }
          ],
          "scattergeo": [
           {
            "marker": {
             "colorbar": {
              "outlinewidth": 0,
              "ticks": ""
             }
            },
            "type": "scattergeo"
           }
          ],
          "scattergl": [
           {
            "marker": {
             "colorbar": {
              "outlinewidth": 0,
              "ticks": ""
             }
            },
            "type": "scattergl"
           }
          ],
          "scattermapbox": [
           {
            "marker": {
             "colorbar": {
              "outlinewidth": 0,
              "ticks": ""
             }
            },
            "type": "scattermapbox"
           }
          ],
          "scatterpolar": [
           {
            "marker": {
             "colorbar": {
              "outlinewidth": 0,
              "ticks": ""
             }
            },
            "type": "scatterpolar"
           }
          ],
          "scatterpolargl": [
           {
            "marker": {
             "colorbar": {
              "outlinewidth": 0,
              "ticks": ""
             }
            },
            "type": "scatterpolargl"
           }
          ],
          "scatterternary": [
           {
            "marker": {
             "colorbar": {
              "outlinewidth": 0,
              "ticks": ""
             }
            },
            "type": "scatterternary"
           }
          ],
          "surface": [
           {
            "colorbar": {
             "outlinewidth": 0,
             "ticks": ""
            },
            "colorscale": [
             [
              0,
              "#0d0887"
             ],
             [
              0.1111111111111111,
              "#46039f"
             ],
             [
              0.2222222222222222,
              "#7201a8"
             ],
             [
              0.3333333333333333,
              "#9c179e"
             ],
             [
              0.4444444444444444,
              "#bd3786"
             ],
             [
              0.5555555555555556,
              "#d8576b"
             ],
             [
              0.6666666666666666,
              "#ed7953"
             ],
             [
              0.7777777777777778,
              "#fb9f3a"
             ],
             [
              0.8888888888888888,
              "#fdca26"
             ],
             [
              1,
              "#f0f921"
             ]
            ],
            "type": "surface"
           }
          ],
          "table": [
           {
            "cells": {
             "fill": {
              "color": "#EBF0F8"
             },
             "line": {
              "color": "white"
             }
            },
            "header": {
             "fill": {
              "color": "#C8D4E3"
             },
             "line": {
              "color": "white"
             }
            },
            "type": "table"
           }
          ]
         },
         "layout": {
          "annotationdefaults": {
           "arrowcolor": "#2a3f5f",
           "arrowhead": 0,
           "arrowwidth": 1
          },
          "autotypenumbers": "strict",
          "coloraxis": {
           "colorbar": {
            "outlinewidth": 0,
            "ticks": ""
           }
          },
          "colorscale": {
           "diverging": [
            [
             0,
             "#8e0152"
            ],
            [
             0.1,
             "#c51b7d"
            ],
            [
             0.2,
             "#de77ae"
            ],
            [
             0.3,
             "#f1b6da"
            ],
            [
             0.4,
             "#fde0ef"
            ],
            [
             0.5,
             "#f7f7f7"
            ],
            [
             0.6,
             "#e6f5d0"
            ],
            [
             0.7,
             "#b8e186"
            ],
            [
             0.8,
             "#7fbc41"
            ],
            [
             0.9,
             "#4d9221"
            ],
            [
             1,
             "#276419"
            ]
           ],
           "sequential": [
            [
             0,
             "#0d0887"
            ],
            [
             0.1111111111111111,
             "#46039f"
            ],
            [
             0.2222222222222222,
             "#7201a8"
            ],
            [
             0.3333333333333333,
             "#9c179e"
            ],
            [
             0.4444444444444444,
             "#bd3786"
            ],
            [
             0.5555555555555556,
             "#d8576b"
            ],
            [
             0.6666666666666666,
             "#ed7953"
            ],
            [
             0.7777777777777778,
             "#fb9f3a"
            ],
            [
             0.8888888888888888,
             "#fdca26"
            ],
            [
             1,
             "#f0f921"
            ]
           ],
           "sequentialminus": [
            [
             0,
             "#0d0887"
            ],
            [
             0.1111111111111111,
             "#46039f"
            ],
            [
             0.2222222222222222,
             "#7201a8"
            ],
            [
             0.3333333333333333,
             "#9c179e"
            ],
            [
             0.4444444444444444,
             "#bd3786"
            ],
            [
             0.5555555555555556,
             "#d8576b"
            ],
            [
             0.6666666666666666,
             "#ed7953"
            ],
            [
             0.7777777777777778,
             "#fb9f3a"
            ],
            [
             0.8888888888888888,
             "#fdca26"
            ],
            [
             1,
             "#f0f921"
            ]
           ]
          },
          "colorway": [
           "#636efa",
           "#EF553B",
           "#00cc96",
           "#ab63fa",
           "#FFA15A",
           "#19d3f3",
           "#FF6692",
           "#B6E880",
           "#FF97FF",
           "#FECB52"
          ],
          "font": {
           "color": "#2a3f5f"
          },
          "geo": {
           "bgcolor": "white",
           "lakecolor": "white",
           "landcolor": "#E5ECF6",
           "showlakes": true,
           "showland": true,
           "subunitcolor": "white"
          },
          "hoverlabel": {
           "align": "left"
          },
          "hovermode": "closest",
          "mapbox": {
           "style": "light"
          },
          "paper_bgcolor": "white",
          "plot_bgcolor": "#E5ECF6",
          "polar": {
           "angularaxis": {
            "gridcolor": "white",
            "linecolor": "white",
            "ticks": ""
           },
           "bgcolor": "#E5ECF6",
           "radialaxis": {
            "gridcolor": "white",
            "linecolor": "white",
            "ticks": ""
           }
          },
          "scene": {
           "xaxis": {
            "backgroundcolor": "#E5ECF6",
            "gridcolor": "white",
            "gridwidth": 2,
            "linecolor": "white",
            "showbackground": true,
            "ticks": "",
            "zerolinecolor": "white"
           },
           "yaxis": {
            "backgroundcolor": "#E5ECF6",
            "gridcolor": "white",
            "gridwidth": 2,
            "linecolor": "white",
            "showbackground": true,
            "ticks": "",
            "zerolinecolor": "white"
           },
           "zaxis": {
            "backgroundcolor": "#E5ECF6",
            "gridcolor": "white",
            "gridwidth": 2,
            "linecolor": "white",
            "showbackground": true,
            "ticks": "",
            "zerolinecolor": "white"
           }
          },
          "shapedefaults": {
           "line": {
            "color": "#2a3f5f"
           }
          },
          "ternary": {
           "aaxis": {
            "gridcolor": "white",
            "linecolor": "white",
            "ticks": ""
           },
           "baxis": {
            "gridcolor": "white",
            "linecolor": "white",
            "ticks": ""
           },
           "bgcolor": "#E5ECF6",
           "caxis": {
            "gridcolor": "white",
            "linecolor": "white",
            "ticks": ""
           }
          },
          "title": {
           "x": 0.05
          },
          "xaxis": {
           "automargin": true,
           "gridcolor": "white",
           "linecolor": "white",
           "ticks": "",
           "title": {
            "standoff": 15
           },
           "zerolinecolor": "white",
           "zerolinewidth": 2
          },
          "yaxis": {
           "automargin": true,
           "gridcolor": "white",
           "linecolor": "white",
           "ticks": "",
           "title": {
            "standoff": 15
           },
           "zerolinecolor": "white",
           "zerolinewidth": 2
          }
         }
        },
        "title": {
         "text": "Learning Rate vs Iterations to Converge for XOR gate"
        },
        "width": 800,
        "xaxis": {
         "anchor": "y",
         "domain": [
          0,
          1
         ],
         "title": {
          "text": "learning_rate"
         }
        },
        "yaxis": {
         "anchor": "x",
         "domain": [
          0,
          1
         ],
         "title": {
          "text": "iterations_to_converge"
         }
        }
       }
      }
     },
     "metadata": {},
     "output_type": "display_data"
    }
   ],
   "source": [
    "# plot the graph for learning rate vs iterations to converge\n",
    "df = pd.DataFrame({'learning_rate': learning_rates, 'iterations_to_converge': iterations_to_converge})\n",
    "fig = px.line(df,\n",
    "              x='learning_rate',\n",
    "              y='iterations_to_converge',\n",
    "              title='Learning Rate vs Iterations to Converge for XOR gate',\n",
    "              markers=True,\n",
    "              color_discrete_sequence=['#f68b33'])\n",
    "fig.update_layout(height=400, width=800)\n",
    "fig.show()"
   ]
  },
  {
   "cell_type": "markdown",
   "metadata": {},
   "source": [
    " A7 Neural Network Implementation"
   ]
  },
  {
   "cell_type": "code",
   "execution_count": 48,
   "metadata": {},
   "outputs": [
    {
     "name": "stdout",
     "output_type": "stream",
     "text": [
      "Test the neural network for AND gate logic:\n",
      "Input: [0 0] => Output: 0.0016\n",
      "Input: [0 1] => Output: 0.0456\n",
      "Input: [1 0] => Output: 0.0471\n",
      "Input: [1 1] => Output: 0.9358\n"
     ]
    }
   ],
   "source": [
    "\n",
    "\n",
    "# Define the sigmoid activation function\n",
    "def sigmoid(x):\n",
    "    return 1 / (1 + np.exp(-x))\n",
    "\n",
    "# Initialize the neural network\n",
    "class NeuralNetwork:\n",
    "    def __init__(self, num_inputs, num_hidden, num_outputs, learning_rate=0.05):\n",
    "        self.num_inputs = num_inputs\n",
    "        self.num_hidden = num_hidden\n",
    "        self.num_outputs = num_outputs\n",
    "        self.learning_rate = learning_rate\n",
    "        \n",
    "        # Initialize weights and biases with random values\n",
    "        self.weights_input_hidden = np.random.rand(self.num_inputs, self.num_hidden)\n",
    "        self.bias_hidden = np.random.rand(self.num_hidden)\n",
    "        self.weights_hidden_output = np.random.rand(self.num_hidden, self.num_outputs)\n",
    "        self.bias_output = np.random.rand(self.num_outputs)\n",
    "    \n",
    "    def feedforward(self, inputs):\n",
    "        # Calculate hidden layer output\n",
    "        hidden_layer_input = np.dot(inputs, self.weights_input_hidden) + self.bias_hidden\n",
    "        hidden_layer_output = sigmoid(hidden_layer_input)\n",
    "        \n",
    "        # Calculate output layer output\n",
    "        output_layer_input = np.dot(hidden_layer_output, self.weights_hidden_output) + self.bias_output\n",
    "        output_layer_output = sigmoid(output_layer_input)\n",
    "        \n",
    "        return output_layer_output\n",
    "    \n",
    "    def backpropagation(self, inputs, target):\n",
    "        # Forward pass\n",
    "        hidden_layer_input = np.dot(inputs, self.weights_input_hidden) + self.bias_hidden\n",
    "        hidden_layer_output = sigmoid(hidden_layer_input)\n",
    "        output_layer_input = np.dot(hidden_layer_output, self.weights_hidden_output) + self.bias_output\n",
    "        output_layer_output = sigmoid(output_layer_input)\n",
    "        \n",
    "        # Calculate output layer error\n",
    "        output_error = target - output_layer_output\n",
    "        d_output = output_error * output_layer_output * (1 - output_layer_output)\n",
    "        \n",
    "        # Calculate hidden layer error\n",
    "        hidden_error = d_output.dot(self.weights_hidden_output.T)\n",
    "        d_hidden = hidden_error * hidden_layer_output * (1 - hidden_layer_output)\n",
    "        \n",
    "        # Update weights and biases\n",
    "        self.weights_hidden_output += np.outer(hidden_layer_output, d_output) * self.learning_rate\n",
    "        self.bias_output += d_output * self.learning_rate\n",
    "        self.weights_input_hidden += np.outer(inputs, d_hidden) * self.learning_rate\n",
    "        self.bias_hidden += d_hidden * self.learning_rate\n",
    "    \n",
    "    def train(self, training_inputs, training_outputs, epochs=10000):\n",
    "        for _ in range(epochs):\n",
    "            for inputs, target in zip(training_inputs, training_outputs):\n",
    "                self.backpropagation(inputs, target)\n",
    "    \n",
    "    def predict(self, inputs):\n",
    "        return self.feedforward(inputs)\n",
    "\n",
    "# AND gate truth table\n",
    "training_inputs = np.array([[0, 0], [0, 1], [1, 0], [1, 1]])\n",
    "training_outputs = np.array([[0], [0], [0], [1]])\n",
    "\n",
    "# Initialize the neural network\n",
    "neural_network = NeuralNetwork(num_inputs=2, num_hidden=4, num_outputs=1, learning_rate=0.05)\n",
    "\n",
    "# Train the neural network\n",
    "neural_network.train(training_inputs, training_outputs, epochs=10000)\n",
    "\n",
    "# Test the neural network\n",
    "print(\"Test the neural network for AND gate logic:\")\n",
    "for inputs in training_inputs:\n",
    "    prediction = neural_network.predict(inputs)\n",
    "    print(f\"Input: {inputs} => Output: {prediction[0]:.4f}\")\n"
   ]
  },
  {
   "cell_type": "markdown",
   "metadata": {},
   "source": [
    "WORKING WITH MLP CLASSIFIER::"
   ]
  },
  {
   "cell_type": "code",
   "execution_count": 49,
   "metadata": {},
   "outputs": [],
   "source": [
    "from sklearn.neural_network import MLPClassifier"
   ]
  },
  {
   "cell_type": "code",
   "execution_count": 50,
   "metadata": {},
   "outputs": [],
   "source": [
    "# AND Gate\n",
    "feature_and = [[0, 0], [0, 1], [1, 0], [1, 1]]\n",
    "target_and = [0, 0, 0, 1]\n",
    "\n",
    "# XOR Gate\n",
    "\n",
    "feature_xor = [[0, 0], [0, 1], [1, 0], [1, 1]]\n",
    "target_xor = [0, 1, 1, 0]\n"
   ]
  },
  {
   "cell_type": "code",
   "execution_count": 51,
   "metadata": {},
   "outputs": [
    {
     "name": "stderr",
     "output_type": "stream",
     "text": [
      "c:\\ProgramData\\anaconda3\\Lib\\site-packages\\sklearn\\neural_network\\_multilayer_perceptron.py:691: ConvergenceWarning:\n",
      "\n",
      "Stochastic Optimizer: Maximum iterations (1000) reached and the optimization hasn't converged yet.\n",
      "\n"
     ]
    },
    {
     "data": {
      "text/html": [
       "<style>#sk-container-id-3 {color: black;}#sk-container-id-3 pre{padding: 0;}#sk-container-id-3 div.sk-toggleable {background-color: white;}#sk-container-id-3 label.sk-toggleable__label {cursor: pointer;display: block;width: 100%;margin-bottom: 0;padding: 0.3em;box-sizing: border-box;text-align: center;}#sk-container-id-3 label.sk-toggleable__label-arrow:before {content: \"▸\";float: left;margin-right: 0.25em;color: #696969;}#sk-container-id-3 label.sk-toggleable__label-arrow:hover:before {color: black;}#sk-container-id-3 div.sk-estimator:hover label.sk-toggleable__label-arrow:before {color: black;}#sk-container-id-3 div.sk-toggleable__content {max-height: 0;max-width: 0;overflow: hidden;text-align: left;background-color: #f0f8ff;}#sk-container-id-3 div.sk-toggleable__content pre {margin: 0.2em;color: black;border-radius: 0.25em;background-color: #f0f8ff;}#sk-container-id-3 input.sk-toggleable__control:checked~div.sk-toggleable__content {max-height: 200px;max-width: 100%;overflow: auto;}#sk-container-id-3 input.sk-toggleable__control:checked~label.sk-toggleable__label-arrow:before {content: \"▾\";}#sk-container-id-3 div.sk-estimator input.sk-toggleable__control:checked~label.sk-toggleable__label {background-color: #d4ebff;}#sk-container-id-3 div.sk-label input.sk-toggleable__control:checked~label.sk-toggleable__label {background-color: #d4ebff;}#sk-container-id-3 input.sk-hidden--visually {border: 0;clip: rect(1px 1px 1px 1px);clip: rect(1px, 1px, 1px, 1px);height: 1px;margin: -1px;overflow: hidden;padding: 0;position: absolute;width: 1px;}#sk-container-id-3 div.sk-estimator {font-family: monospace;background-color: #f0f8ff;border: 1px dotted black;border-radius: 0.25em;box-sizing: border-box;margin-bottom: 0.5em;}#sk-container-id-3 div.sk-estimator:hover {background-color: #d4ebff;}#sk-container-id-3 div.sk-parallel-item::after {content: \"\";width: 100%;border-bottom: 1px solid gray;flex-grow: 1;}#sk-container-id-3 div.sk-label:hover label.sk-toggleable__label {background-color: #d4ebff;}#sk-container-id-3 div.sk-serial::before {content: \"\";position: absolute;border-left: 1px solid gray;box-sizing: border-box;top: 0;bottom: 0;left: 50%;z-index: 0;}#sk-container-id-3 div.sk-serial {display: flex;flex-direction: column;align-items: center;background-color: white;padding-right: 0.2em;padding-left: 0.2em;position: relative;}#sk-container-id-3 div.sk-item {position: relative;z-index: 1;}#sk-container-id-3 div.sk-parallel {display: flex;align-items: stretch;justify-content: center;background-color: white;position: relative;}#sk-container-id-3 div.sk-item::before, #sk-container-id-3 div.sk-parallel-item::before {content: \"\";position: absolute;border-left: 1px solid gray;box-sizing: border-box;top: 0;bottom: 0;left: 50%;z-index: -1;}#sk-container-id-3 div.sk-parallel-item {display: flex;flex-direction: column;z-index: 1;position: relative;background-color: white;}#sk-container-id-3 div.sk-parallel-item:first-child::after {align-self: flex-end;width: 50%;}#sk-container-id-3 div.sk-parallel-item:last-child::after {align-self: flex-start;width: 50%;}#sk-container-id-3 div.sk-parallel-item:only-child::after {width: 0;}#sk-container-id-3 div.sk-dashed-wrapped {border: 1px dashed gray;margin: 0 0.4em 0.5em 0.4em;box-sizing: border-box;padding-bottom: 0.4em;background-color: white;}#sk-container-id-3 div.sk-label label {font-family: monospace;font-weight: bold;display: inline-block;line-height: 1.2em;}#sk-container-id-3 div.sk-label-container {text-align: center;}#sk-container-id-3 div.sk-container {/* jupyter's `normalize.less` sets `[hidden] { display: none; }` but bootstrap.min.css set `[hidden] { display: none !important; }` so we also need the `!important` here to be able to override the default hidden behavior on the sphinx rendered scikit-learn.org. See: https://github.com/scikit-learn/scikit-learn/issues/21755 */display: inline-block !important;position: relative;}#sk-container-id-3 div.sk-text-repr-fallback {display: none;}</style><div id=\"sk-container-id-3\" class=\"sk-top-container\"><div class=\"sk-text-repr-fallback\"><pre>MLPClassifier(hidden_layer_sizes=(4,), max_iter=1000)</pre><b>In a Jupyter environment, please rerun this cell to show the HTML representation or trust the notebook. <br />On GitHub, the HTML representation is unable to render, please try loading this page with nbviewer.org.</b></div><div class=\"sk-container\" hidden><div class=\"sk-item\"><div class=\"sk-estimator sk-toggleable\"><input class=\"sk-toggleable__control sk-hidden--visually\" id=\"sk-estimator-id-3\" type=\"checkbox\" checked><label for=\"sk-estimator-id-3\" class=\"sk-toggleable__label sk-toggleable__label-arrow\">MLPClassifier</label><div class=\"sk-toggleable__content\"><pre>MLPClassifier(hidden_layer_sizes=(4,), max_iter=1000)</pre></div></div></div></div></div>"
      ],
      "text/plain": [
       "MLPClassifier(hidden_layer_sizes=(4,), max_iter=1000)"
      ]
     },
     "execution_count": 51,
     "metadata": {},
     "output_type": "execute_result"
    }
   ],
   "source": [
    "# MLPClassifier for AND gate\n",
    "\n",
    "and_classifier = MLPClassifier(hidden_layer_sizes=(4,), activation='relu', max_iter=1000)\n",
    "and_classifier.fit(feature_and, target_and)\n"
   ]
  },
  {
   "cell_type": "code",
   "execution_count": 52,
   "metadata": {},
   "outputs": [
    {
     "name": "stderr",
     "output_type": "stream",
     "text": [
      "c:\\ProgramData\\anaconda3\\Lib\\site-packages\\sklearn\\neural_network\\_multilayer_perceptron.py:691: ConvergenceWarning:\n",
      "\n",
      "Stochastic Optimizer: Maximum iterations (1000) reached and the optimization hasn't converged yet.\n",
      "\n"
     ]
    },
    {
     "data": {
      "text/html": [
       "<style>#sk-container-id-4 {color: black;}#sk-container-id-4 pre{padding: 0;}#sk-container-id-4 div.sk-toggleable {background-color: white;}#sk-container-id-4 label.sk-toggleable__label {cursor: pointer;display: block;width: 100%;margin-bottom: 0;padding: 0.3em;box-sizing: border-box;text-align: center;}#sk-container-id-4 label.sk-toggleable__label-arrow:before {content: \"▸\";float: left;margin-right: 0.25em;color: #696969;}#sk-container-id-4 label.sk-toggleable__label-arrow:hover:before {color: black;}#sk-container-id-4 div.sk-estimator:hover label.sk-toggleable__label-arrow:before {color: black;}#sk-container-id-4 div.sk-toggleable__content {max-height: 0;max-width: 0;overflow: hidden;text-align: left;background-color: #f0f8ff;}#sk-container-id-4 div.sk-toggleable__content pre {margin: 0.2em;color: black;border-radius: 0.25em;background-color: #f0f8ff;}#sk-container-id-4 input.sk-toggleable__control:checked~div.sk-toggleable__content {max-height: 200px;max-width: 100%;overflow: auto;}#sk-container-id-4 input.sk-toggleable__control:checked~label.sk-toggleable__label-arrow:before {content: \"▾\";}#sk-container-id-4 div.sk-estimator input.sk-toggleable__control:checked~label.sk-toggleable__label {background-color: #d4ebff;}#sk-container-id-4 div.sk-label input.sk-toggleable__control:checked~label.sk-toggleable__label {background-color: #d4ebff;}#sk-container-id-4 input.sk-hidden--visually {border: 0;clip: rect(1px 1px 1px 1px);clip: rect(1px, 1px, 1px, 1px);height: 1px;margin: -1px;overflow: hidden;padding: 0;position: absolute;width: 1px;}#sk-container-id-4 div.sk-estimator {font-family: monospace;background-color: #f0f8ff;border: 1px dotted black;border-radius: 0.25em;box-sizing: border-box;margin-bottom: 0.5em;}#sk-container-id-4 div.sk-estimator:hover {background-color: #d4ebff;}#sk-container-id-4 div.sk-parallel-item::after {content: \"\";width: 100%;border-bottom: 1px solid gray;flex-grow: 1;}#sk-container-id-4 div.sk-label:hover label.sk-toggleable__label {background-color: #d4ebff;}#sk-container-id-4 div.sk-serial::before {content: \"\";position: absolute;border-left: 1px solid gray;box-sizing: border-box;top: 0;bottom: 0;left: 50%;z-index: 0;}#sk-container-id-4 div.sk-serial {display: flex;flex-direction: column;align-items: center;background-color: white;padding-right: 0.2em;padding-left: 0.2em;position: relative;}#sk-container-id-4 div.sk-item {position: relative;z-index: 1;}#sk-container-id-4 div.sk-parallel {display: flex;align-items: stretch;justify-content: center;background-color: white;position: relative;}#sk-container-id-4 div.sk-item::before, #sk-container-id-4 div.sk-parallel-item::before {content: \"\";position: absolute;border-left: 1px solid gray;box-sizing: border-box;top: 0;bottom: 0;left: 50%;z-index: -1;}#sk-container-id-4 div.sk-parallel-item {display: flex;flex-direction: column;z-index: 1;position: relative;background-color: white;}#sk-container-id-4 div.sk-parallel-item:first-child::after {align-self: flex-end;width: 50%;}#sk-container-id-4 div.sk-parallel-item:last-child::after {align-self: flex-start;width: 50%;}#sk-container-id-4 div.sk-parallel-item:only-child::after {width: 0;}#sk-container-id-4 div.sk-dashed-wrapped {border: 1px dashed gray;margin: 0 0.4em 0.5em 0.4em;box-sizing: border-box;padding-bottom: 0.4em;background-color: white;}#sk-container-id-4 div.sk-label label {font-family: monospace;font-weight: bold;display: inline-block;line-height: 1.2em;}#sk-container-id-4 div.sk-label-container {text-align: center;}#sk-container-id-4 div.sk-container {/* jupyter's `normalize.less` sets `[hidden] { display: none; }` but bootstrap.min.css set `[hidden] { display: none !important; }` so we also need the `!important` here to be able to override the default hidden behavior on the sphinx rendered scikit-learn.org. See: https://github.com/scikit-learn/scikit-learn/issues/21755 */display: inline-block !important;position: relative;}#sk-container-id-4 div.sk-text-repr-fallback {display: none;}</style><div id=\"sk-container-id-4\" class=\"sk-top-container\"><div class=\"sk-text-repr-fallback\"><pre>MLPClassifier(hidden_layer_sizes=(4,), max_iter=1000)</pre><b>In a Jupyter environment, please rerun this cell to show the HTML representation or trust the notebook. <br />On GitHub, the HTML representation is unable to render, please try loading this page with nbviewer.org.</b></div><div class=\"sk-container\" hidden><div class=\"sk-item\"><div class=\"sk-estimator sk-toggleable\"><input class=\"sk-toggleable__control sk-hidden--visually\" id=\"sk-estimator-id-4\" type=\"checkbox\" checked><label for=\"sk-estimator-id-4\" class=\"sk-toggleable__label sk-toggleable__label-arrow\">MLPClassifier</label><div class=\"sk-toggleable__content\"><pre>MLPClassifier(hidden_layer_sizes=(4,), max_iter=1000)</pre></div></div></div></div></div>"
      ],
      "text/plain": [
       "MLPClassifier(hidden_layer_sizes=(4,), max_iter=1000)"
      ]
     },
     "execution_count": 52,
     "metadata": {},
     "output_type": "execute_result"
    }
   ],
   "source": [
    "# MLPClassifier for XOR gate\n",
    "\n",
    "xor_classifier = MLPClassifier(hidden_layer_sizes=(4,), activation='relu', max_iter=1000)\n",
    "xor_classifier.fit(feature_xor, target_xor)"
   ]
  },
  {
   "cell_type": "code",
   "execution_count": 53,
   "metadata": {},
   "outputs": [
    {
     "name": "stdout",
     "output_type": "stream",
     "text": [
      "Testing AND gate:\n",
      "Input: [0, 0] => Output: 0\n",
      "Input: [0, 1] => Output: 0\n",
      "Input: [1, 0] => Output: 0\n",
      "Input: [1, 1] => Output: 1\n",
      "Testing XOR gate:\n",
      "Input: [0, 0] => Output: 0\n",
      "Input: [0, 1] => Output: 1\n",
      "Input: [1, 0] => Output: 1\n",
      "Input: [1, 1] => Output: 0\n"
     ]
    }
   ],
   "source": [
    "# Test the MLPClassifier for AND gate\n",
    "print(\"Testing AND gate:\")\n",
    "for inputs in feature_and:\n",
    "    prediction = and_classifier.predict([inputs])\n",
    "    print(f\"Input: {inputs} => Output: {prediction[0]}\")\n",
    "\n",
    "# Test the MLPClassifier for XOR gate\n",
    "print(\"Testing XOR gate:\")\n",
    "for inputs in feature_xor:\n",
    "    prediction = xor_classifier.predict([inputs])\n",
    "    print(f\"Input: {inputs} => Output: {prediction[0]}\")"
   ]
  }
 ],
 "metadata": {
  "kernelspec": {
   "display_name": "base",
   "language": "python",
   "name": "python3"
  },
  "language_info": {
   "codemirror_mode": {
    "name": "ipython",
    "version": 3
   },
   "file_extension": ".py",
   "mimetype": "text/x-python",
   "name": "python",
   "nbconvert_exporter": "python",
   "pygments_lexer": "ipython3",
   "version": "3.11.4"
  },
  "orig_nbformat": 4
 },
 "nbformat": 4,
 "nbformat_minor": 2
}
